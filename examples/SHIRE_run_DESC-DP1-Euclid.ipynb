{
 "cells": [
  {
   "cell_type": "code",
   "execution_count": null,
   "id": "c1145136",
   "metadata": {},
   "outputs": [],
   "source": [
    "import os\n",
    "import qp\n",
    "import jax\n",
    "import json\n",
    "import pickle\n",
    "import tables_io\n",
    "import pandas as pd\n",
    "import numpy as np\n",
    "import matplotlib.pyplot as plt\n",
    "import seaborn as sns\n",
    "from jax import numpy as jnp\n",
    "\n",
    "from rail.core.data import TableHandle\n",
    "from rail.core.stage import RailStage\n",
    "from rail.utils.path_utils import RAILDIR\n",
    "from rail.core.common_params import SHARED_PARAMS\n",
    "\n",
    "from rail.shire import ShireInformer, ShireEstimator, hist_outliers, plot_zp_zs_ensemble\n",
    "\n",
    "jax.config.update(\"jax_enable_x64\", True)"
   ]
  },
  {
   "cell_type": "code",
   "execution_count": null,
   "id": "7360d1b4-e013-494e-bbfc-8fd78773a10c",
   "metadata": {},
   "outputs": [],
   "source": [
    "RAILDIR"
   ]
  },
  {
   "cell_type": "code",
   "execution_count": null,
   "id": "dc1a6c51",
   "metadata": {},
   "outputs": [],
   "source": [
    "DS = RailStage.data_store\n",
    "DS.__class__.allow_overwrite = True"
   ]
  },
  {
   "cell_type": "markdown",
   "id": "1a76a826",
   "metadata": {},
   "source": [
    "## Select and load data into the datastore"
   ]
  },
  {
   "cell_type": "code",
   "execution_count": null,
   "id": "e975265a",
   "metadata": {},
   "outputs": [],
   "source": [
    "trainFile = '/global/cfs/projectdirs/desc-pz/DP1/data/train/dp1_matched_v4_train.hdf5'\n",
    "testFile = '/global/cfs/projectdirs/desc-pz/DP1/data/test/dp1_matched_v4_test.hdf5'\n",
    "\n",
    "train_dict = tables_io.read(trainFile)\n",
    "test_dict = tables_io.read(testFile)"
   ]
  },
  {
   "cell_type": "code",
   "execution_count": null,
   "id": "78636daa-db58-4276-8fcc-ec53444db3ae",
   "metadata": {},
   "outputs": [],
   "source": [
    "train_tab = tables_io.convert(train_dict, tables_io.types.PD_DATAFRAME)\n",
    "test_tab = tables_io.convert(test_dict, tables_io.types.PD_DATAFRAME)"
   ]
  },
  {
   "cell_type": "code",
   "execution_count": null,
   "id": "257eb916-ec04-4166-a870-669b0dbc2f71",
   "metadata": {},
   "outputs": [],
   "source": [
    "rename_euclid = {f'euclid_{eb}_unifMag': f'mag_{eb}_euclid' for eb in 'yjh'}\n",
    "rename_euclid_err = {f'euclid_{eb}_unifMagErr': f'mag_err_{eb}_euclid' for eb in 'yjh'}\n",
    "rename_lsst = {f'{b}_cModelMag': f'mag_{b}_lsst' for b in 'ugrizy'}\n",
    "rename_lsst_err = {f'{b}_cModelMagErr': f'mag_err_{b}_lsst' for b in 'ugrizy'}\n",
    "\n",
    "rename_dict = {**rename_euclid, **rename_euclid_err, **rename_lsst, **rename_lsst_err}\n",
    "rename_dict"
   ]
  },
  {
   "cell_type": "code",
   "execution_count": null,
   "id": "2c1eca0a-8adf-444c-820c-0639b1fd6710",
   "metadata": {},
   "outputs": [],
   "source": [
    "train_tab.rename(columns=rename_dict, inplace=True)\n",
    "test_tab.rename(columns=rename_dict, inplace=True)"
   ]
  },
  {
   "cell_type": "code",
   "execution_count": null,
   "id": "d2c9952e-980b-483b-b636-e76c88df8afd",
   "metadata": {},
   "outputs": [],
   "source": [
    "_seltrainsampl = np.logical_and(train_tab['redshift']<=3.0, train_tab['mag_i_lsst']<=25.3)\n",
    "_seltraineucl = np.logical_and(\n",
    "    np.isfinite(train_tab['mag_y_euclid']),\n",
    "    np.logical_and(\n",
    "        np.isfinite(train_tab['mag_j_euclid']),\n",
    "        np.logical_and(np.isfinite(train_tab['mag_h_euclid']),\n",
    "                       np.logical_and(np.isfinite(train_tab['mag_err_y_euclid']),\n",
    "                                      np.logical_and(np.isfinite(train_tab['mag_err_j_euclid']),\n",
    "                                                     np.isfinite(train_tab['mag_err_h_euclid'])\n",
    "                                                    )\n",
    "                                     )\n",
    "                      )\n",
    "    )\n",
    ")\n",
    "_seltrain = np.logical_and(_seltrainsampl, _seltraineucl)\n",
    "train_tab[_seltrain]"
   ]
  },
  {
   "cell_type": "code",
   "execution_count": null,
   "id": "18437264-e4ff-40d9-a790-e8f02a0fb388",
   "metadata": {},
   "outputs": [],
   "source": [
    "_seltestsampl = np.logical_and(test_tab['redshift']<=3.0, test_tab['mag_i_lsst']<=25.3)\n",
    "_seltesteucl = np.logical_and(\n",
    "    np.isfinite(test_tab['mag_y_euclid']),\n",
    "    np.logical_and(\n",
    "        np.isfinite(test_tab['mag_j_euclid']),\n",
    "        np.logical_and(np.isfinite(test_tab['mag_h_euclid']),\n",
    "                       np.logical_and(np.isfinite(test_tab['mag_err_y_euclid']),\n",
    "                                      np.logical_and(np.isfinite(test_tab['mag_err_j_euclid']),\n",
    "                                                     np.isfinite(test_tab['mag_err_h_euclid'])\n",
    "                                                    )\n",
    "                                     )\n",
    "                      )\n",
    "    )\n",
    ")\n",
    "_seltest = np.logical_and(_seltestsampl, _seltesteucl)\n",
    "test_tab[_seltest]"
   ]
  },
  {
   "cell_type": "code",
   "execution_count": null,
   "id": "ea8f3deb-e2f7-4025-94e9-b0f33ad84fa1",
   "metadata": {},
   "outputs": [],
   "source": [
    "training_data = DS.add_data(\"training_data\", train_tab[_seltrain].copy(), TableHandle)\n",
    "test_data = DS.add_data(\n",
    "    \"test_data\",\n",
    "    pd.concat(\n",
    "        (train_tab[_seltrain], test_tab[_seltest]),\n",
    "        axis=0, join='inner', ignore_index=True\n",
    "    ),\n",
    "    TableHandle\n",
    ")"
   ]
  },
  {
   "cell_type": "code",
   "execution_count": null,
   "id": "9d010003-4de7-4f67-8cb8-75363bd2626e",
   "metadata": {},
   "outputs": [],
   "source": [
    "#trainFile = 'dp1_matched_v4_train_forshire.h5' #'/global/cfs/projectdirs/desc-pz/DP1/data/train/dp1_matched_v4_train.hdf5'\n",
    "#testFile = 'dp1_matched_v4_train_forshire.h5' #'/global/cfs/projectdirs/desc-pz/DP1/data/test/dp1_matched_v4_test.hdf5'\n",
    "\n",
    "#training_data = DS.read_file(\"training_data\", TableHandle, trainFile)\n",
    "#test_data = DS.read_file(\"test_data\", TableHandle, testFile)"
   ]
  },
  {
   "cell_type": "code",
   "execution_count": null,
   "id": "e691cb2f",
   "metadata": {},
   "outputs": [],
   "source": [
    "lsst_filts_dict = {f\"{_n}_lsst\": \"filt_lsst\" for _n in \"ugriz\"}\n",
    "euclid_filts_dict = {f\"{_n}_euclid\": \"filt_euclid\" for _n in \"yjh\"}\n",
    "\n",
    "_bands = [ f\"mag_{_k}\" for _k in lsst_filts_dict ] + [ f\"mag_{_k}\" for _k in euclid_filts_dict ] \n",
    "_errbands = [ f\"mag_err_{_k}\" for _k in lsst_filts_dict ] + [ f\"mag_err_{_k}\" for _k in euclid_filts_dict ] "
   ]
  },
  {
   "cell_type": "code",
   "execution_count": null,
   "id": "33687b36-c572-4021-b392-414ce7f0568c",
   "metadata": {},
   "outputs": [],
   "source": [
    "_bands"
   ]
  },
  {
   "cell_type": "markdown",
   "id": "cf8b277f",
   "metadata": {},
   "source": [
    "## Inform the estimator, i.e. select a subset of galaxies as templates"
   ]
  },
  {
   "cell_type": "code",
   "execution_count": null,
   "id": "120fc0be",
   "metadata": {},
   "outputs": [],
   "source": [
    "default_dict_inform = dict(\n",
    "    hdf5_groupname=\"\", #False, #\"photometry\",\n",
    "    #data_path=\"./data\",\n",
    "    bands=_bands,\n",
    "    err_bands=_errbands,\n",
    "    spectra_file=\"dsps_valid_fits_F2SM3_GG_DESI.h5\", # \"dsps_valid_fits_GG_DESI.h5\", # \n",
    "    ssp_file=\"ssp_data_fsps_v3.2_lgmet_age.h5\",\n",
    "    filter_dict={**lsst_filts_dict, **euclid_filts_dict},\n",
    "    wlmin=500.,\n",
    "    wlmax=25000.,\n",
    "    dwl=5.,\n",
    "    #randomsel=True,\n",
    "    ntemplates=50\n",
    ")"
   ]
  },
  {
   "cell_type": "markdown",
   "id": "757d5ee1",
   "metadata": {},
   "source": [
    "### Prepare two informers: one for each method 'SPS' or 'Legacy'\n",
    "- 'SPS' recomputes an SED at every redshift based on the star-formation history of the template galaxy before synthesizing the colours for every value of $z$ along the grid\n",
    "- 'Legacy' computes the SED once at the template galaxy's redshift and uses it to synthesize colours at all $z$ values with the usual transformation $\\lambda_\\mathrm{obs} = (1+z)\\lambda_\\mathrm{em}$"
   ]
  },
  {
   "cell_type": "code",
   "execution_count": null,
   "id": "803f2707",
   "metadata": {},
   "outputs": [],
   "source": [
    "run_shire_inform_sps = ShireInformer.make_stage(\n",
    "    name=\"shireSPS_inform_descDP1_euclid\",\n",
    "    output=\"shireSPS_templates_descDP1_euclid.h5\",\n",
    "    **default_dict_inform,\n",
    "    templ_type=\"SPS\"\n",
    ")\n",
    "\n",
    "run_shire_inform_legacy = ShireInformer.make_stage(\n",
    "    name=\"shireLEG_inform_descDP1_euclid\",\n",
    "    output=\"shireLEG_templates_descDP1_euclid.h5\",\n",
    "    **default_dict_inform,\n",
    "    templ_type=\"Legacy\"\n",
    ")"
   ]
  },
  {
   "cell_type": "code",
   "execution_count": null,
   "id": "c5f6cbbf-1afe-4706-8c49-2403d7965d28",
   "metadata": {},
   "outputs": [],
   "source": [
    "test_data()"
   ]
  },
  {
   "cell_type": "markdown",
   "id": "81238add",
   "metadata": {},
   "source": [
    "### Inform the 'SPS' templates"
   ]
  },
  {
   "cell_type": "code",
   "execution_count": null,
   "id": "df5094ac",
   "metadata": {},
   "outputs": [],
   "source": [
    "%%time\n",
    "run_shire_inform_sps.inform(training_data)"
   ]
  },
  {
   "cell_type": "code",
   "execution_count": null,
   "id": "c1dbdfa1",
   "metadata": {},
   "outputs": [],
   "source": [
    "templ = run_shire_inform_sps.get_handle(\"templates\")\n",
    "templ.read()"
   ]
  },
  {
   "cell_type": "code",
   "execution_count": null,
   "id": "3927a490-c09b-4a91-ad7b-00923b6fff96",
   "metadata": {},
   "outputs": [],
   "source": [
    "templ_df = templ.read()\n",
    "list_f2 = [n for n, row in templ_df.iterrows() if 'fors2' in row['Dataset'].lower()]\n",
    "list_gg = [n for n, d in templ_df['Dataset'].items() if 'gogreen' in d.lower()]\n",
    "list_desi = [n for n, d in templ_df['Dataset'].items() if 'desi' in d.lower()]"
   ]
  },
  {
   "cell_type": "code",
   "execution_count": null,
   "id": "75161e26-e949-4fc1-9425-2750c493a6fa",
   "metadata": {},
   "outputs": [],
   "source": [
    "print(json.dumps(list_f2))\n",
    "print(json.dumps(list_gg))\n",
    "print(json.dumps(list_desi))"
   ]
  },
  {
   "cell_type": "code",
   "execution_count": null,
   "id": "4a7629b7",
   "metadata": {},
   "outputs": [],
   "source": [
    "run_shire_inform_sps.plot_colrs_templates()"
   ]
  },
  {
   "cell_type": "code",
   "execution_count": null,
   "id": "af16e0e1",
   "metadata": {},
   "outputs": [],
   "source": [
    "run_shire_inform_sps.plot_sfh_templates()"
   ]
  },
  {
   "cell_type": "code",
   "execution_count": null,
   "id": "55ec4af3",
   "metadata": {},
   "outputs": [],
   "source": [
    "run_shire_inform_sps.hist_colrs_templates()"
   ]
  },
  {
   "cell_type": "code",
   "execution_count": null,
   "id": "ab4fd8c2",
   "metadata": {},
   "outputs": [],
   "source": [
    "all_templs_df_sps = run_shire_inform_sps._nuvk_classif()\n",
    "f, a = plt.subplots(1,1)\n",
    "sns.scatterplot(\n",
    "    data=all_templs_df_sps, x=\"g_lsst-r_lsst\", y=\"r_lsst-i_lsst\",\n",
    "    hue=\"CAT_NUVK\", hue_order=['E_S0', 'Sbc/Scd', 'Irr'], palette='tab10', alpha=0.5,\n",
    "    size='z_p', sizes=(10, 100),\n",
    "    ax=a\n",
    ")\n",
    "a.grid()"
   ]
  },
  {
   "cell_type": "code",
   "execution_count": null,
   "id": "61a77bc7",
   "metadata": {},
   "outputs": [],
   "source": [
    "run_shire_inform_sps.plot_templ_seds()"
   ]
  },
  {
   "cell_type": "markdown",
   "id": "8bfb6e8e",
   "metadata": {},
   "source": [
    "### Inform the 'Legacy' templates"
   ]
  },
  {
   "cell_type": "code",
   "execution_count": null,
   "id": "1523acb4",
   "metadata": {},
   "outputs": [],
   "source": [
    "%%time\n",
    "run_shire_inform_legacy.inform(training_data)"
   ]
  },
  {
   "cell_type": "code",
   "execution_count": null,
   "id": "d69fc3f8",
   "metadata": {},
   "outputs": [],
   "source": [
    "run_shire_inform_legacy.plot_templ_seds()"
   ]
  },
  {
   "cell_type": "code",
   "execution_count": null,
   "id": "52e9285d",
   "metadata": {},
   "outputs": [],
   "source": [
    "run_shire_inform_legacy.plot_colrs_templates()"
   ]
  },
  {
   "cell_type": "code",
   "execution_count": null,
   "id": "501baa04",
   "metadata": {},
   "outputs": [],
   "source": [
    "all_templs_df_leg = run_shire_inform_legacy._nuvk_classif()\n",
    "f, a = plt.subplots(1,1)\n",
    "sns.scatterplot(\n",
    "    data=all_templs_df_leg, x=\"g_lsst-r_lsst\", y=\"r_lsst-i_lsst\",\n",
    "    hue=\"CAT_NUVK\", hue_order=['E_S0', 'Sbc/Scd', 'Irr'], palette='tab10', alpha=0.5,\n",
    "    size='z_p', sizes=(10, 100),\n",
    "    ax=a\n",
    ")\n",
    "a.grid()"
   ]
  },
  {
   "cell_type": "markdown",
   "id": "4eff8aaf-41a2-476e-8c5a-2fb4bc2ea786",
   "metadata": {},
   "source": [
    "### Plot the prior"
   ]
  },
  {
   "cell_type": "code",
   "execution_count": null,
   "id": "653eddab-c8b3-4493-a59f-cd4b7b04eba0",
   "metadata": {},
   "outputs": [],
   "source": [
    "trainref_df = pd.DataFrame()\n",
    "trainref_df['ref_mag'] = np.array(run_shire_inform_sps.refmags)\n",
    "trainref_df['redshift'] = np.array(run_shire_inform_sps.szs)\n",
    "trainref_df['type_num'] = np.array(run_shire_inform_sps.besttypes)\n",
    "trainref_df['type'] = np.array([run_shire_inform_sps.refcategs[_n] for _n in run_shire_inform_sps.besttypes])"
   ]
  },
  {
   "cell_type": "code",
   "execution_count": null,
   "id": "8d717cf8-66b1-4f8e-a0f4-b674e984cb26",
   "metadata": {},
   "outputs": [],
   "source": [
    "trainref_df[['u-g', 'g-r', 'r-i', 'i-z', 'z-y']] = np.array(run_shire_inform_sps.mags[:, :5] - run_shire_inform_sps.mags[:, 1:6])"
   ]
  },
  {
   "cell_type": "code",
   "execution_count": null,
   "id": "35bac4fc-5d85-4b30-9f3e-da48dbb55acc",
   "metadata": {},
   "outputs": [],
   "source": [
    "f,a = plt.subplots(1,1)\n",
    "sns.histplot(data=trainref_df, x='ref_mag', hue='type', hue_order=['E_S0', 'Sbc/Scd', 'Irr'], palette='tab10', stat='probability', multiple='layer', ax=a)"
   ]
  },
  {
   "cell_type": "code",
   "execution_count": null,
   "id": "c630eba2-4bfe-49db-b45b-43c35dece22a",
   "metadata": {},
   "outputs": [],
   "source": [
    "sns.scatterplot(trainref_df, x='u-g', y='i-z', hue='type', hue_order=['E_S0', 'Sbc/Scd', 'Irr'], palette='tab10', alpha=0.5)"
   ]
  },
  {
   "cell_type": "code",
   "execution_count": null,
   "id": "f1f4005e-722e-41d2-b163-44366112c96f",
   "metadata": {},
   "outputs": [],
   "source": [
    "f,a = plt.subplots(1,1)\n",
    "\n",
    "def frac_func(X, m0, m):\n",
    "    mag = jnp.where(m<m0, m0, m)\n",
    "    fo, kt = X\n",
    "    return fo * jnp.exp(-kt * (mag - m0))\n",
    "\n",
    "def kt3(fo_arr, kt_arr, m0, m):\n",
    "    mag = jnp.where(m<m0, m0, m)\n",
    "    kt_val = -jnp.log((1 - fo_arr[0] * jnp.exp(-kt_arr[0] * (mag - m0)) - fo_arr[1] * jnp.exp(-kt_arr[1] * (mag - m0))) / fo_arr[-1]) / (mag - m0)\n",
    "    return kt_val\n",
    "\n",
    "_order = np.argsort(run_shire_inform_sps.refmags)\n",
    "refmags = jnp.linspace(16, 26, 100) #run_shire_inform_legacy.refmags[_order]\n",
    "\n",
    "for ityp, (typ, _c) in enumerate(zip(run_shire_inform_sps.refcategs, ['tab:blue', 'tab:orange', 'tab:green'])):\n",
    "    fo, kt, nt, m0 = run_shire_inform_sps.model['fo_arr'][ityp],\\\n",
    "        run_shire_inform_sps.model['kt_arr'][ityp],\\\n",
    "        run_shire_inform_sps.model['nt_array'][ityp],\\\n",
    "        run_shire_inform_sps.model['mo'][ityp]\n",
    "    frac = frac_func((fo, kt), m0, refmags)\n",
    "    a.plot(refmags, frac, label=typ, c=_c)\n",
    "\n",
    "default = frac_func((0.3, run_shire_inform_sps.config.init_kt), 20., refmags)\n",
    "a.plot(refmags, default, label='default', c='k')\n",
    "a.legend()"
   ]
  },
  {
   "cell_type": "code",
   "execution_count": null,
   "id": "fa827f11-8b75-47ce-8b27-a081f03d868d",
   "metadata": {},
   "outputs": [],
   "source": [
    "f,a = plt.subplots(1,1)\n",
    "sns.histplot(data=trainref_df, x='redshift', hue='type', hue_order=['E_S0', 'Sbc/Scd', 'Irr'], palette='tab10', stat='density', multiple='layer', ax=a) "
   ]
  },
  {
   "cell_type": "code",
   "execution_count": null,
   "id": "ee842b8f-2b39-4ff9-8cc5-5cb851445d4c",
   "metadata": {},
   "outputs": [],
   "source": [
    "f,a = plt.subplots(1,1)\n",
    "sns.kdeplot(data=trainref_df, x='ref_mag', y='redshift', hue='type', hue_order=['E_S0', 'Sbc/Scd', 'Irr'], palette='tab10', ax=a)"
   ]
  },
  {
   "cell_type": "code",
   "execution_count": null,
   "id": "8e7e53ce-5a6f-4ab9-83a0-011d9f6a3b06",
   "metadata": {},
   "outputs": [],
   "source": [
    "from jax import vmap\n",
    "from jax.scipy.special import gamma as jgamma\n",
    "import pickle\n",
    "\n",
    "def nz_func(m, z, z0, alpha, km, m0):  # pragma: no cover\n",
    "    mag = jnp.where(m<m0, m0, m)\n",
    "    zm = z0 + (km * (mag - m0))\n",
    "    vals = jnp.power(z, alpha) * jnp.exp(- jnp.power((z / zm), alpha))\n",
    "    Inorm = jnp.power(zm, alpha+1) * jgamma(1 + 1 / alpha) / alpha\n",
    "    return vals / Inorm\n",
    "\n",
    "vmap_dndz_z = vmap(\n",
    "    nz_func,\n",
    "    in_axes=(None, 0, None, None, None, None)\n",
    ")\n",
    "\n",
    "bpz_model = {\n",
    "    'fo_arr': jnp.array([0.35, 0.5, 0.15]),\n",
    "    'kt_arr': jnp.array([0.147, 0.450]),\n",
    "    'zo_arr': jnp.array([0.431, 0.39, 0.063]),\n",
    "    'a_arr': jnp.array([2.46, 1.81, 0.91]),\n",
    "    'km_arr': jnp.array([0.091, 0.0636, 0.123]),\n",
    "    'mo': 20.0,\n",
    "    'nt_array': jnp.array([1, 2, 3])\n",
    "}\n",
    "\n",
    "DATDIR = \"/global/u2/j/jcheval/rail_base/src\"\n",
    "cosmospriorfile = os.path.join(DATDIR, \"rail/examples_data/estimation_data/data/COSMOS31_HDFN_prior.pkl\")\n",
    "with open(cosmospriorfile, 'rb') as _f:\n",
    "    cosmos_prior_dict = pickle.load(_f)\n",
    "cosmos_prior_dict['nt_array'] = jnp.array([10, 5, 16])\n",
    "cosmos_prior_dict['mo'] = 20.0\n",
    "\n",
    "for m in np.arange(20, 26, 0.5):\n",
    "    sumprior = np.zeros_like(run_shire_inform_sps.pzs)\n",
    "    sumbpz = np.zeros_like(run_shire_inform_sps.pzs)\n",
    "    sumcos = np.zeros_like(run_shire_inform_sps.pzs)\n",
    "    f,a = plt.subplots(1,2, figsize=(12, 5))\n",
    "    pzs = jnp.array(run_shire_inform_sps.pzs)\n",
    "    for ityp, (typ, _c) in enumerate(zip(run_shire_inform_sps.refcategs, ['tab:blue', 'tab:orange', 'tab:green'])):\n",
    "        fo, kt, z0, alpha, km, nt, m0 = run_shire_inform_sps.model['fo_arr'][ityp],\\\n",
    "            run_shire_inform_sps.model['kt_arr'][ityp],\\\n",
    "            run_shire_inform_sps.model['zo_arr'][ityp],\\\n",
    "            run_shire_inform_sps.model['a_arr'][ityp],\\\n",
    "            run_shire_inform_sps.model['km_arr'][ityp],\\\n",
    "            run_shire_inform_sps.model['nt_array'][ityp]/pzs.shape[0],\\\n",
    "            run_shire_inform_sps.model['mo'][ityp]\n",
    "        frac = frac_func((fo, kt), m0, m)#/nt #*np.sum(run_shire_inform_legacy.model['nt_array'])\n",
    "        vals = vmap_dndz_z(m, pzs, z0, alpha, km, m0) * frac\n",
    "        norm = jnp.trapezoid(vals, x=pzs)\n",
    "        a[0].plot(pzs, vals, label=\"SHIRE-\"+typ, c=_c, lw=3)\n",
    "        sumprior+=jnp.where(jnp.isfinite(vals*frac), vals*frac, 0.)\n",
    "\n",
    "        z0bpz, albpz, kmbpz, m0bpz, ntbpz = bpz_model['zo_arr'][ityp],\\\n",
    "            bpz_model['a_arr'][ityp],\\\n",
    "            bpz_model['km_arr'][ityp],\\\n",
    "            bpz_model['mo'],\\\n",
    "            bpz_model['nt_array'][ityp]\n",
    "        fobpz = bpz_model['fo_arr'][ityp] if ityp<2 \\\n",
    "            else 1-np.sum(bpz_model['fo_arr'])\n",
    "        ktbpz = bpz_model['kt_arr'][ityp] if ityp<2 \\\n",
    "            else kt3(bpz_model['fo_arr'], bpz_model['kt_arr'], m0bpz, m)\n",
    "        fracbpz = frac_func((fobpz, ktbpz), m0bpz, m)#/ntbpz #*np.sum(bpz_model['nt_array'])\n",
    "        valsbpz = vmap_dndz_z(m, pzs, z0bpz, albpz, kmbpz, m0bpz) * fracbpz\n",
    "        normbpz = jnp.trapezoid(valsbpz, x=pzs)\n",
    "        \n",
    "        a[0].plot(pzs, valsbpz, label=\"BPZ-\"+typ, c=_c, ls=':')\n",
    "        sumbpz+=jnp.where(jnp.isfinite(valsbpz*fracbpz), valsbpz*fracbpz, 0.)\n",
    "        \n",
    "        z0cos, alcos, kmcos, m0cos, ntcos = cosmos_prior_dict['zo_arr'][ityp],\\\n",
    "            cosmos_prior_dict['a_arr'][ityp],\\\n",
    "            cosmos_prior_dict['km_arr'][ityp],\\\n",
    "            cosmos_prior_dict['mo'],\\\n",
    "            cosmos_prior_dict['nt_array'][ityp]\n",
    "        focos = cosmos_prior_dict['fo_arr'][ityp] if ityp<2 \\\n",
    "            else 1-np.sum(cosmos_prior_dict['fo_arr'])\n",
    "        ktcos = cosmos_prior_dict['kt_arr'][ityp] if ityp<2 \\\n",
    "            else kt3(cosmos_prior_dict['fo_arr'], cosmos_prior_dict['kt_arr'], m0bpz, m)\n",
    "        fraccos = frac_func((focos, ktcos), m0cos, m)#/ntcos #*np.sum(cosmos_prior_dict['nt_array'])\n",
    "        valscos = vmap_dndz_z(m, pzs, z0cos, alcos, kmcos, m0cos) * fraccos\n",
    "        normcos = jnp.trapezoid(valscos, x=pzs)\n",
    "        a[0].plot(pzs, valscos, label=\"COSMOS-\"+typ, c=_c, ls=(0, (3, 5, 1, 5)))\n",
    "        sumcos+=jnp.where(jnp.isfinite(valscos*fraccos), valscos*fraccos, 0.)\n",
    "        \n",
    "    valdefault = vmap_dndz_z(\n",
    "        m, pzs,\n",
    "        run_shire_inform_sps.config.init_z0,\n",
    "        run_shire_inform_sps.config.init_alpha,\n",
    "        run_shire_inform_sps.config.init_km,\n",
    "        20.0\n",
    "    )\n",
    "    fracdef = frac_func((1/3, run_shire_inform_sps.config.init_kt), 20.0, m) #/1*3\n",
    "    normdef = jnp.trapezoid(valdefault*fracdef, x=pzs)\n",
    "    a[0].plot(pzs, valdefault*fracdef, c='k', label='Default')\n",
    "    a[0].legend()\n",
    "\n",
    "    normprior = jnp.trapezoid(sumprior, x=pzs)\n",
    "    normbpz = jnp.trapezoid(sumbpz, x=pzs)\n",
    "    normcos = jnp.trapezoid(sumcos, x=pzs)\n",
    "    normdef = jnp.trapezoid(valdefault*fracdef, x=pzs)\n",
    "    a[1].plot(pzs, valdefault*fracdef/normdef, c='k', label='Default')\n",
    "    a[1].plot(pzs, sumprior/normprior, label=\"SHIRE\", lw=3)\n",
    "    a[1].plot(pzs, sumbpz/normbpz, label=\"BPZ\", ls=':')\n",
    "    a[1].plot(pzs, sumcos/normcos, label=\"COSMOS\", ls=(0, (3, 5, 1, 5)))\n",
    "    a[1].legend()\n",
    "    a[0].set_title(f'Priors for 3 categories of galaxies')\n",
    "    a[1].set_title('Marginalised prior distributions (sum on galaxy types)')\n",
    "    a[0].set_xlabel('Redshift z')\n",
    "    a[1].set_xlabel('Redshift z')\n",
    "    a[0].set_ylabel('PDF')\n",
    "    a[1].set_ylabel('PDF')\n",
    "    f.suptitle(f'Comparison of prior distributions at m={m:.2f}')"
   ]
  },
  {
   "cell_type": "markdown",
   "id": "2d4bec01",
   "metadata": {},
   "source": [
    "## Run the photometric redshifts estimation"
   ]
  },
  {
   "cell_type": "markdown",
   "id": "146469ca",
   "metadata": {},
   "source": [
    "### Build two estimators\n",
    "Again, one is for the \"SPS\" method and the other is for the \"Legacy\" method. Though both `estimate` stages could work with templates from either `inform` stage, it makes more sense to keep things consistent and load the appropriate `handles` from the corresponding `inform` stage."
   ]
  },
  {
   "cell_type": "code",
   "execution_count": null,
   "id": "437057b6-1acd-48c1-ba48-a87439e229bb",
   "metadata": {},
   "outputs": [],
   "source": [
    "use_prior = True\n",
    "_suffix = \"\" if use_prior else \"_noprior\""
   ]
  },
  {
   "cell_type": "code",
   "execution_count": null,
   "id": "e8a943e8",
   "metadata": {},
   "outputs": [],
   "source": [
    "default_dict_estimate = dict(\n",
    "    hdf5_groupname=\"\", #\"photometry\",\n",
    "    #data_path=\"./data\",\n",
    "    bands=_bands,\n",
    "    err_bands=_errbands,\n",
    "    zmin=0.01,\n",
    "    zmax=3.1,\n",
    "    nzbins=510,\n",
    "    ssp_file=\"ssp_data_fsps_v3.2_lgmet_age.h5\",\n",
    "    filter_dict={**lsst_filts_dict, **euclid_filts_dict},\n",
    "    wlmin=500.,\n",
    "    wlmax=25000.,\n",
    "    dwl=5.,\n",
    "    no_prior=not(use_prior),\n",
    "    chunk_size=1000\n",
    ")\n",
    "\n",
    "run_shire_estimate_sps = ShireEstimator.make_stage(\n",
    "    name=\"shireSPS_estimate_descDP1_euclid\"+_suffix,\n",
    "    output=f\"shireSPS_results_descDP1_euclid{_suffix}.hdf5\",\n",
    "    **default_dict_estimate,\n",
    "    templ_type=\"SPS\",\n",
    "    templates=run_shire_inform_sps.get_handle(\"templates\"),\n",
    "    model=run_shire_inform_sps.get_handle(\"model\")\n",
    ")\n",
    "\n",
    "run_shire_estimate_legacy = ShireEstimator.make_stage(\n",
    "    name=\"shireLEG_estimate_descDP1_euclid\"+_suffix,\n",
    "    output=f\"shireLEG_results_descDP1_euclid{_suffix}.hdf5\",\n",
    "    **default_dict_estimate,\n",
    "    templ_type=\"Legacy\",\n",
    "    templates=run_shire_inform_legacy.get_handle(\"templates\"),\n",
    "    model=run_shire_inform_legacy.get_handle(\"model\")\n",
    ")"
   ]
  },
  {
   "cell_type": "markdown",
   "id": "2798de72-c286-471b-a7e9-07136f48c5f8",
   "metadata": {},
   "source": [
    "### Run a reference Estimator (BPZ)"
   ]
  },
  {
   "cell_type": "code",
   "execution_count": null,
   "id": "769dbf1f-c42c-43ac-8b5a-d211709101c3",
   "metadata": {},
   "outputs": [],
   "source": [
    "typefile = 'training_types_legacy_dp1_euclid.hdf5'\n",
    "typ_df = pd.DataFrame()\n",
    "traintypes = np.array(run_shire_inform_sps.besttypes)\n",
    "typ_df['types'] = traintypes #np.where(traintypes > 1, traintypes-1, traintypes)\n",
    "tables_io.write(typ_df, typefile)\n",
    "typ_df['types']"
   ]
  },
  {
   "cell_type": "code",
   "execution_count": null,
   "id": "8966d0b3-e763-44bb-a84b-99fbb6ecfb89",
   "metadata": {},
   "outputs": [],
   "source": [
    "from rail.estimation.algos.bpz_lite import BPZliteInformer, BPZliteEstimator\n",
    "\n",
    "from rail.core.data import ModelHandle\n",
    "\n",
    "RAILDIR = \"/global/u2/j/jcheval/rail_base/src\"\n",
    "\n",
    "cosmospriorfile = os.path.join(RAILDIR, \"rail/examples_data/estimation_data/data/COSMOS31_HDFN_prior.pkl\")\n",
    "cosmosprior = DS.read_file(\"cosmos_prior\", ModelHandle, cosmospriorfile)\n",
    "sedfile = \"COSMOS_seds.list\" #os.path.join(RAILDIR, \"rail/examples_data/estimation_data/data/SED/COSMOS_seds.list\")\n",
    "\n",
    "filter_list = [f\"DC2LSST_{b.split('_')[0]}\" for b in lsst_filts_dict.keys()]\n",
    "\n",
    "cosmos_dict = dict(\n",
    "    hdf5_groupname=\"\", #\"photometry\",\n",
    "    output=f\"BPZ_results_descDP1_euclid{_suffix}.hdf5\",\n",
    "    spectra_file=sedfile,\n",
    "    bands=[ f\"mag_{_k}_lsst\" for _k in \"ugrizy\"],\n",
    "    err_bands=[ f\"mag_err_{_k}_lsst\" for _k in \"ugrizy\"],\n",
    "    filter_list=[f\"DC2LSST_{_k}\" for _k in \"ugrizy\"],\n",
    "    wlmin=500.,\n",
    "    wlmax=25000.,\n",
    "    dwl=5.,\n",
    "    zmin=0.01,\n",
    "    zmax=3.1,\n",
    "    nzbins=510,\n",
    "    prior_band=\"mag_i_lsst\",\n",
    "    data_path=\"/global/u2/j/jcheval/rail_base/src/rail/examples_data/estimation_data/data\",\n",
    "    no_prior=not(use_prior),\n",
    "    chunk_size=5000\n",
    ")\n",
    "\n",
    "inform_bpz = BPZliteInformer.make_stage(\n",
    "    name=\"BPZ_inform_descDP1_euclid\",\n",
    "    hdf5_groupname=\"\", #\"photometry\",\n",
    "    nondetect_val=jnp.nan,\n",
    "    bands=[ f\"mag_{_k}_lsst\" for _k in \"ugrizy\"],\n",
    "    err_bands=[ f\"mag_err_{_k}_lsst\" for _k in \"ugrizy\"],\n",
    "    filter_list=[f\"DC2LSST_{_k}\" for _k in \"ugrizy\"],\n",
    "    prior_band=\"mag_i_lsst\",\n",
    "    wlmin=500.,\n",
    "    wlmax=25000.,\n",
    "    dwl=5.,\n",
    "    data_path=\"/global/u2/j/jcheval/rail_base/src/rail/examples_data/estimation_data/data\",\n",
    "    nt_array=[10, 5, 16],\n",
    "    type_file=typefile\n",
    ")"
   ]
  },
  {
   "cell_type": "code",
   "execution_count": null,
   "id": "452f94c8-cea0-4deb-aad8-f714e6d5ce87",
   "metadata": {},
   "outputs": [],
   "source": [
    "%%time\n",
    "inform_bpz.inform(training_data)"
   ]
  },
  {
   "cell_type": "code",
   "execution_count": null,
   "id": "608ace74-90c5-4d4c-8a71-252785ed5f9e",
   "metadata": {},
   "outputs": [],
   "source": [
    "estimate_bpz = BPZliteEstimator.make_stage(\n",
    "    name=\"BPZ_estimate_descDP1_euclid\"+_suffix,\n",
    "    model= cosmosprior, # inform_bpz.get_handle(\"model\"), #\n",
    "    **cosmos_dict\n",
    ")"
   ]
  },
  {
   "cell_type": "code",
   "execution_count": null,
   "id": "4c42500e-fa31-4c87-89b0-ca0312a1496e",
   "metadata": {},
   "outputs": [],
   "source": [
    "%%time\n",
    "estimate_bpz.estimate(test_data)"
   ]
  },
  {
   "cell_type": "code",
   "execution_count": null,
   "id": "3219dabe-465e-41c4-bd57-9e850f2cf76d",
   "metadata": {},
   "outputs": [],
   "source": [
    "pdfs_file_bpz = f\"BPZ_results_descDP1_euclid{_suffix}.hdf5\"\n",
    "custom_res_bpz = qp.read(pdfs_file_bpz)\n",
    "sz = jnp.array(test_data()['redshift']) #['photometry']['redshift'])"
   ]
  },
  {
   "cell_type": "code",
   "execution_count": null,
   "id": "1b9fd32c-3067-4c43-9678-115f4a72cdf7",
   "metadata": {},
   "outputs": [],
   "source": [
    "a = plot_zp_zs_ensemble(\n",
    "    custom_res_bpz, sz,\n",
    "    z_grid=None, key_estim=\"zmode\",\n",
    "    label='_'.join(['BPZ']+(os.path.splitext(pdfs_file_bpz)[0]).split('_')[2:]))\n",
    "plt.show()"
   ]
  },
  {
   "cell_type": "markdown",
   "id": "9c2246b7",
   "metadata": {},
   "source": [
    "### Run the \"SPS\" estimation"
   ]
  },
  {
   "cell_type": "code",
   "execution_count": null,
   "id": "f0027e11",
   "metadata": {},
   "outputs": [],
   "source": [
    "%%time\n",
    "run_shire_estimate_sps.estimate(test_data)"
   ]
  },
  {
   "cell_type": "code",
   "execution_count": null,
   "id": "e3b64c93",
   "metadata": {},
   "outputs": [],
   "source": [
    "pdfs_file_sps = f\"shireSPS_results_descDP1_euclid{_suffix}.hdf5\"\n",
    "custom_res_sps = qp.read(pdfs_file_sps)\n",
    "sz = jnp.array(test_data()['redshift']) #['photometry']['redshift'])"
   ]
  },
  {
   "cell_type": "code",
   "execution_count": null,
   "id": "c389fec0",
   "metadata": {},
   "outputs": [],
   "source": [
    "a = plot_zp_zs_ensemble(\n",
    "    custom_res_sps, sz,\n",
    "    z_grid=None, key_estim=\"zmode\",\n",
    "    label='_'.join(['SHIRE_SPS']+(os.path.splitext(pdfs_file_sps)[0]).split('_')[2:]))\n",
    "plt.show()"
   ]
  },
  {
   "cell_type": "markdown",
   "id": "a150989d",
   "metadata": {},
   "source": [
    "### Run the \"Legacy\" estimation"
   ]
  },
  {
   "cell_type": "code",
   "execution_count": null,
   "id": "4d477994",
   "metadata": {},
   "outputs": [],
   "source": [
    "%%time\n",
    "run_shire_estimate_legacy.estimate(test_data)"
   ]
  },
  {
   "cell_type": "code",
   "execution_count": null,
   "id": "8223c82e",
   "metadata": {},
   "outputs": [],
   "source": [
    "pdfs_file_legacy = f\"shireLEG_results_descDP1_euclid{_suffix}.hdf5\"\n",
    "custom_res_legacy = qp.read(pdfs_file_legacy)\n",
    "# sz = jnp.array(test_data()['photometry']['redshift']) -- Unnecessary"
   ]
  },
  {
   "cell_type": "code",
   "execution_count": null,
   "id": "7a72b171",
   "metadata": {},
   "outputs": [],
   "source": [
    "a = plot_zp_zs_ensemble(\n",
    "    custom_res_legacy, sz,\n",
    "    z_grid=None, key_estim=\"zmode\",\n",
    "    label='_'.join(['SHIRE_Legacy']+(os.path.splitext(pdfs_file_legacy)[0]).split('_')[2:]))\n",
    "plt.show()"
   ]
  },
  {
   "cell_type": "markdown",
   "id": "22a70e33",
   "metadata": {},
   "source": [
    "### Compare outliers distribution between both methods"
   ]
  },
  {
   "cell_type": "code",
   "execution_count": null,
   "id": "07cc5eb3-db4a-4159-8fb0-407160d57217",
   "metadata": {},
   "outputs": [],
   "source": [
    "#pdfs_file_bpz = \"bpz_results_COSMOS_SEDs_LSST.hdf5\"\n",
    "#custom_res_bpz = qp.read(pdfs_file_bpz)"
   ]
  },
  {
   "cell_type": "code",
   "execution_count": null,
   "id": "da5d366d",
   "metadata": {},
   "outputs": [],
   "source": [
    "hist_outliers(\n",
    "    custom_res_sps, sz, label1='_'.join(['SHIRE_SPS']+(os.path.splitext(pdfs_file_sps)[0]).split('_')[2:]),\n",
    "    qp_ens_2=custom_res_legacy, label2='_'.join(['SHIRE_Legacy']+(os.path.splitext(pdfs_file_legacy)[0]).split('_')[2:]),\n",
    "    qp_ens_3=custom_res_bpz, label3='_'.join(['BPZ']+(os.path.splitext(pdfs_file_legacy)[0]).split('_')[2:])\n",
    ")\n",
    "plt.show()"
   ]
  },
  {
   "cell_type": "markdown",
   "id": "403322d1",
   "metadata": {},
   "source": [
    "## Evaluate posteriors using `RAIL` "
   ]
  },
  {
   "cell_type": "markdown",
   "id": "9e608ab9-e435-420c-8b8d-f8db7bbd77c3",
   "metadata": {},
   "source": [
    "Check out [Evaluation_demo_LSSTsim.ipynb](rail_shire/examples/Evaluation_demo_LSSTsim.ipynb) !"
   ]
  },
  {
   "cell_type": "markdown",
   "id": "6410eb96",
   "metadata": {},
   "source": [
    "## Build a pipeline with `ceci`"
   ]
  },
  {
   "cell_type": "code",
   "execution_count": null,
   "id": "acb5935e",
   "metadata": {},
   "outputs": [],
   "source": [
    "import ceci\n",
    "pipe = ceci.Pipeline.interactive()\n",
    "stages = [run_shire_inform_sps, run_shire_estimate_sps]\n",
    "for stage in stages:\n",
    "    pipe.add_stage(stage)\n",
    "pipe.stage_execution_config['shireSPS_estimate_descDP1_euclid'+_suffix].nprocess=1"
   ]
  },
  {
   "cell_type": "code",
   "execution_count": null,
   "id": "39ce1411",
   "metadata": {},
   "outputs": [],
   "source": [
    "pipe.initialize(\n",
    "    dict(\n",
    "        training_data=trainFile,\n",
    "        test_data=testFile\n",
    "    ),\n",
    "    dict(\n",
    "        output_dir='.',\n",
    "        log_dir='.',\n",
    "        resume=False\n",
    "    ),\n",
    "    None\n",
    ")"
   ]
  },
  {
   "cell_type": "code",
   "execution_count": null,
   "id": "b54b0b5d",
   "metadata": {},
   "outputs": [],
   "source": [
    "pipe.save(f'rail_shireSPS_descDP1_euclid_pz{_suffix}.yml')"
   ]
  },
  {
   "cell_type": "code",
   "execution_count": null,
   "id": "4e589666",
   "metadata": {},
   "outputs": [],
   "source": [
    "pr = ceci.Pipeline.read(f'rail_shireSPS_descDP1_euclid_pz{_suffix}.yml')"
   ]
  },
  {
   "cell_type": "code",
   "execution_count": null,
   "id": "9927b847",
   "metadata": {},
   "outputs": [],
   "source": [
    "#pr.run()"
   ]
  }
 ],
 "metadata": {
  "kernelspec": {
   "display_name": "PhotoZ_GPU",
   "language": "python",
   "name": "condapzf2"
  },
  "language_info": {
   "codemirror_mode": {
    "name": "ipython",
    "version": 3
   },
   "file_extension": ".py",
   "mimetype": "text/x-python",
   "name": "python",
   "nbconvert_exporter": "python",
   "pygments_lexer": "ipython3",
   "version": "3.11.12"
  }
 },
 "nbformat": 4,
 "nbformat_minor": 5
}
