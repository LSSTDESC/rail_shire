{
 "cells": [
  {
   "cell_type": "markdown",
   "id": "ac0512c7-990d-4743-80c3-ab0e860b7279",
   "metadata": {},
   "source": [
    "# Draw a training sample from COSMOS2020 data\n",
    "Using simple `pandas` functions."
   ]
  },
  {
   "cell_type": "code",
   "execution_count": null,
   "id": "bddf5d1e-2134-4f69-b094-cb1692f56cf0",
   "metadata": {},
   "outputs": [],
   "source": [
    "import os\n",
    "import pandas as pd\n",
    "import numpy as np\n",
    "import h5py\n",
    "from sedpy import observate\n",
    "import matplotlib as mpl\n",
    "import matplotlib.pyplot as plt"
   ]
  },
  {
   "cell_type": "markdown",
   "id": "0c9721a2-3b4a-4602-9484-6565139558a9",
   "metadata": {},
   "source": [
    "## Load the data"
   ]
  },
  {
   "cell_type": "code",
   "execution_count": null,
   "id": "cce891f3-f645-4bd9-b544-ae78c3ef87fd",
   "metadata": {},
   "outputs": [],
   "source": [
    "infile = os.path.abspath(\n",
    "    os.path.join('.', 'data', 'COSMOS2020_emu_hscOnly_CC_zinf3_noNaN.h5') # , 'COSMOS2020_emu_CC.h5') # \n",
    ")"
   ]
  },
  {
   "cell_type": "code",
   "execution_count": null,
   "id": "13097c54-1559-4861-908a-8e5d83a3d1ba",
   "metadata": {},
   "outputs": [],
   "source": [
    "indf = pd.read_hdf(infile)\n",
    "indf"
   ]
  },
  {
   "cell_type": "markdown",
   "id": "2d724e2d-22b2-4312-8abf-e469228c5867",
   "metadata": {},
   "source": [
    "## Draw an appropriate sample"
   ]
  },
  {
   "cell_type": "code",
   "execution_count": null,
   "id": "7b0fd5ea-c865-47cd-8cdc-981886e14cab",
   "metadata": {},
   "outputs": [],
   "source": [
    "ntrain = int(max(10*indf.shape[0]/100, 5000)) if indf.shape[0] > 10000 else int(30*indf.shape[0]/100)\n",
    "ntrain"
   ]
  },
  {
   "cell_type": "code",
   "execution_count": null,
   "id": "672be5e9-ae52-450c-99d2-b0904d174029",
   "metadata": {},
   "outputs": [],
   "source": [
    "traindf = indf.sample(n=ntrain, replace=False)\n",
    "traindf"
   ]
  },
  {
   "cell_type": "markdown",
   "id": "dfb64eb1-bad2-46c0-bac6-68f8b8e20f5f",
   "metadata": {},
   "source": [
    "## Write it to a new file"
   ]
  },
  {
   "cell_type": "code",
   "execution_count": null,
   "id": "b34dbf47-40de-4b40-a4d9-59a9a0aa5f36",
   "metadata": {},
   "outputs": [],
   "source": [
    "with h5py.File(infile, 'r') as h5f:\n",
    "    print(h5f.keys())\n",
    "    dfkey = list(h5f.keys())[0]\n",
    "dfkey"
   ]
  },
  {
   "cell_type": "code",
   "execution_count": null,
   "id": "dbcac7ad-5e0e-4f79-9ead-4c4fc699217d",
   "metadata": {},
   "outputs": [],
   "source": [
    "outdir, bn = os.path.split(infile)\n",
    "in_n, ext = os.path.splitext(bn)\n",
    "endstr = f\"sample{ntrain//1000}k\" if ntrain > 1000 else f\"sample{ntrain}\"\n",
    "outfile = os.path.join(\n",
    "    outdir,\n",
    "    '_'.join((in_n, endstr))+ext\n",
    ")\n",
    "outfile"
   ]
  },
  {
   "cell_type": "code",
   "execution_count": null,
   "id": "c5cef246-0810-45c6-a10a-e39d0d6a5b8a",
   "metadata": {},
   "outputs": [],
   "source": [
    "#traindf.to_hdf(outfile, key=dfkey, mode='w')"
   ]
  },
  {
   "cell_type": "markdown",
   "id": "cfb723c6-0c1c-4207-9be0-7042e693ac35",
   "metadata": {},
   "source": [
    "## Plot the filters\n",
    "Because why not."
   ]
  },
  {
   "cell_type": "code",
   "execution_count": null,
   "id": "d08aeff3-1e26-4811-afa2-750433866a86",
   "metadata": {},
   "outputs": [],
   "source": [
    "filt_list = [ '_'.join(_str.split('_')[1:]) for _str in traindf.columns if 'mag' in _str and not 'err' in _str ]\n",
    "filt_dic = { _filt: '' if _filt in observate.list_available_filters() else os.path.join('.', 'data', 'FILTER', 'filt_cosmos') for _filt in filt_list }\n",
    "filt_dic"
   ]
  },
  {
   "cell_type": "code",
   "execution_count": null,
   "id": "a73352b1-e0fc-47e4-8f6d-da492c5acec5",
   "metadata": {},
   "outputs": [],
   "source": [
    "sedpyfilts = [ observate.Filter(_filt) if _p=='' else observate.Filter(_filt, directory=_p) for _filt, _p in filt_dic.items() ]"
   ]
  },
  {
   "cell_type": "code",
   "execution_count": null,
   "id": "192ad9fb-a69e-44b2-8afc-d34765cc9faf",
   "metadata": {},
   "outputs": [],
   "source": [
    "filtcols = plt.cm.rainbow(np.linspace(0, 1, len(sedpyfilts)))\n",
    "\n",
    "for filt, clr in zip(sedpyfilts, filtcols):\n",
    "    maxtrans = np.max(filt.transmission)\n",
    "    trans = filt.transmission / maxtrans if maxtrans>1 else filt.transmission\n",
    "    plt.plot(filt.wavelength, trans, c=clr, label=filt.name)\n",
    "    plt.fill_between(filt.wavelength, trans, color=clr, alpha=0.5)\n",
    "#plt.xscale('log')\n",
    "plt.grid()\n",
    "plt.xlabel(r'Wavelength $\\mathrm{[\\AA]}$')\n",
    "plt.ylabel('Transmission [arbitrary unit]')\n",
    "plt.legend(loc='upper right', bbox_to_anchor=(1., 1.), ncol=2)\n",
    "plt.show()"
   ]
  },
  {
   "cell_type": "code",
   "execution_count": null,
   "id": "f51590e0-44c4-46b6-bb9f-b12555a4f8fd",
   "metadata": {},
   "outputs": [],
   "source": []
  }
 ],
 "metadata": {
  "kernelspec": {
   "display_name": "PhotoZ_GPU",
   "language": "python",
   "name": "condapzf2"
  },
  "language_info": {
   "codemirror_mode": {
    "name": "ipython",
    "version": 3
   },
   "file_extension": ".py",
   "mimetype": "text/x-python",
   "name": "python",
   "nbconvert_exporter": "python",
   "pygments_lexer": "ipython3",
   "version": "3.11.12"
  }
 },
 "nbformat": 4,
 "nbformat_minor": 5
}
