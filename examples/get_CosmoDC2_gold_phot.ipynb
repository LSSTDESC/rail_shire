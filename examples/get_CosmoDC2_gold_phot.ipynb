{
 "cells": [
  {
   "cell_type": "code",
   "execution_count": null,
   "id": "bfc1e924-a549-4aaf-8397-b3fb4af2c298",
   "metadata": {},
   "outputs": [],
   "source": [
    "import GCRCatalogs\n",
    "import pandas as pd"
   ]
  },
  {
   "cell_type": "code",
   "execution_count": null,
   "id": "ca3355bd-3e29-4cc1-9612-187b782a6a75",
   "metadata": {},
   "outputs": [],
   "source": [
    "import os\n",
    "os.environ['GCR_CONFIG_SOURCE']=\"files\"\n",
    "GCRCatalogs.get_available_catalog_names(name_contains=\"dc2\")"
   ]
  },
  {
   "cell_type": "code",
   "execution_count": null,
   "id": "7c6a0934-0884-4a7e-8a16-de4b04c9d419",
   "metadata": {},
   "outputs": [],
   "source": [
    "dc2sim = GCRCatalogs.load_catalog('cosmoDC2_v1.1.4_small')"
   ]
  },
  {
   "cell_type": "code",
   "execution_count": null,
   "id": "e014952b-7543-4b6f-b436-26ce4e1c6a71",
   "metadata": {},
   "outputs": [],
   "source": [
    "dc2sim.list_all_native_quantities()"
   ]
  },
  {
   "cell_type": "code",
   "execution_count": null,
   "id": "e2f9c51a-d6a8-4b9f-9c59-bc280f420066",
   "metadata": {},
   "outputs": [],
   "source": [
    "dc2sim_relevantcols = [f\"LSST_filters/magnitude:LSST_{b}:observed\" for b in \"ugrizy\"] + ['baseDC2/redshift']\n",
    "dc2sim_quantities = dc2sim.get_quantities(dc2sim_relevantcols, native_filters=['healpix_pixel == 9816'])\n",
    "dc2sim_df = pd.DataFrame(dc2sim_quantities) #.sample(n=200000)"
   ]
  },
  {
   "cell_type": "code",
   "execution_count": null,
   "id": "86615237-286a-4c1c-be22-53f258078a78",
   "metadata": {},
   "outputs": [],
   "source": [
    "dc2sim_df"
   ]
  },
  {
   "cell_type": "code",
   "execution_count": null,
   "id": "9618a90a-cf74-481b-a72b-d0deb6f1208d",
   "metadata": {},
   "outputs": [],
   "source": [
    "from rail.core.data import PqHandle\n",
    "from rail.core.stage import RailStage\n",
    "\n",
    "import matplotlib.pyplot as plt\n",
    "import pandas as pd\n",
    "import numpy as np\n",
    "from jax import numpy as jnp"
   ]
  },
  {
   "cell_type": "code",
   "execution_count": null,
   "id": "c0d06c6e-ec67-414c-b688-87f33bb24712",
   "metadata": {},
   "outputs": [],
   "source": [
    "DS = RailStage.data_store\n",
    "DS.__class__.allow_overwrite = True"
   ]
  },
  {
   "cell_type": "code",
   "execution_count": null,
   "id": "0b55d715-73ff-4240-ac3e-4c6c2bd6cae7",
   "metadata": {},
   "outputs": [],
   "source": [
    "rename_dict = {f\"LSST_filters/magnitude:LSST_{b}:observed\":f\"mag_{b}_lsst\" for b in \"ugrizy\"}\n",
    "rename_dict.update({\"baseDC2/redshift\": \"redshift\"})\n",
    "\n",
    "band_dict = {b:f\"mag_{b}_lsst\" for b in \"ugrizy\"}\n",
    "\n",
    "data_df = dc2sim_df.rename(columns=rename_dict) #.drop(columns=dropped_cols).rename(columns=rename_dict)\n",
    "data_df"
   ]
  },
  {
   "cell_type": "code",
   "execution_count": null,
   "id": "4bd16668-77ea-49d7-9600-02148fd58647",
   "metadata": {},
   "outputs": [],
   "source": [
    "data_truth = PqHandle('input')\n",
    "data_truth.set_data(data_df)"
   ]
  },
  {
   "cell_type": "markdown",
   "id": "ff52de73-0c9f-4bd4-ad18-df2db52f9006",
   "metadata": {},
   "source": [
    "## Degrader 1 : LSST photometric Error "
   ]
  },
  {
   "cell_type": "code",
   "execution_count": null,
   "id": "f1a87dd0-0c74-4902-8345-400757cddc29",
   "metadata": {},
   "outputs": [],
   "source": [
    "from rail.creation.degraders.photometric_errors import LSSTErrorModel"
   ]
  },
  {
   "cell_type": "code",
   "execution_count": null,
   "id": "b20dda1d-168b-4231-9292-802c4203f1b9",
   "metadata": {},
   "outputs": [],
   "source": [
    "errorModel_lsst = LSSTErrorModel.make_stage(\n",
    "    name=\"error_model\",\n",
    "    renameDict=band_dict,\n",
    "    ndFlag=np.nan) #, extendedType=\"auto\")\n",
    "samples_w_errs = errorModel_lsst(data_truth)"
   ]
  },
  {
   "cell_type": "code",
   "execution_count": null,
   "id": "f4ca4ae9-7d26-4628-a42d-fdc3682a839c",
   "metadata": {},
   "outputs": [],
   "source": [
    "samples_w_errs()"
   ]
  },
  {
   "cell_type": "markdown",
   "id": "ac208a8a-18f5-4cb7-8d5f-247569725586",
   "metadata": {},
   "source": [
    "## Degrader 2 : Quantity Cut (magnitude)\n",
    "\n",
    "Recall how the sample above has galaxies as dim as magnitude 30. This is well beyond the LSST 5-sigma limiting magnitudes, so it will be useful to apply cuts to the data to filter out these super-dim samples. We can apply these cuts using the `QuantityCut` degrader. This degrader will cut out any samples that do not pass all of the specified cuts.\n",
    "\n",
    "Let's make and run degraders that first adds photometric errors, then cuts at i<25.3, which is the LSST gold sample.\n",
    "\n",
    "If you look at the i column, you will see there are no longer any samples with i > 25.3. The number of galaxies returned has been nearly cut in half from the input sample and, unlike the LSSTErrorModel degrader, is not equal to the number of input objects.  Users should note that with degraders that remove galaxies from the sample the size of the output sample will not equal that of the input sample.\n",
    "\n",
    "One more note: it is easy to use the QuantityCut degrader as a SNR cut on the magnitudes. The magnitude equation is $m = -2.5 \\log(f)$. Taking the derivative, we have\n",
    "$$\n",
    "dm = \\frac{2.5}{\\ln(10)} \\frac{df}{f} = \\frac{2.5}{\\ln(10)} \\frac{1}{\\mathrm{SNR}}.\n",
    "$$\n",
    "So if you want to make a cut on galaxies above a certain SNR, you can make a cut\n",
    "$$\n",
    "dm < \\frac{2.5}{\\ln(10)} \\frac{1}{\\mathrm{SNR}}.\n",
    "$$\n",
    "For example, an SNR cut on the i band would look like this: `QuantityCut({\"i_err\": 2.5/np.log(10) * 1/SNR})`."
   ]
  },
  {
   "cell_type": "code",
   "execution_count": null,
   "id": "6ac2b6c4-774b-4c5f-9117-533f1971950d",
   "metadata": {},
   "outputs": [],
   "source": [
    "from rail.creation.degraders.quantityCut import QuantityCut"
   ]
  },
  {
   "cell_type": "code",
   "execution_count": null,
   "id": "b769db0f-a620-4e59-a980-1a91691f0c65",
   "metadata": {},
   "outputs": [],
   "source": [
    "mag_cut = QuantityCut.make_stage(name=\"cuts\", cuts={\"mag_i_lsst\": 25.3})\n",
    "samples_mag_w_errs = mag_cut(samples_w_errs)"
   ]
  },
  {
   "cell_type": "code",
   "execution_count": null,
   "id": "eab1dda6-942e-4634-ad7a-9c8be44085d5",
   "metadata": {},
   "outputs": [],
   "source": [
    "samples_mag_w_errs()"
   ]
  },
  {
   "cell_type": "markdown",
   "id": "fb1e9b5c-36f6-4f82-8b96-38666b21a053",
   "metadata": {},
   "source": [
    "## Degrader 3 : Inv redshift incompleteness\n",
    "\n",
    "Next, we will demonstrate the `InvRedshiftIncompleteness` degrader. It applies a selection function, which keeps galaxies with probability $p_{\\text{keep}}(z) = \\min(1, \\frac{z_p}{z})$, where $z_p$ is the ''pivot'' redshift. We'll use $z_p = 0.8$."
   ]
  },
  {
   "cell_type": "code",
   "execution_count": null,
   "id": "2c04b3ac-4d2a-4899-b48f-7f81b591f40e",
   "metadata": {},
   "outputs": [],
   "source": [
    "from rail.creation.degraders.spectroscopic_degraders import InvRedshiftIncompleteness"
   ]
  },
  {
   "cell_type": "code",
   "execution_count": null,
   "id": "546cf6c9-a130-46c1-ad6e-4ca9704ddfad",
   "metadata": {},
   "outputs": [],
   "source": [
    "inv_incomplete = InvRedshiftIncompleteness.make_stage(\n",
    "    name=\"incompleteness\", pivot_redshift=0.8\n",
    ")\n",
    "samples_incomplete_mag_w_errs = inv_incomplete(samples_mag_w_errs)"
   ]
  },
  {
   "cell_type": "code",
   "execution_count": null,
   "id": "694438a7-3734-41c4-83d3-536749ba0e02",
   "metadata": {},
   "outputs": [],
   "source": [
    "samples_incomplete_mag_w_errs()"
   ]
  },
  {
   "cell_type": "markdown",
   "id": "6f22a732-59d2-4910-923f-94409cb11d30",
   "metadata": {},
   "source": [
    "## Degrader 4: LineConfusion\n",
    "\n",
    "`LineConfusion` is a degrader that simulates spectroscopic errors resulting from the confusion of different emission lines.\n",
    "\n",
    "For this example, let's use the degrader to simulate a scenario in which which 2% of [OII] lines are mistaken as [OIII] lines, and 1% of [OIII] lines are mistaken as [OII] lines. (note I do not know how realistic this scenario is!)"
   ]
  },
  {
   "cell_type": "code",
   "execution_count": null,
   "id": "1bed0901-fad7-4130-876f-8c0f5778e3f4",
   "metadata": {},
   "outputs": [],
   "source": [
    "from rail.creation.degraders.spectroscopic_degraders import LineConfusion"
   ]
  },
  {
   "cell_type": "code",
   "execution_count": null,
   "id": "2ea966bc-9dd5-4886-b246-1cbdd900998c",
   "metadata": {},
   "outputs": [],
   "source": [
    "OII = 3727\n",
    "OIII = 5007\n",
    "\n",
    "lc_2p_0II_0III = LineConfusion.make_stage(\n",
    "    name=\"lc_2p_0II_0III\", true_wavelen=OII, wrong_wavelen=OIII, frac_wrong=0.02\n",
    ")\n",
    "lc_1p_0III_0II = LineConfusion.make_stage(\n",
    "    name=\"lc_1p_0III_0II\", true_wavelen=OIII, wrong_wavelen=OII, frac_wrong=0.01\n",
    ")\n",
    "samples_conf_inc_mag_w_errs = lc_1p_0III_0II(\n",
    "    lc_2p_0II_0III(samples_incomplete_mag_w_errs)\n",
    ")"
   ]
  },
  {
   "cell_type": "code",
   "execution_count": null,
   "id": "64382839-bcc2-4fa0-a69e-7fbe503921eb",
   "metadata": {},
   "outputs": [],
   "source": [
    "samples_conf_inc_mag_w_errs()"
   ]
  },
  {
   "cell_type": "code",
   "execution_count": null,
   "id": "0838bd1d-2fef-467d-b462-5d1a262a0607",
   "metadata": {},
   "outputs": [],
   "source": [
    "fig, ax = plt.subplots(figsize=(5, 4), dpi=100)\n",
    "\n",
    "zmin = 0\n",
    "zmax = 3.1\n",
    "\n",
    "hist_settings = {\n",
    "    \"bins\": 50,\n",
    "    \"range\": (zmin, zmax),\n",
    "    \"density\": True,\n",
    "    \"histtype\": \"step\",\n",
    "}\n",
    "\n",
    "ax.hist(data_truth()[\"redshift\"], label=\"CosmoDC2 sample\", **hist_settings)\n",
    "ax.hist(samples_mag_w_errs()[\"redshift\"], label=\"Mag. cut\", **hist_settings)\n",
    "ax.hist(\n",
    "    samples_incomplete_mag_w_errs()[\"redshift\"],\n",
    "    label=\"Incomplete Mag. Cut\",\n",
    "    **hist_settings\n",
    ")\n",
    "ax.hist(\n",
    "    samples_conf_inc_mag_w_errs()[\"redshift\"],\n",
    "    label=\"Confused Incomplete Mag. Cut\",\n",
    "    **hist_settings\n",
    ")\n",
    "ax.legend(title=\"Sample\")\n",
    "ax.set(xlim=(zmin, zmax), xlabel=\"Redshift\", ylabel=\"Galaxy density\")\n",
    "plt.show()"
   ]
  },
  {
   "cell_type": "markdown",
   "id": "6edae89e-c5d4-4e1a-a2b8-5b01a0a0c254",
   "metadata": {},
   "source": [
    "## Try and run BPZ on the catalog"
   ]
  },
  {
   "cell_type": "code",
   "execution_count": null,
   "id": "56ff6303-9e75-4c96-aade-687f60bbe57c",
   "metadata": {},
   "outputs": [],
   "source": [
    "from rail.tools.table_tools import ColumnMapper, TableConverter\n",
    "import tables_io\n",
    "\n",
    "rename_dict_bpz = { _key: '_'.join([_key.split('_')[0], _key.split('_')[-1]]+_key.split('_')[1:-1]) for _key in samples_conf_inc_mag_w_errs.data.keys() if \"err\" in _key }\n",
    "rename_dict_bpz"
   ]
  },
  {
   "cell_type": "code",
   "execution_count": null,
   "id": "c65216b4-859a-45e0-b243-103089369ecf",
   "metadata": {},
   "outputs": [],
   "source": [
    "col_remapper = ColumnMapper.make_stage(\n",
    "    name=\"col_remapper\",\n",
    "    columns=rename_dict_bpz,\n",
    ")\n",
    "\n",
    "table_conv = TableConverter.make_stage(\n",
    "    name=\"table_conv\",\n",
    "    output_format=\"numpyDict\",\n",
    ")\n",
    "\n",
    "data_colmap = col_remapper(samples_conf_inc_mag_w_errs)\n",
    "data_bpz = table_conv(data_colmap)"
   ]
  },
  {
   "cell_type": "code",
   "execution_count": null,
   "id": "a31424e2-7ee9-49a2-b8cb-05f4116bc378",
   "metadata": {},
   "outputs": [],
   "source": [
    "data_bpz_df = tables_io.convertObj(data_bpz.data, tables_io.types.PD_DATAFRAME)\n",
    "data_bpz_df"
   ]
  },
  {
   "cell_type": "code",
   "execution_count": null,
   "id": "c838baac-cb5d-4754-92d6-245262c26df2",
   "metadata": {},
   "outputs": [],
   "source": [
    "train_data_df = data_bpz_df.sample(5000)\n",
    "train_data_df"
   ]
  },
  {
   "cell_type": "code",
   "execution_count": null,
   "id": "9399efaf-9e06-419e-abf9-8b53727f07c6",
   "metadata": {},
   "outputs": [],
   "source": [
    "bands = [\"u\", \"g\", \"r\", \"i\", \"z\", \"y\"]\n",
    "lsst_bands = [f\"mag_{band}_lsst\" for band in bands]\n",
    "lsst_errs = [f\"mag_err_{band}_lsst\" for band in bands]\n",
    "lsst_filts = [f\"DC2LSST_{band}\" for band in bands]\n",
    "print(lsst_bands)\n",
    "print(lsst_filts)"
   ]
  },
  {
   "cell_type": "code",
   "execution_count": null,
   "id": "fd48b8a6-39d3-4a22-8bdb-06a63e2d2b03",
   "metadata": {},
   "outputs": [],
   "source": [
    "from rail.core.data import TableHandle, ModelHandle\n",
    "from rail.estimation.algos.bpz_lite import BPZliteInformer, BPZliteEstimator\n",
    "\n",
    "RAILDIR = \"/global/u2/j/jcheval/rail_base/src\"\n",
    "\n",
    "train_data = DS.add_data(\"train_data\", train_data_df, TableHandle)\n",
    "\n",
    "table_conv_train = TableConverter.make_stage(\n",
    "    name=\"table_conv_train\",\n",
    "    output_format=\"numpyDict\",\n",
    ")\n",
    "\n",
    "train_data_conv = table_conv_train(train_data)"
   ]
  },
  {
   "cell_type": "code",
   "execution_count": null,
   "id": "1b873abe-813e-45ab-a309-c202059345f1",
   "metadata": {},
   "outputs": [],
   "source": [
    "from rail.estimation.algos.bpz_lite import BPZliteInformer, BPZliteEstimator\n",
    "\n",
    "cosmospriorfile = os.path.join(RAILDIR, \"rail/examples_data/estimation_data/data/COSMOS31_HDFN_prior.pkl\")\n",
    "cosmosprior = DS.read_file(\"cosmos_prior\", ModelHandle, cosmospriorfile)\n",
    "sedfile = \"COSMOS_seds.list\" #os.path.join(RAILDIR, \"rail/examples_data/estimation_data/data/SED/COSMOS_seds.list\")\n",
    "\n",
    "cosmos_dict = dict(\n",
    "    hdf5_groupname=\"photometry\",\n",
    "    output=\"bpz_results_DC2_COSMOS_SEDs.hdf5\",\n",
    "    spectra_file=sedfile,\n",
    "    bands=lsst_bands,\n",
    "    err_bands=lsst_errs,\n",
    "    filter_list=lsst_filts,\n",
    "    prior_band=\"mag_i_lsst\",\n",
    "    no_prior=True\n",
    ")\n",
    "\n",
    "inform_bpz = BPZliteInformer.make_stage(\n",
    "    name=\"inform_bpz\",\n",
    "    nondetect_val=np.nan,\n",
    "    spectra_file=sedfile,\n",
    "    model=\"cosmos_bpz.pkl\",\n",
    "    hdf5_groupname=\"\",\n",
    "    data_path=\"/global/u2/j/jcheval/rail_base/src/rail/examples_data/estimation_data/data\"\n",
    ")\n",
    "\n",
    "inform_bpz.inform(train_data_conv)\n",
    "\n",
    "estimate_bpz = BPZliteEstimator.make_stage(\n",
    "    name=\"estimate_bpz_cosmoDC2\",\n",
    "    model=cosmosprior,\n",
    "    data_path=\"/global/u2/j/jcheval/rail_base/src/rail/examples_data/estimation_data/data\", **cosmos_dict\n",
    ")"
   ]
  },
  {
   "cell_type": "code",
   "execution_count": null,
   "id": "228dba39-2492-4e5f-bf1a-d2d9afa9ca49",
   "metadata": {},
   "outputs": [],
   "source": [
    "bpz_estimated = estimate_bpz.estimate(data_bpz)"
   ]
  },
  {
   "cell_type": "code",
   "execution_count": null,
   "id": "b87f7bae-4b6a-4a18-86ac-979b28339c6e",
   "metadata": {},
   "outputs": [],
   "source": [
    "z_phot = bpz_estimated.data.mode(grid=np.linspace(0.01, 3.+4.*0.15, 301, endpoint=True))\n",
    "z_phot.shape"
   ]
  },
  {
   "cell_type": "code",
   "execution_count": null,
   "id": "9ef1cafc-48b4-4669-9d5d-997a028199d0",
   "metadata": {},
   "outputs": [],
   "source": [
    "z_true = data_bpz()['redshift']"
   ]
  },
  {
   "cell_type": "code",
   "execution_count": null,
   "id": "85c6a6a6-e755-4346-b449-07461d876be0",
   "metadata": {},
   "outputs": [],
   "source": [
    "import matplotlib.pyplot as plt\n",
    "f, a = plt.subplots(1,1, figsize=(6,6))\n",
    "zs = np.linspace(0.01, 3., 100)\n",
    "a.scatter(z_true, z_phot, alpha=0.1, s=2, label='BPZ, no prior, LSST filters\\nPolletta et al 2007 and BC03 SED template set')\n",
    "a.plot(zs, zs, 'k:')\n",
    "a.plot(zs, zs+(1+zs)*0.15, 'k-')\n",
    "a.plot(zs, zs-(1+zs)*0.15, 'k-')\n",
    "a.set_xlabel('z_spec')\n",
    "a.set_ylabel('z_phot')\n",
    "a.set_xlim(-0.01, 3.1)\n",
    "a.set_ylim(-0.01, 3.1)\n",
    "a.set_aspect('equal', 'box')\n",
    "a.grid()\n",
    "a.legend()"
   ]
  },
  {
   "cell_type": "markdown",
   "id": "cff89646-9521-4944-88e3-cbc7a6d75c3b",
   "metadata": {},
   "source": [
    "## Save as appropriate input for process_fors2.photoZ"
   ]
  },
  {
   "cell_type": "code",
   "execution_count": null,
   "id": "cfef64ae-b25f-4f81-977e-92828294e441",
   "metadata": {},
   "outputs": [],
   "source": [
    "#rerename_dict = {\"redshift\": \"z_spec\"}\n",
    "#rerename_dict.update(\n",
    "#    {_key: '_'.join([_key.split('_')[0], _key.split('_')[-1], _key.split('_')[-2]]) for _key in samples_conf_inc_mag_w_errs.data.keys() if \"lsst\" in _key and not \"err\" in _key}\n",
    "#)\n",
    "rerename_dict = {_key: '_'.join([_key.split('_')[0], _key.split('_')[-1], _key.split('_')[-3], _key.split('_')[-2]]) for _key in samples_conf_inc_mag_w_errs.data.keys() if \"lsst\" in _key and \"err\" in _key}\n",
    "rerename_dict"
   ]
  },
  {
   "cell_type": "code",
   "execution_count": null,
   "id": "2e205f8d-4841-4b2a-ba69-d6336b678961",
   "metadata": {},
   "outputs": [],
   "source": [
    "from rail.tools.table_tools import ColumnMapper\n",
    "\n",
    "col_remapper_proF2 = ColumnMapper.make_stage(\n",
    "    name=\"col_remapper_proF2\",\n",
    "    columns=rerename_dict,\n",
    ")\n",
    "\n",
    "cat_for_processf2 = col_remapper_proF2(samples_conf_inc_mag_w_errs)\n",
    "cat_for_processf2()"
   ]
  },
  {
   "cell_type": "code",
   "execution_count": null,
   "id": "7b159092-3bfe-4a90-8e84-ab474256e628",
   "metadata": {},
   "outputs": [],
   "source": [
    "lsst_err_df = tables_io.convertObj(cat_for_processf2.data, tables_io.types.PD_DATAFRAME)\n",
    "lsst_err_df"
   ]
  },
  {
   "cell_type": "code",
   "execution_count": null,
   "id": "d597bfff-fd0d-429d-8ded-e96b1c6cb8eb",
   "metadata": {},
   "outputs": [],
   "source": [
    "if True: lsst_err_df.to_hdf('magszgalaxies_cosmoDC2_gold_hp9816.h5', key='photometry')"
   ]
  },
  {
   "cell_type": "code",
   "execution_count": null,
   "id": "772ad3df-135c-4f7b-b002-f3d0bf118439",
   "metadata": {},
   "outputs": [],
   "source": []
  }
 ],
 "metadata": {
  "kernelspec": {
   "display_name": "desc-python-bleed",
   "language": "python",
   "name": "desc-python-bleed"
  },
  "language_info": {
   "codemirror_mode": {
    "name": "ipython",
    "version": 3
   },
   "file_extension": ".py",
   "mimetype": "text/x-python",
   "name": "python",
   "nbconvert_exporter": "python",
   "pygments_lexer": "ipython3",
   "version": "3.12.9"
  }
 },
 "nbformat": 4,
 "nbformat_minor": 5
}
