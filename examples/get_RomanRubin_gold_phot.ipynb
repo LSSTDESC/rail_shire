{
 "cells": [
  {
   "cell_type": "code",
   "execution_count": null,
   "id": "bfc1e924-a549-4aaf-8397-b3fb4af2c298",
   "metadata": {},
   "outputs": [],
   "source": [
    "import GCRCatalogs\n",
    "import pandas as pd\n",
    "import tables_io"
   ]
  },
  {
   "cell_type": "code",
   "execution_count": null,
   "id": "ca3355bd-3e29-4cc1-9612-187b782a6a75",
   "metadata": {},
   "outputs": [],
   "source": [
    "import os\n",
    "os.environ['GCR_CONFIG_SOURCE']=\"files\"\n",
    "GCRCatalogs.get_available_catalog_names(name_contains=\"rubin\")"
   ]
  },
  {
   "cell_type": "code",
   "execution_count": null,
   "id": "7c6a0934-0884-4a7e-8a16-de4b04c9d419",
   "metadata": {},
   "outputs": [],
   "source": [
    "rubinsim = GCRCatalogs.load_catalog('roman_rubin_2023_v1.1.3_elais')"
   ]
  },
  {
   "cell_type": "code",
   "execution_count": null,
   "id": "e014952b-7543-4b6f-b436-26ce4e1c6a71",
   "metadata": {},
   "outputs": [],
   "source": [
    "rubinsim.list_all_native_quantities()"
   ]
  },
  {
   "cell_type": "code",
   "execution_count": null,
   "id": "a02f03b7-d779-4b91-81a0-8067dc5c1495",
   "metadata": {},
   "outputs": [],
   "source": [
    "rubinsim_relevantcols = [_col for _col in rubinsim.list_all_native_quantities() if (\"LSST_obs\" in _col or \"ROMAN_obs\" in _col) and \"nodust\" not in _col] + ['redshift']\n",
    "rubinsim_quantities = rubinsim.get_quantities(rubinsim_relevantcols, native_filters=['healpix_pixel == 10552'])"
   ]
  },
  {
   "cell_type": "code",
   "execution_count": null,
   "id": "67426a31-60b5-41d7-b061-24f58ba0d843",
   "metadata": {},
   "outputs": [],
   "source": [
    "rubinsim_quantities"
   ]
  },
  {
   "cell_type": "code",
   "execution_count": null,
   "id": "351d25f1-5afd-4e4f-85f9-7e3016f8d19e",
   "metadata": {},
   "outputs": [],
   "source": [
    "rubinsim_df = pd.DataFrame(rubinsim_quantities)"
   ]
  },
  {
   "cell_type": "code",
   "execution_count": null,
   "id": "86615237-286a-4c1c-be22-53f258078a78",
   "metadata": {},
   "outputs": [],
   "source": [
    "rubinsim_df"
   ]
  },
  {
   "cell_type": "code",
   "execution_count": null,
   "id": "9618a90a-cf74-481b-a72b-d0deb6f1208d",
   "metadata": {},
   "outputs": [],
   "source": [
    "from rail.core.data import PqHandle\n",
    "from rail.core.stage import RailStage\n",
    "\n",
    "import matplotlib.pyplot as plt\n",
    "import pandas as pd\n",
    "import numpy as np\n",
    "from jax import numpy as jnp"
   ]
  },
  {
   "cell_type": "code",
   "execution_count": null,
   "id": "c0d06c6e-ec67-414c-b688-87f33bb24712",
   "metadata": {},
   "outputs": [],
   "source": [
    "DS = RailStage.data_store\n",
    "DS.__class__.allow_overwrite = True"
   ]
  },
  {
   "cell_type": "code",
   "execution_count": null,
   "id": "174252a1-cd83-4af6-ba7f-c9d88a612ae5",
   "metadata": {},
   "outputs": [],
   "source": [
    "rename_dict = {\n",
    "    \"LSST_obs_u\": \"mag_u_lsst\",\n",
    "    \"LSST_obs_g\": \"mag_g_lsst\",\n",
    "    \"LSST_obs_r\": \"mag_r_lsst\",\n",
    "    \"LSST_obs_i\": \"mag_i_lsst\",\n",
    "    \"LSST_obs_z\": \"mag_z_lsst\",\n",
    "    \"LSST_obs_y\": \"mag_y_lsst\",\n",
    "    \"ROMAN_obs_R062\": \"mag_wfi_f062_roman\",\n",
    "    \"ROMAN_obs_Z087\": \"mag_wfi_f087_roman\",\n",
    "    \"ROMAN_obs_Y106\": \"mag_wfi_f106_roman\",\n",
    "    \"ROMAN_obs_J129\": \"mag_wfi_f129_roman\",\n",
    "    \"ROMAN_obs_W146\": \"mag_wfi_f146_roman\",\n",
    "    \"ROMAN_obs_H158\": \"mag_wfi_f158_roman\",\n",
    "    \"ROMAN_obs_F184\": \"mag_wfi_f184_roman\",\n",
    "    \"ROMAN_obs_K213\": \"mag_wfi_f213_roman\"\n",
    "}\n",
    "\n",
    "band_dict = { _key.split('_')[-1]: _val for _key, _val in rename_dict.items() if 'lsst' in _val }\n",
    "band_dict.update({ _key.split('_')[-1][0]: _val for _key, _val in rename_dict.items() if 'roman' in _val })\n",
    "band_dict"
   ]
  },
  {
   "cell_type": "code",
   "execution_count": null,
   "id": "9a3995a6-bdd5-41cf-87c4-265531c31dbb",
   "metadata": {},
   "outputs": [],
   "source": [
    "#dropped_cols = [\"ROMAN_obs_W146\", \"ROMAN_obs_R062\", \"ROMAN_obs_Z087\", \"ROMAN_obs_K213\"]\n",
    "data_df = rubinsim_df.rename(columns=rename_dict).copy() #.drop(columns=dropped_cols).rename(columns=rename_dict)\n",
    "data_df"
   ]
  },
  {
   "cell_type": "code",
   "execution_count": null,
   "id": "4bd16668-77ea-49d7-9600-02148fd58647",
   "metadata": {},
   "outputs": [],
   "source": [
    "data_truth = PqHandle('input')\n",
    "data_truth.set_data(data_df)"
   ]
  },
  {
   "cell_type": "markdown",
   "id": "35dec6e1-2a65-486c-b39c-11780a890995",
   "metadata": {},
   "source": [
    "## Degrader 1 : LSST & Rubin errors\n",
    "\n",
    "Now, we will demonstrate the `LSSTErrorModel`, which adds photometric errors using a model similar to the model from [Ivezic et al. 2019](https://arxiv.org/abs/0805.2366) (specifically, it uses the model from this paper, without making the high SNR assumption. To restore this assumption and therefore use the exact model from the paper, set `highSNR=True`.)\n",
    "\n",
    "Let's create an error model with the default settings:"
   ]
  },
  {
   "cell_type": "code",
   "execution_count": null,
   "id": "cc33d32a-4c0d-401b-8732-fa61bc1cf0b7",
   "metadata": {},
   "outputs": [],
   "source": [
    "from rail.creation.degraders.photometric_errors import LSSTErrorModel\n",
    "from rail.creation.degraders.photometric_errors import RomanErrorModel"
   ]
  },
  {
   "cell_type": "code",
   "execution_count": null,
   "id": "b20dda1d-168b-4231-9292-802c4203f1b9",
   "metadata": {},
   "outputs": [],
   "source": [
    "errorModel_lsst = LSSTErrorModel.make_stage(\n",
    "    name=\"lsst_error_model\",\n",
    "    renameDict=band_dict,\n",
    "    ndFlag=np.nan\n",
    ") #, extendedType=\"auto\")\n",
    "samples_w_lssterrs = errorModel_lsst(data_truth) #errorModel_lsst(samples_conf_inc_mag)"
   ]
  },
  {
   "cell_type": "code",
   "execution_count": null,
   "id": "297c0a6f-422d-478e-b4b1-0dc06302446c",
   "metadata": {},
   "outputs": [],
   "source": [
    "samples_w_lssterrs()"
   ]
  },
  {
   "cell_type": "code",
   "execution_count": null,
   "id": "285c908d-a682-41d8-8e4f-0174ca2cf228",
   "metadata": {},
   "outputs": [],
   "source": [
    "errorModel_Roman = RomanErrorModel.make_stage(\n",
    "    name=\"roman_error_model\",\n",
    "    renameDict=band_dict,\n",
    "    ndFlag=np.nan\n",
    ")\n",
    "errorModel_Roman.config['m5']['Y'] = 27.0\n",
    "errorModel_Roman.config['theta']['Y'] = 27.0"
   ]
  },
  {
   "cell_type": "code",
   "execution_count": null,
   "id": "c59df876-6027-40dd-bafa-ee5b3d481371",
   "metadata": {},
   "outputs": [],
   "source": [
    "samples_w_romanerrs = errorModel_Roman(samples_w_lssterrs)"
   ]
  },
  {
   "cell_type": "code",
   "execution_count": null,
   "id": "75f58b99-7a16-4054-8da2-0a7f04260dd4",
   "metadata": {},
   "outputs": [],
   "source": [
    "samples_w_romanerrs()"
   ]
  },
  {
   "cell_type": "code",
   "execution_count": null,
   "id": "027a48fb-02ba-4534-9146-a60f3251f7a5",
   "metadata": {},
   "outputs": [],
   "source": [
    "#samples_w_lssterrs_df = tables_io.convertObj(samples_w_lssterrs.data, tables_io.types.PD_DATAFRAME)\n",
    "#samples_w_romanerrs_df = tables_io.convertObj(samples_w_romanerrs.data, tables_io.types.PD_DATAFRAME)"
   ]
  },
  {
   "cell_type": "code",
   "execution_count": null,
   "id": "7903bb4d-aaa2-4e82-b92d-0672167eef05",
   "metadata": {},
   "outputs": [],
   "source": [
    "#samples_w_errs_df = (samples_w_lssterrs_df.drop(columns=[\"W\", \"R\", \"Z\", \"Y\", \"J\", \"H\", \"F\", \"K\"])).merge(samples_w_romanerrs_df.drop(columns=[\"u\", \"g\", \"r\", \"i\", \"z\", \"y\"]))"
   ]
  },
  {
   "cell_type": "code",
   "execution_count": null,
   "id": "1b25bbf5-51af-4554-88bb-e343e50167e0",
   "metadata": {},
   "outputs": [],
   "source": [
    "#samples_w_errs = PqHandle('input')\n",
    "#samples_w_errs.set_data(samples_w_errs_df)"
   ]
  },
  {
   "cell_type": "code",
   "execution_count": null,
   "id": "2c78b4e3-8ac5-414b-8923-e3e8c9437854",
   "metadata": {},
   "outputs": [],
   "source": [
    "#samples_w_errs()"
   ]
  },
  {
   "cell_type": "markdown",
   "id": "6efe1436-fb06-4fa7-ac40-d7f4fc2d9c46",
   "metadata": {},
   "source": [
    "## Degrader 2 : Quantity Cut (magnitude)\n",
    "\n",
    "Recall how the sample above has galaxies as dim as magnitude 30. This is well beyond the LSST 5-sigma limiting magnitudes, so it will be useful to apply cuts to the data to filter out these super-dim samples. We can apply these cuts using the `QuantityCut` degrader. This degrader will cut out any samples that do not pass all of the specified cuts.\n",
    "\n",
    "Let's make and run degraders that first adds photometric errors, then cuts at i<25.3, which is the LSST gold sample.\n",
    "\n",
    "If you look at the i column, you will see there are no longer any samples with i > 25.3. The number of galaxies returned has been nearly cut in half from the input sample and, unlike the LSSTErrorModel degrader, is not equal to the number of input objects.  Users should note that with degraders that remove galaxies from the sample the size of the output sample will not equal that of the input sample.\n",
    "\n",
    "One more note: it is easy to use the QuantityCut degrader as a SNR cut on the magnitudes. The magnitude equation is $m = -2.5 \\log(f)$. Taking the derivative, we have\n",
    "$$\n",
    "dm = \\frac{2.5}{\\ln(10)} \\frac{df}{f} = \\frac{2.5}{\\ln(10)} \\frac{1}{\\mathrm{SNR}}.\n",
    "$$\n",
    "So if you want to make a cut on galaxies above a certain SNR, you can make a cut\n",
    "$$\n",
    "dm < \\frac{2.5}{\\ln(10)} \\frac{1}{\\mathrm{SNR}}.\n",
    "$$\n",
    "For example, an SNR cut on the i band would look like this: `QuantityCut({\"i_err\": 2.5/np.log(10) * 1/SNR})`."
   ]
  },
  {
   "cell_type": "code",
   "execution_count": null,
   "id": "03d0962a-4750-43cf-b64f-53150a31d560",
   "metadata": {},
   "outputs": [],
   "source": [
    "from rail.creation.degraders.quantityCut import QuantityCut"
   ]
  },
  {
   "cell_type": "code",
   "execution_count": null,
   "id": "f86f5128-ad3e-481e-be3a-5797597d2f8f",
   "metadata": {},
   "outputs": [],
   "source": [
    "mag_cut = QuantityCut.make_stage(name=\"cuts\", cuts={\"mag_i_lsst\": 25.3})\n",
    "samples_mag = mag_cut(samples_w_romanerrs)"
   ]
  },
  {
   "cell_type": "code",
   "execution_count": null,
   "id": "646e75db-1902-4fd2-ae11-f5c05cae972a",
   "metadata": {},
   "outputs": [],
   "source": [
    "samples_mag()"
   ]
  },
  {
   "cell_type": "markdown",
   "id": "916e3435-743a-4c6f-a58f-79f9493bb49d",
   "metadata": {},
   "source": [
    "## Degrader 3 : Inv redshift incompleteness\n",
    "\n",
    "Next, we will demonstrate the `InvRedshiftIncompleteness` degrader. It applies a selection function, which keeps galaxies with probability $p_{\\text{keep}}(z) = \\min(1, \\frac{z_p}{z})$, where $z_p$ is the ''pivot'' redshift. We'll use $z_p = 0.8$."
   ]
  },
  {
   "cell_type": "code",
   "execution_count": null,
   "id": "7495e34e-8d09-43e3-b0c7-3041fccb71d4",
   "metadata": {},
   "outputs": [],
   "source": [
    "from rail.creation.degraders.spectroscopic_degraders import InvRedshiftIncompleteness"
   ]
  },
  {
   "cell_type": "code",
   "execution_count": null,
   "id": "c416a054-0a45-4cb3-9d3b-959dfc15d8bb",
   "metadata": {},
   "outputs": [],
   "source": [
    "inv_incomplete = InvRedshiftIncompleteness.make_stage(\n",
    "    name=\"incompleteness\", pivot_redshift=0.8\n",
    ")\n",
    "samples_incomplete_mag = inv_incomplete(samples_mag)"
   ]
  },
  {
   "cell_type": "code",
   "execution_count": null,
   "id": "26dc9cae-3feb-48a4-a395-6e93abff8d98",
   "metadata": {},
   "outputs": [],
   "source": [
    "samples_incomplete_mag()"
   ]
  },
  {
   "cell_type": "markdown",
   "id": "92be7ac1-3d4b-4024-98dd-5693106494a0",
   "metadata": {},
   "source": [
    "## Degrader 4: LineConfusion\n",
    "\n",
    "`LineConfusion` is a degrader that simulates spectroscopic errors resulting from the confusion of different emission lines.\n",
    "\n",
    "For this example, let's use the degrader to simulate a scenario in which which 2% of [OII] lines are mistaken as [OIII] lines, and 1% of [OIII] lines are mistaken as [OII] lines. (note I do not know how realistic this scenario is!)"
   ]
  },
  {
   "cell_type": "code",
   "execution_count": null,
   "id": "9c65349c-cff4-41ac-bdda-808fc70f572d",
   "metadata": {},
   "outputs": [],
   "source": [
    "from rail.creation.degraders.spectroscopic_degraders import LineConfusion"
   ]
  },
  {
   "cell_type": "code",
   "execution_count": null,
   "id": "7e1c5094-6561-4cb8-a72a-d7c16f66f70c",
   "metadata": {},
   "outputs": [],
   "source": [
    "OII = 3727\n",
    "OIII = 5007\n",
    "\n",
    "lc_2p_0II_0III = LineConfusion.make_stage(\n",
    "    name=\"lc_2p_0II_0III\", true_wavelen=OII, wrong_wavelen=OIII, frac_wrong=0.02\n",
    ")\n",
    "lc_1p_0III_0II = LineConfusion.make_stage(\n",
    "    name=\"lc_1p_0III_0II\", true_wavelen=OIII, wrong_wavelen=OII, frac_wrong=0.01\n",
    ")\n",
    "samples_conf_inc_mag = lc_1p_0III_0II(\n",
    "    lc_2p_0II_0III(samples_incomplete_mag)\n",
    ")"
   ]
  },
  {
   "cell_type": "code",
   "execution_count": null,
   "id": "eff2be12-e4b0-46d2-9476-819a44ead5f2",
   "metadata": {},
   "outputs": [],
   "source": [
    "samples_conf_inc_mag()"
   ]
  },
  {
   "cell_type": "markdown",
   "id": "afc140f7-4d4c-4413-a96d-eb5b7549c410",
   "metadata": {},
   "source": [
    "## Check Data"
   ]
  },
  {
   "cell_type": "code",
   "execution_count": null,
   "id": "bc199ab0-43cb-48c8-9b95-5d2b2ee1f3cf",
   "metadata": {},
   "outputs": [],
   "source": [
    "fig, ax = plt.subplots(figsize=(5, 4), dpi=100)\n",
    "\n",
    "zmin = 0\n",
    "zmax = 3.1\n",
    "\n",
    "hist_settings = {\n",
    "    \"bins\": 50,\n",
    "    \"range\": (zmin, zmax),\n",
    "    \"density\": True,\n",
    "    \"histtype\": \"step\",\n",
    "}\n",
    "\n",
    "ax.hist(data_truth()[\"redshift\"], label=\"Roman-Rubin sample\", **hist_settings)\n",
    "ax.hist(samples_mag()[\"redshift\"], label=\"Mag. cut\", **hist_settings)\n",
    "ax.hist(\n",
    "    samples_incomplete_mag()[\"redshift\"],\n",
    "    label=\"Incomplete Mag. Cut\",\n",
    "    **hist_settings\n",
    ")\n",
    "ax.hist(\n",
    "    samples_conf_inc_mag()[\"redshift\"],\n",
    "    label=\"Confused Incomplete Mag. Cut\",\n",
    "    **hist_settings\n",
    ")\n",
    "ax.legend(title=\"Sample\")\n",
    "ax.set(xlim=(zmin, zmax), xlabel=\"Redshift\", ylabel=\"Galaxy density\")\n",
    "plt.show()"
   ]
  },
  {
   "cell_type": "markdown",
   "id": "9988a030-90f3-41b1-a2e2-dc597d195dd8",
   "metadata": {},
   "source": [
    "## Try and run BPZ on the catalog"
   ]
  },
  {
   "cell_type": "code",
   "execution_count": null,
   "id": "e3dda66c-fbb9-4b53-80a5-fd836435a4f4",
   "metadata": {},
   "outputs": [],
   "source": [
    "from rail.tools.table_tools import ColumnMapper, TableConverter\n",
    "import tables_io\n",
    "\n",
    "rename_dict_bpz = { _key: '_'.join([_key.split('_')[0], _key.split('_')[-1]]+_key.split('_')[1:-1]) for _key in samples_conf_inc_mag.data.keys() if \"err\" in _key }\n",
    "rename_dict_bpz"
   ]
  },
  {
   "cell_type": "code",
   "execution_count": null,
   "id": "77acea98-77cc-423d-9d67-1c58e9affb6d",
   "metadata": {},
   "outputs": [],
   "source": [
    "col_remapper = ColumnMapper.make_stage(\n",
    "    name=\"col_remapper\",\n",
    "    columns=rename_dict_bpz,\n",
    ")\n",
    "\n",
    "table_conv = TableConverter.make_stage(\n",
    "    name=\"table_conv\",\n",
    "    output_format=\"numpyDict\",\n",
    ")\n",
    "\n",
    "data_colmap = col_remapper(samples_conf_inc_mag)\n",
    "data_bpz = table_conv(data_colmap)"
   ]
  },
  {
   "cell_type": "code",
   "execution_count": null,
   "id": "95c5912e-1ce3-4538-9ddc-b43538e9775e",
   "metadata": {},
   "outputs": [],
   "source": [
    "data_bpz()"
   ]
  },
  {
   "cell_type": "code",
   "execution_count": null,
   "id": "565a37eb-4372-438a-9ca2-80cb9e9e3903",
   "metadata": {},
   "outputs": [],
   "source": [
    "data_bpz_df = tables_io.convertObj(data_bpz.data, tables_io.types.PD_DATAFRAME)\n",
    "data_bpz_df"
   ]
  },
  {
   "cell_type": "code",
   "execution_count": null,
   "id": "0d6ee7ff-41cf-43df-af53-b93d9be7f345",
   "metadata": {},
   "outputs": [],
   "source": [
    "train_data_df = data_bpz_df.sample(5000)\n",
    "train_data_df"
   ]
  },
  {
   "cell_type": "code",
   "execution_count": null,
   "id": "3dabb530-10a7-4a2f-982b-042e3635d686",
   "metadata": {},
   "outputs": [],
   "source": [
    "from rail.core.data import TableHandle\n",
    "\n",
    "train_data = DS.add_data(\"train_data\", train_data_df, TableHandle)\n",
    "\n",
    "table_conv_train = TableConverter.make_stage(\n",
    "    name=\"table_conv_train\",\n",
    "    output_format=\"numpyDict\",\n",
    ")\n",
    "\n",
    "train_data_conv = table_conv_train(train_data)"
   ]
  },
  {
   "cell_type": "code",
   "execution_count": null,
   "id": "5db4d37c-0a13-4019-9534-7d4d212a4def",
   "metadata": {},
   "outputs": [],
   "source": [
    "train_data_conv()"
   ]
  },
  {
   "cell_type": "code",
   "execution_count": null,
   "id": "bbd38d12-bbdf-491c-b0bb-0ced2409a345",
   "metadata": {},
   "outputs": [],
   "source": [
    "bands = [\"u\", \"g\", \"r\", \"i\", \"z\", \"y\"]\n",
    "lsst_bands = []\n",
    "lsst_errs = []\n",
    "lsst_filts = []\n",
    "for band in bands:\n",
    "    lsst_bands.append(f\"mag_{band}_lsst\")\n",
    "    lsst_errs.append(f\"mag_err_{band}_lsst\")\n",
    "    lsst_filts.append(f\"DC2LSST_{band}\")\n",
    "print(lsst_bands)\n",
    "print(lsst_filts)"
   ]
  },
  {
   "cell_type": "code",
   "execution_count": null,
   "id": "d3c0a25a-2e88-45d2-9e12-b66d765fd847",
   "metadata": {},
   "outputs": [],
   "source": [
    "robands = [\"wfi_f106\", \"wfi_f129\", \"wfi_f158\", \"wfi_f184\"]\n",
    "roman_bands = [f\"mag_{band}_roman\" for band in robands]\n",
    "roman_errs = [f\"mag_err_{band}_roman\" for band in robands]\n",
    "roman_filts = [f\"roman_{band}\" for band in robands]\n",
    "print(roman_bands)\n",
    "print(roman_filts)"
   ]
  },
  {
   "cell_type": "code",
   "execution_count": null,
   "id": "f6e108e6-b0c6-4503-a6d8-ae9cc264a371",
   "metadata": {},
   "outputs": [],
   "source": [
    "from rail.estimation.algos.bpz_lite import BPZliteInformer, BPZliteEstimator\n",
    "\n",
    "from rail.core.data import ModelHandle\n",
    "\n",
    "RAILDIR = \"/global/u2/j/jcheval/rail_base/src\"\n",
    "\n",
    "cosmospriorfile = os.path.join(RAILDIR, \"rail/examples_data/estimation_data/data/COSMOS31_HDFN_prior.pkl\")\n",
    "cosmosprior = DS.read_file(\"cosmos_prior\", ModelHandle, cosmospriorfile)\n",
    "sedfile = \"COSMOS_seds.list\" #os.path.join(RAILDIR, \"rail/examples_data/estimation_data/data/SED/COSMOS_seds.list\")\n",
    "\n",
    "inform_bpz = BPZliteInformer.make_stage(\n",
    "    name=\"inform_bpz\",\n",
    "    nondetect_val=np.nan,\n",
    "    model=\"bpz.pkl\",\n",
    "    hdf5_groupname=\"photometry\",\n",
    "    data_path=\"/global/u2/j/jcheval/rail_base/src/rail/examples_data/estimation_data/data\"\n",
    ")\n",
    "\n",
    "inform_bpz.inform(train_data_conv)"
   ]
  },
  {
   "cell_type": "code",
   "execution_count": null,
   "id": "1b4d2443-01fb-4404-af11-bdfb9a9fb807",
   "metadata": {},
   "outputs": [],
   "source": [
    "estimate_bpz = BPZliteEstimator.make_stage(\n",
    "    name=\"estimate_bpz\",\n",
    "    hdf5_groupname=\"\",\n",
    "    nondetect_val=np.nan,\n",
    "    model=inform_bpz.get_handle(\"model\"),\n",
    "    no_prior=True,\n",
    "    data_path=\"/global/u2/j/jcheval/rail_base/src/rail/examples_data/estimation_data/data\"\n",
    ")"
   ]
  },
  {
   "cell_type": "code",
   "execution_count": null,
   "id": "ca552a21-cd6c-4c8c-8c7a-3d4e843c62da",
   "metadata": {},
   "outputs": [],
   "source": [
    "bpz_estimated = estimate_bpz.estimate(data_bpz)"
   ]
  },
  {
   "cell_type": "code",
   "execution_count": null,
   "id": "5e08723d-76f4-429a-b3a5-5e4c413088c8",
   "metadata": {},
   "outputs": [],
   "source": [
    "z_phot = bpz_estimated.data.mode(grid=np.linspace(0.01, 3.+4.*0.15, 301, endpoint=True))"
   ]
  },
  {
   "cell_type": "code",
   "execution_count": null,
   "id": "470c7a0d-252c-4225-a16f-dd72e2772d3d",
   "metadata": {},
   "outputs": [],
   "source": [
    "z_phot.shape"
   ]
  },
  {
   "cell_type": "code",
   "execution_count": null,
   "id": "2d15f73d-71cb-47ba-aed8-2a82c54fb4fa",
   "metadata": {},
   "outputs": [],
   "source": [
    "z_true = data_bpz()['redshift']"
   ]
  },
  {
   "cell_type": "code",
   "execution_count": null,
   "id": "18b2ae40-e4ac-4db6-9e67-e52c70cd15f7",
   "metadata": {},
   "outputs": [],
   "source": [
    "import matplotlib.pyplot as plt\n",
    "f, a = plt.subplots(1,1, figsize=(6,6))\n",
    "zs = np.linspace(0.01, 3., 100)\n",
    "a.scatter(z_true, z_phot, alpha=0.1, s=2, label='BPZ, no prior, LSST filters\\nDefault SED templates set')\n",
    "a.plot(zs, zs, 'k:')\n",
    "a.plot(zs, zs+(1+zs)*0.15, 'k-')\n",
    "a.plot(zs, zs-(1+zs)*0.15, 'k-')\n",
    "a.set_xlabel('z_spec')\n",
    "a.set_ylabel('z_phot')\n",
    "a.set_xlim(-0.01, 3.1)\n",
    "a.set_ylim(-0.01, 3.1)\n",
    "a.set_aspect('equal', 'box')\n",
    "a.grid()\n",
    "a.legend()"
   ]
  },
  {
   "cell_type": "markdown",
   "id": "16deb356-0f8f-41d6-a615-921c53e1958d",
   "metadata": {},
   "source": [
    "### Try with non-default SEDs but just LSST bands"
   ]
  },
  {
   "cell_type": "code",
   "execution_count": null,
   "id": "ddf2486b-f10c-44a6-9f1e-fb675d97bb9e",
   "metadata": {},
   "outputs": [],
   "source": [
    "cosmos_dict = dict(\n",
    "    hdf5_groupname=\"photometry\",\n",
    "    output=\"bpz_results_COSMOS_SEDs_LSST.hdf5\",\n",
    "    spectra_file=sedfile,\n",
    "    bands=lsst_bands,\n",
    "    err_bands=lsst_errs,\n",
    "    filter_list=lsst_filts,\n",
    "    prior_band=\"mag_i_lsst\",\n",
    "    no_prior=True\n",
    ")"
   ]
  },
  {
   "cell_type": "code",
   "execution_count": null,
   "id": "92a4eea8-cc01-4b20-8cd4-960c7443b5ef",
   "metadata": {},
   "outputs": [],
   "source": [
    "run_newseds = BPZliteEstimator.make_stage(\n",
    "    name=\"bpz_newseds_lsst\",\n",
    "    model=cosmosprior,\n",
    "    data_path=\"/global/u2/j/jcheval/rail_base/src/rail/examples_data/estimation_data/data\", **cosmos_dict\n",
    ")"
   ]
  },
  {
   "cell_type": "code",
   "execution_count": null,
   "id": "64f3174a-6853-4784-81b8-c529d2591514",
   "metadata": {},
   "outputs": [],
   "source": [
    "newseds_bpz_estimated = run_newseds.estimate(data_bpz)"
   ]
  },
  {
   "cell_type": "code",
   "execution_count": null,
   "id": "5fc6ebfd-f0a7-4481-9e86-d4cb672f00e8",
   "metadata": {},
   "outputs": [],
   "source": [
    "z_phot_new = newseds_bpz_estimated.data.mode(grid=np.linspace(0.01, 3.+4.*0.15, 301, endpoint=True))"
   ]
  },
  {
   "cell_type": "code",
   "execution_count": null,
   "id": "2e198cdb-c30d-4ec7-a643-fb91a586464e",
   "metadata": {},
   "outputs": [],
   "source": [
    "import matplotlib.pyplot as plt\n",
    "f, a = plt.subplots(1,1, figsize=(6,6))\n",
    "zs = np.linspace(0.01, 3., 100)\n",
    "a.scatter(z_true, z_phot_new, alpha=0.2, s=4, label='BPZ, no prior, LSST filters\\nPolletta et al 2007 and BC03 SED templates set')\n",
    "a.plot(zs, zs, 'k:')\n",
    "a.plot(zs, zs+(1+zs)*0.15, 'k-')\n",
    "a.plot(zs, zs-(1+zs)*0.15, 'k-')\n",
    "a.set_xlabel('z_spec')\n",
    "a.set_ylabel('z_phot')\n",
    "a.set_xlim(-0.01, 3.1)\n",
    "a.set_ylim(-0.01, 3.1)\n",
    "a.set_aspect('equal', 'box')\n",
    "a.grid()\n",
    "a.legend()"
   ]
  },
  {
   "cell_type": "markdown",
   "id": "df36776b-9c90-4ad1-b349-d2da22eca5ad",
   "metadata": {},
   "source": [
    "### Try with non default SEDs and all bands"
   ]
  },
  {
   "cell_type": "code",
   "execution_count": null,
   "id": "3bcc68ac-69a8-42b5-b960-1cad75d6af4d",
   "metadata": {},
   "outputs": [],
   "source": [
    "cosmos_roman_dict = dict(\n",
    "    hdf5_groupname=\"photometry\",\n",
    "    output=\"bpz_results_COSMOS_SEDs_LSST_ROMAN.hdf5\",\n",
    "    spectra_file=sedfile,\n",
    "    bands=lsst_bands+roman_bands,\n",
    "    err_bands=lsst_errs+roman_errs,\n",
    "    filter_list=lsst_filts+roman_filts,\n",
    "    mag_limits={_band: 28 for _band in lsst_bands+roman_bands},\n",
    "    zp_errors=np.full(len(lsst_bands+roman_bands), 0.01),\n",
    "    prior_band=\"mag_i_lsst\",\n",
    "    no_prior=True\n",
    ")"
   ]
  },
  {
   "cell_type": "code",
   "execution_count": null,
   "id": "5dfd34d5-ae00-44f6-9d1b-4694525efb88",
   "metadata": {},
   "outputs": [],
   "source": [
    "run_newseds_roman = BPZliteEstimator.make_stage(\n",
    "    name=\"bpz_newseds_lsstRoman\",\n",
    "    model=cosmosprior,\n",
    "    data_path=\"/global/u2/j/jcheval/rail_base/src/rail/examples_data/estimation_data/data\", **cosmos_roman_dict\n",
    ")"
   ]
  },
  {
   "cell_type": "code",
   "execution_count": null,
   "id": "b32dae04-d518-415c-9c96-bde75babf90b",
   "metadata": {},
   "outputs": [],
   "source": [
    "roman_bpz_estimated = run_newseds_roman.estimate(data_bpz)"
   ]
  },
  {
   "cell_type": "code",
   "execution_count": null,
   "id": "44a4ce2b-dc7b-4275-9799-1d84a3200070",
   "metadata": {},
   "outputs": [],
   "source": [
    "z_phot_roman = roman_bpz_estimated.data.mode(grid=np.linspace(0.01, 3.+4.*0.15, 301, endpoint=True))"
   ]
  },
  {
   "cell_type": "code",
   "execution_count": null,
   "id": "4b48b33f-7d02-40e8-86c7-aab8d6eb48bb",
   "metadata": {},
   "outputs": [],
   "source": [
    "import matplotlib.pyplot as plt\n",
    "f, a = plt.subplots(1,1, figsize=(6,6))\n",
    "zs = np.linspace(0.01, 3., 100)\n",
    "a.scatter(z_true, z_phot_roman, alpha=0.2, s=4, label='BPZ, no prior, LSST+Roman filters\\nPolletta et al 2007 and BC03 SED templates set')\n",
    "a.plot(zs, zs, 'k:')\n",
    "a.plot(zs, zs+(1+zs)*0.15, 'k-')\n",
    "a.plot(zs, zs-(1+zs)*0.15, 'k-')\n",
    "a.set_xlabel('z_spec')\n",
    "a.set_ylabel('z_phot')\n",
    "a.set_xlim(-0.01, 3.1)\n",
    "a.set_ylim(-0.01, 3.1)\n",
    "a.set_aspect('equal', 'box')\n",
    "a.grid()\n",
    "a.legend()"
   ]
  },
  {
   "cell_type": "markdown",
   "id": "8bc55fb8-ec08-4961-947a-ddb6cbbca3a6",
   "metadata": {},
   "source": [
    "## Save as appropriate input for process_fors2.photoZ"
   ]
  },
  {
   "cell_type": "code",
   "execution_count": null,
   "id": "cfef64ae-b25f-4f81-977e-92828294e441",
   "metadata": {},
   "outputs": [],
   "source": [
    "'''\n",
    "rerename_dict = {\n",
    "    \"u\": \"mag_lsst_u\",\n",
    "    \"g\": \"mag_lsst_g\",\n",
    "    \"r\": \"mag_lsst_r\",\n",
    "    \"i\": \"mag_lsst_i\",\n",
    "    \"z\": \"mag_lsst_z\",\n",
    "    \"y\": \"mag_lsst_y\",\n",
    "    \"u_err\": \"mag_err_lsst_u\",\n",
    "    \"g_err\": \"mag_err_lsst_g\",\n",
    "    \"r_err\": \"mag_err_lsst_r\",\n",
    "    \"i_err\": \"mag_err_lsst_i\",\n",
    "    \"z_err\": \"mag_err_lsst_z\",\n",
    "    \"y_err\": \"mag_err_lsst_y\",\n",
    "    \"R\": \"mag_roman_wfi_f062\",\n",
    "    \"Z\": \"mag_roman_wfi_f087\",\n",
    "    \"Y\": \"mag_roman_wfi_f106\",\n",
    "    \"J\": \"mag_roman_wfi_f129\",\n",
    "    \"W\": \"mag_roman_wfi_f146\",\n",
    "    \"H\": \"mag_roman_wfi_f158\",\n",
    "    \"F\": \"mag_roman_wfi_f184\",\n",
    "    \"K\": \"mag_roman_wfi_f213\",\n",
    "    \"R_err\": \"mag_err_roman_wfi_f062\",\n",
    "    \"Z_err\": \"mag_err_roman_wfi_f087\",\n",
    "    \"Y_err\": \"mag_err_roman_wfi_f106\",\n",
    "    \"J_err\": \"mag_err_roman_wfi_f129\",\n",
    "    \"W_err\": \"mag_err_roman_wfi_f146\",\n",
    "    \"H_err\": \"mag_err_roman_wfi_f158\",\n",
    "    \"F_err\": \"mag_err_roman_wfi_f184\",\n",
    "    \"K_err\": \"mag_err_roman_wfi_f213\",\n",
    "    \"redshift\": \"z_spec\"\n",
    "}\n",
    "'''\n",
    "#rerename_dict = {\"redshift\": \"z_spec\"}\n",
    "#rerename_dict.update(\n",
    "#    {_key: '_'.join([_key.split('_')[0], _key.split('_')[-1], _key.split('_')[-2]]) for _key in samples_conf_inc_mag_w_errs.data.keys() if \"lsst\" in _key and not \"err\" in _key}\n",
    "#)\n",
    "rerename_dict = {_key: '_'.join([_key.split('_')[0], _key.split('_')[-1], _key.split('_')[-3], _key.split('_')[-2]]) for _key in samples_conf_inc_mag.data.keys() if \"lsst\" in _key and \"err\" in _key}\n",
    "\n",
    "rerename_dict.update(\n",
    "    {_key: '_'.join([_key.split('_')[0], _key.split('_')[-1], _key.split('_')[-3], _key.split('_')[-2]]) for _key in samples_conf_inc_mag.data.keys() if \"roman\" in _key and not \"err\" in _key}\n",
    ")\n",
    "rerename_dict.update(\n",
    "    {_key: '_'.join([_key.split('_')[0], _key.split('_')[-1], _key.split('_')[-2], _key.split('_')[-4], _key.split('_')[-3]]) for _key in samples_conf_inc_mag.data.keys() if \"roman\" in _key and \"err\" in _key}\n",
    ")\n",
    "rerename_dict"
   ]
  },
  {
   "cell_type": "code",
   "execution_count": null,
   "id": "f995410d-a9ba-4c50-8f47-e5dd13f78c31",
   "metadata": {},
   "outputs": [],
   "source": [
    "from rail.tools.table_tools import ColumnMapper\n",
    "\n",
    "col_remapper_proF2 = ColumnMapper.make_stage(\n",
    "    name=\"col_remapper_proF2\",\n",
    "    columns=rerename_dict,\n",
    ")\n",
    "\n",
    "cat_for_processf2 = col_remapper_proF2(samples_conf_inc_mag)\n",
    "cat_for_processf2()"
   ]
  },
  {
   "cell_type": "code",
   "execution_count": null,
   "id": "022a1377-bd9f-4fb5-b36f-75abb6faa60b",
   "metadata": {},
   "outputs": [],
   "source": [
    "final_cat_df = tables_io.convertObj(cat_for_processf2.data, tables_io.types.PD_DATAFRAME)\n",
    "final_cat_df"
   ]
  },
  {
   "cell_type": "code",
   "execution_count": null,
   "id": "317ff351-0340-4e36-a24c-ffabae8d298d",
   "metadata": {},
   "outputs": [],
   "source": [
    "cols_to_drop = [\n",
    "    _col for _col in final_cat_df.columns if \"mag\" in _col and \"err\" not in _col and \"mag_err_\"+\"_\".join(_col.split(\"_\")[1:]) not in final_cat_df.columns\n",
    "]\n",
    "cols_to_drop"
   ]
  },
  {
   "cell_type": "code",
   "execution_count": null,
   "id": "33eb75e1-cada-494d-af3c-44e97ecedf88",
   "metadata": {},
   "outputs": [],
   "source": [
    "final_cat_df.drop(columns=cols_to_drop, inplace=True)"
   ]
  },
  {
   "cell_type": "code",
   "execution_count": null,
   "id": "eeff0fe7-236f-42a1-a69f-1fb413e6f365",
   "metadata": {},
   "outputs": [],
   "source": [
    "final_cat_df"
   ]
  },
  {
   "cell_type": "code",
   "execution_count": null,
   "id": "d597bfff-fd0d-429d-8ded-e96b1c6cb8eb",
   "metadata": {},
   "outputs": [],
   "source": [
    "if True : final_cat_df.to_hdf('magszgalaxies_lsstroman_gold_hp10552.h5', key='photometry')"
   ]
  },
  {
   "cell_type": "markdown",
   "id": "41f27f00-8999-431e-86dc-624c86b1ff82",
   "metadata": {},
   "source": [
    "## Test distribution manips"
   ]
  },
  {
   "cell_type": "code",
   "execution_count": null,
   "id": "8944d84e-ae6d-4fc0-984b-ac8e814f04b0",
   "metadata": {},
   "outputs": [],
   "source": [
    "import qp"
   ]
  },
  {
   "cell_type": "code",
   "execution_count": null,
   "id": "eb30b385-c0a6-4320-b556-9c76d98c3549",
   "metadata": {},
   "outputs": [],
   "source": [
    "zmin = 0.01\n",
    "zmax = 3.1\n",
    "hcounts, hbins = np.histogram(final_cat_df['z_spec'], bins=301, range=(zmin, zmax))\n",
    "hbins, hcounts"
   ]
  },
  {
   "cell_type": "code",
   "execution_count": null,
   "id": "3cd96b15-b70c-40aa-85d4-1cbb9f083c3a",
   "metadata": {},
   "outputs": [],
   "source": [
    "ens_h = qp.Ensemble(qp.hist, data=dict(bins=hbins, pdfs=np.row_stack([hcounts for i in range(10)])))\n",
    "grid = np.linspace(zmin, zmax, 302, endpoint=True)"
   ]
  },
  {
   "cell_type": "code",
   "execution_count": null,
   "id": "78cd58e2-83eb-454e-9454-716ddffd135d",
   "metadata": {},
   "outputs": [],
   "source": [
    "ens_h.plot(xlim=(zmin, zmax))"
   ]
  },
  {
   "cell_type": "code",
   "execution_count": null,
   "id": "02713843-a6eb-4321-8171-613128217889",
   "metadata": {},
   "outputs": [],
   "source": [
    "ztrue=final_cat_df['z_spec'].values[:10]"
   ]
  },
  {
   "cell_type": "code",
   "execution_count": null,
   "id": "2b63e176-3430-46dd-b53f-baaf0f1152be",
   "metadata": {},
   "outputs": [],
   "source": [
    "hPIT = qp.metrics.pit.PIT(ens_h, ztrue)"
   ]
  },
  {
   "cell_type": "code",
   "execution_count": null,
   "id": "38052895-8079-4b0d-88ff-acac1774374a",
   "metadata": {},
   "outputs": [],
   "source": [
    "meta_metr=hPIT.calculate_pit_meta_metrics()"
   ]
  },
  {
   "cell_type": "code",
   "execution_count": null,
   "id": "6d56ff05-cd1b-47dc-8ed9-a99d9d5ace11",
   "metadata": {},
   "outputs": [],
   "source": [
    "meta_metr"
   ]
  },
  {
   "cell_type": "code",
   "execution_count": null,
   "id": "ef9db905-5c04-432b-9ab7-84fcfc3f5a55",
   "metadata": {},
   "outputs": [],
   "source": []
  }
 ],
 "metadata": {
  "kernelspec": {
   "display_name": "desc-python-bleed",
   "language": "python",
   "name": "desc-python-bleed"
  },
  "language_info": {
   "codemirror_mode": {
    "name": "ipython",
    "version": 3
   },
   "file_extension": ".py",
   "mimetype": "text/x-python",
   "name": "python",
   "nbconvert_exporter": "python",
   "pygments_lexer": "ipython3",
   "version": "3.12.10"
  }
 },
 "nbformat": 4,
 "nbformat_minor": 5
}
