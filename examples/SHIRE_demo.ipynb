{
 "cells": [
  {
   "cell_type": "code",
   "execution_count": null,
   "id": "c1145136",
   "metadata": {},
   "outputs": [],
   "source": [
    "import os\n",
    "import qp\n",
    "import jax\n",
    "import matplotlib.pyplot as plt\n",
    "import numpy as np\n",
    "from jax import numpy as jnp\n",
    "import pandas as pd\n",
    "import tables_io\n",
    "\n",
    "from rail.core.data import TableHandle\n",
    "from rail.core.stage import RailStage\n",
    "from rail.utils.path_utils import RAILDIR\n",
    "\n",
    "from rail.shire import ShireInformer, ShireEstimator\n",
    "from rail.core import SHARED_PARAMS\n",
    "\n",
    "jax.config.update(\"jax_enable_x64\", True)"
   ]
  },
  {
   "cell_type": "code",
   "execution_count": null,
   "id": "dc1a6c51",
   "metadata": {},
   "outputs": [],
   "source": [
    "DS = RailStage.data_store\n",
    "DS.__class__.allow_overwrite = True"
   ]
  },
  {
   "cell_type": "code",
   "execution_count": null,
   "id": "e975265a",
   "metadata": {},
   "outputs": [],
   "source": [
    "trainFile = os.path.abspath(os.path.join('.', 'data', 'train_magszgalaxies_lsstroman_gold_hp10552_10k.h5')) #os.path.join(RAILDIR, 'rail/examples_data/testdata/test_dc2_training_9816.hdf5')\n",
    "testFile = os.path.abspath(os.path.join('.', 'data', 'test_magszgalaxies_lsstroman_gold_hp10552_50k.h5')) #os.path.join(RAILDIR, 'rail/examples_data/testdata/test_dc2_validation_9816.hdf5')\n",
    "training_data = DS.read_file(\"training_data\", TableHandle, trainFile)\n",
    "test_data = DS.read_file(\"test_data\", TableHandle, testFile)"
   ]
  },
  {
   "cell_type": "code",
   "execution_count": null,
   "id": "120fc0be",
   "metadata": {},
   "outputs": [],
   "source": [
    "default_dict_inform = dict(\n",
    "    hdf5_groupname=\"photometry\",\n",
    "    output=\"shire_templates_lsstSimhp10552.hf5\",\n",
    "    data_path=\"./data\",\n",
    "    spectra_file=\"dsps_valid_fits_F2_GG_DESI_SM3.h5\",\n",
    "    ssp_file=\"ssp_data_fsps_v3.2_lgmet_age.h5\",\n",
    "    filter_dict={f\"{_n}_lsst\": \"filt_lsst\" for _n in \"ugrizy\"},\n",
    "    wlmin=100.,\n",
    "    wlmax=15000.,\n",
    "    dwl=100.,\n",
    "    colrsbins=60\n",
    ")"
   ]
  },
  {
   "cell_type": "code",
   "execution_count": null,
   "id": "803f2707",
   "metadata": {},
   "outputs": [],
   "source": [
    "run_shire_inform = ShireInformer.make_stage(name=\"shire_inform_lsstSimhp10552\", **default_dict_inform)"
   ]
  },
  {
   "cell_type": "code",
   "execution_count": null,
   "id": "df5094ac",
   "metadata": {},
   "outputs": [],
   "source": [
    "%%time\n",
    "run_shire_inform.inform(training_data)"
   ]
  },
  {
   "cell_type": "code",
   "execution_count": null,
   "id": "c1dbdfa1",
   "metadata": {},
   "outputs": [],
   "source": [
    "templ = run_shire_inform.get_handle(\"templates\")\n",
    "templ.read()"
   ]
  },
  {
   "cell_type": "code",
   "execution_count": null,
   "id": "e8a943e8",
   "metadata": {},
   "outputs": [],
   "source": [
    "default_dict_estimate = dict(\n",
    "    hdf5_groupname=\"photometry\",\n",
    "    output=\"shire_results_lsstSimhp10552_noprior.hdf5\",\n",
    "    data_path=\"./data\",\n",
    "    templ_type=\"SPS\",\n",
    "    ssp_file=\"ssp_data_fsps_v3.2_lgmet_age.h5\",\n",
    "    filter_dict={f\"{_n}_lsst\": \"filt_lsst\" for _n in \"ugrizy\"},\n",
    "    wlmin=100.,\n",
    "    wlmax=15000.,\n",
    "    dwl=100.,\n",
    "    no_prior=True,\n",
    "    chunk_size=50\n",
    ")\n",
    "\n",
    "run_shire_estimate = ShireEstimator.make_stage(\n",
    "    name=\"shire_estimate_lsstSimhp10552\",\n",
    "    **default_dict_estimate,\n",
    "    templates=run_shire_inform.get_handle(\"templates\")\n",
    ")"
   ]
  },
  {
   "cell_type": "code",
   "execution_count": null,
   "id": "f0027e11",
   "metadata": {},
   "outputs": [],
   "source": [
    "%%time\n",
    "run_shire_estimate.estimate(test_data)"
   ]
  },
  {
   "cell_type": "code",
   "execution_count": null,
   "id": "e3b64c93",
   "metadata": {},
   "outputs": [],
   "source": [
    "custom_res = qp.read(\"shire_results_lsstSimhp10552_noprior.hdf5\")"
   ]
  },
  {
   "cell_type": "code",
   "execution_count": null,
   "id": "8834315f",
   "metadata": {},
   "outputs": [],
   "source": [
    "sz = test_data()['photometry']['redshift']"
   ]
  },
  {
   "cell_type": "code",
   "execution_count": null,
   "id": "215e472c",
   "metadata": {},
   "outputs": [],
   "source": [
    "plt.figure(figsize=(8,8))\n",
    "plt.scatter(sz, custom_res.ancil['zmode'].flatten(), s=2, c='k', label='zmode')\n",
    "plt.plot([0,3], [0,3], 'r--')\n",
    "plt.xlabel(\"redshift\")\n",
    "plt.ylabel(\"photo-z mode\")\n",
    "plt.legend(loc='upper center', fontsize=10)"
   ]
  },
  {
   "cell_type": "code",
   "execution_count": null,
   "id": "5cc1cba9",
   "metadata": {},
   "outputs": [],
   "source": [
    "custom_res.ancil['zmode'].shape"
   ]
  },
  {
   "cell_type": "code",
   "execution_count": null,
   "id": "505e1a2a",
   "metadata": {},
   "outputs": [],
   "source": [
    "fig, axs = plt.subplots(1,1, figsize=(10,6))\n",
    "custom_res.plot_native(key=110, axes=axs, label='example')\n",
    "axs.set_xlabel(\"redshift\")\n",
    "axs.set_ylabel(\"PDF\")\n",
    "axs.set_yscale('log')\n",
    "axs.legend(loc=\"upper center\", fontsize=10)"
   ]
  },
  {
   "cell_type": "code",
   "execution_count": null,
   "id": "c389fec0",
   "metadata": {},
   "outputs": [],
   "source": []
  }
 ],
 "metadata": {
  "kernelspec": {
   "display_name": "rail",
   "language": "python",
   "name": "python3"
  },
  "language_info": {
   "codemirror_mode": {
    "name": "ipython",
    "version": 3
   },
   "file_extension": ".py",
   "mimetype": "text/x-python",
   "name": "python",
   "nbconvert_exporter": "python",
   "pygments_lexer": "ipython3",
   "version": "3.12.7"
  }
 },
 "nbformat": 4,
 "nbformat_minor": 5
}
