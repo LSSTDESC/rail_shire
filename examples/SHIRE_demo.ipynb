{
 "cells": [
  {
   "cell_type": "code",
   "execution_count": null,
   "id": "c1145136",
   "metadata": {},
   "outputs": [],
   "source": [
    "import os\n",
    "import qp\n",
    "import jax\n",
    "import matplotlib.pyplot as plt\n",
    "from jax import numpy as jnp\n",
    "\n",
    "from rail.core.data import TableHandle\n",
    "from rail.core.stage import RailStage\n",
    "from rail.utils.path_utils import RAILDIR\n",
    "from rail.core.common_params import SHARED_PARAMS\n",
    "\n",
    "from rail.shire import ShireInformer, ShireEstimator, hist_outliers, plot_zp_zs_ensemble\n",
    "\n",
    "jax.config.update(\"jax_enable_x64\", True)"
   ]
  },
  {
   "cell_type": "markdown",
   "id": "1a76a826",
   "metadata": {},
   "source": [
    "## Select and load data into the datastore"
   ]
  },
  {
   "cell_type": "code",
   "execution_count": null,
   "id": "dc1a6c51",
   "metadata": {},
   "outputs": [],
   "source": [
    "DS = RailStage.data_store\n",
    "DS.__class__.allow_overwrite = True"
   ]
  },
  {
   "cell_type": "code",
   "execution_count": null,
   "id": "e975265a",
   "metadata": {},
   "outputs": [],
   "source": [
    "trainFile = os.path.abspath(os.path.join('.', 'data', 'train_magszgalaxies_lsstroman_gold_hp10552_10k.h5')) #os.path.abspath(os.path.join('./data', 'test_magszgalaxies_lsstroman_gold_hp10552_50k.h5')) #os.path.join(RAILDIR, 'rail/examples_data/testdata/test_dc2_training_9816.hdf5')\n",
    "testFile = os.path.abspath(os.path.join('.', 'data', 'test_magszgalaxies_lsstroman_gold_hp10552_50k.h5')) #os.path.abspath(os.path.join('../..', 'magszgalaxies_lsstroman_gold_hp10552.h5')) #os.path.join(RAILDIR, 'rail/examples_data/testdata/test_dc2_validation_9816.hdf5')\n",
    "\n",
    "training_data = DS.read_file(\"training_data\", TableHandle, trainFile)\n",
    "test_data = DS.read_file(\"test_data\", TableHandle, testFile)"
   ]
  },
  {
   "cell_type": "code",
   "execution_count": null,
   "id": "e691cb2f",
   "metadata": {},
   "outputs": [],
   "source": [
    "lsst_filts_dict = {f\"{_n}_lsst\": \"filt_lsst\" for _n in \"ugrizy\"}\n",
    "roman_filts_dict = {\n",
    "    \"roman_wfi_f106\": \"\",\n",
    "    \"roman_wfi_f129\": \"\",\n",
    "    \"roman_wfi_f158\": \"\",\n",
    "    \"roman_wfi_f184\": \"\"\n",
    "}\n",
    "\n",
    "_bands = [ f\"mag_{_k}\" for _k in {**lsst_filts_dict, **roman_filts_dict} ]\n",
    "_errbands = [ f\"mag_err_{_k}\" for _k in {**lsst_filts_dict, **roman_filts_dict} ]\n",
    "_maglims = {**SHARED_PARAMS['mag_limits'], **{_band: 28 for _band in _bands if 'roman' in _band}}\n",
    "print(_maglims)"
   ]
  },
  {
   "cell_type": "markdown",
   "id": "cf8b277f",
   "metadata": {},
   "source": [
    "## Inform the estimator, i.e. select a subset of galaxies as templates"
   ]
  },
  {
   "cell_type": "code",
   "execution_count": null,
   "id": "120fc0be",
   "metadata": {},
   "outputs": [],
   "source": [
    "default_dict_inform = dict(\n",
    "    hdf5_groupname=\"photometry\",\n",
    "    output=\"shire_templates_lsstSimhp10552.hf5\",\n",
    "    data_path=\"./data\",\n",
    "    bands=_bands,\n",
    "    err_bands=_errbands,\n",
    "    mag_limits=_maglims,\n",
    "    spectra_file=\"dsps_valid_fits_F2_GG_DESI_SM3.h5\",\n",
    "    ssp_file=\"ssp_data_fsps_v3.2_lgmet_age.h5\",\n",
    "    filter_dict={**lsst_filts_dict, **roman_filts_dict},\n",
    "    wlmin=1000.,\n",
    "    wlmax=25000.,\n",
    "    dwl=10.,\n",
    "    colrsbins=40\n",
    ")"
   ]
  },
  {
   "cell_type": "code",
   "execution_count": null,
   "id": "803f2707",
   "metadata": {},
   "outputs": [],
   "source": [
    "run_shire_inform = ShireInformer.make_stage(name=\"shire_inform_lsstSimhp10552\", **default_dict_inform)"
   ]
  },
  {
   "cell_type": "code",
   "execution_count": null,
   "id": "df5094ac",
   "metadata": {},
   "outputs": [],
   "source": [
    "%%time\n",
    "run_shire_inform.inform(training_data)"
   ]
  },
  {
   "cell_type": "code",
   "execution_count": null,
   "id": "c1dbdfa1",
   "metadata": {},
   "outputs": [],
   "source": [
    "templ = run_shire_inform.get_handle(\"templates\")\n",
    "templ.read()"
   ]
  },
  {
   "cell_type": "code",
   "execution_count": null,
   "id": "4a7629b7",
   "metadata": {},
   "outputs": [],
   "source": [
    "run_shire_inform.plot_colrs_templates()"
   ]
  },
  {
   "cell_type": "code",
   "execution_count": null,
   "id": "af16e0e1",
   "metadata": {},
   "outputs": [],
   "source": [
    "run_shire_inform.plot_sfh_templates()"
   ]
  },
  {
   "cell_type": "code",
   "execution_count": null,
   "id": "55ec4af3",
   "metadata": {},
   "outputs": [],
   "source": [
    "run_shire_inform.hist_colrs_templates()"
   ]
  },
  {
   "cell_type": "code",
   "execution_count": null,
   "id": "b14379e0",
   "metadata": {},
   "outputs": [],
   "source": [
    "run_shire_inform.plot_bpt_templates()"
   ]
  },
  {
   "cell_type": "markdown",
   "id": "2d4bec01",
   "metadata": {},
   "source": [
    "## Run the photometric redshifts estimation"
   ]
  },
  {
   "cell_type": "code",
   "execution_count": null,
   "id": "e8a943e8",
   "metadata": {},
   "outputs": [],
   "source": [
    "default_dict_estimate = dict(\n",
    "    hdf5_groupname=\"photometry\",\n",
    "    output=\"shire_results_lsstSimhp10552_noprior.hdf5\",\n",
    "    data_path=\"./data\",\n",
    "    templ_type=\"SPS\",\n",
    "    bands=_bands,\n",
    "    err_bands=_errbands,\n",
    "    zmin=0.01,\n",
    "    zmax=3.1,\n",
    "    nzbins=310,\n",
    "    mag_limits=_maglims,\n",
    "    ssp_file=\"ssp_data_fsps_v3.2_lgmet_age.h5\",\n",
    "    filter_dict={**lsst_filts_dict, **roman_filts_dict},\n",
    "    wlmin=1000.,\n",
    "    wlmax=25000.,\n",
    "    dwl=10.,\n",
    "    no_prior=True,\n",
    "    chunk_size=5000\n",
    ")\n",
    "\n",
    "run_shire_estimate = ShireEstimator.make_stage(\n",
    "    name=\"shire_estimate_lsstSimhp10552\",\n",
    "    **default_dict_estimate,\n",
    "    templates=run_shire_inform.get_handle(\"templates\"),\n",
    "    model=run_shire_inform.get_handle(\"model\")\n",
    ")"
   ]
  },
  {
   "cell_type": "code",
   "execution_count": null,
   "id": "f0027e11",
   "metadata": {},
   "outputs": [],
   "source": [
    "%%time\n",
    "run_shire_estimate.estimate(test_data)"
   ]
  },
  {
   "cell_type": "code",
   "execution_count": null,
   "id": "e3b64c93",
   "metadata": {},
   "outputs": [],
   "source": [
    "pdfs_file = \"shire_results_lsstSimhp10552_noprior.hdf5\"\n",
    "custom_res = qp.read(pdfs_file)\n",
    "sz = jnp.array(test_data()['photometry']['redshift'])"
   ]
  },
  {
   "cell_type": "code",
   "execution_count": null,
   "id": "c389fec0",
   "metadata": {},
   "outputs": [],
   "source": [
    "a = plot_zp_zs_ensemble(custom_res, sz, z_grid=None, key_estim=\"zmode\", label='_'.join(['SHIRE']+(os.path.splitext(pdfs_file)[0]).split('_')[2:]))\n",
    "plt.show()"
   ]
  },
  {
   "cell_type": "code",
   "execution_count": null,
   "id": "da5d366d",
   "metadata": {},
   "outputs": [],
   "source": [
    "hist_outliers(\n",
    "    custom_res, sz, label1='_'.join(['SHIRE']+(os.path.splitext(pdfs_file)[0]).split('_')[2:])\n",
    ")\n",
    "plt.show()"
   ]
  },
  {
   "cell_type": "markdown",
   "id": "6410eb96",
   "metadata": {},
   "source": [
    "## Build a pipeline with `ceci`"
   ]
  },
  {
   "cell_type": "code",
   "execution_count": null,
   "id": "acb5935e",
   "metadata": {},
   "outputs": [],
   "source": [
    "import ceci\n",
    "pipe = ceci.Pipeline.interactive()\n",
    "stages = [run_shire_inform, run_shire_estimate]\n",
    "for stage in stages:\n",
    "    pipe.add_stage(stage)\n",
    "pipe.stage_execution_config['shire_estimate_lsstSimhp10552'].nprocess=2"
   ]
  },
  {
   "cell_type": "code",
   "execution_count": null,
   "id": "39ce1411",
   "metadata": {},
   "outputs": [],
   "source": [
    "pipe.initialize(\n",
    "    dict(\n",
    "        training_data=trainFile,\n",
    "        test_data=testFile\n",
    "    ),\n",
    "    dict(\n",
    "        output_dir='.',\n",
    "        log_dir='.',\n",
    "        resume=False\n",
    "    ),\n",
    "    None\n",
    ")"
   ]
  },
  {
   "cell_type": "code",
   "execution_count": null,
   "id": "b54b0b5d",
   "metadata": {},
   "outputs": [],
   "source": [
    "pipe.save('rail_shire_pz.yml')"
   ]
  },
  {
   "cell_type": "code",
   "execution_count": null,
   "id": "4e589666",
   "metadata": {},
   "outputs": [],
   "source": [
    "pr = ceci.Pipeline.read('rail_shire_pz.yml')"
   ]
  },
  {
   "cell_type": "code",
   "execution_count": null,
   "id": "9927b847",
   "metadata": {},
   "outputs": [],
   "source": [
    "pr.run()"
   ]
  }
 ],
 "metadata": {
  "kernelspec": {
   "display_name": "rail",
   "language": "python",
   "name": "python3"
  },
  "language_info": {
   "codemirror_mode": {
    "name": "ipython",
    "version": 3
   },
   "file_extension": ".py",
   "mimetype": "text/x-python",
   "name": "python",
   "nbconvert_exporter": "python",
   "pygments_lexer": "ipython3",
   "version": "3.12.7"
  }
 },
 "nbformat": 4,
 "nbformat_minor": 5
}
