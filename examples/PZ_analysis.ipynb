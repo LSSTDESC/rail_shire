{
 "cells": [
  {
   "cell_type": "markdown",
   "id": "a331a6b4",
   "metadata": {},
   "source": [
    "# Notebook to run photo-z estimation with `process_fors2.photoZ`\n",
    "Created by J. Chevalier on October 28, 2024"
   ]
  },
  {
   "cell_type": "markdown",
   "id": "1d54cf95",
   "metadata": {},
   "source": [
    "## Requirements\n",
    "This notebook requires the `process_fors2` and `dsps` packages. Installation instructions can be found following [this link](https://github.com/JospehCeh/process_fors2.git).\n",
    "\n",
    "Then, a `jupyter` kernel must be created and associated to your installation environment and used to run this notebook."
   ]
  },
  {
   "cell_type": "markdown",
   "id": "d0456565",
   "metadata": {},
   "source": [
    "## Imports"
   ]
  },
  {
   "cell_type": "code",
   "execution_count": null,
   "id": "423648aa",
   "metadata": {},
   "outputs": [],
   "source": [
    "import numpy as np  # simply more convenient for a couple of things\n",
    "from jax import numpy as jnp\n",
    "import h5py\n",
    "\n",
    "from process_fors2.fetchData import json_to_inputs, readPhotoZHDF5\n",
    "from process_fors2.photoZ import run_from_inputs"
   ]
  },
  {
   "cell_type": "markdown",
   "id": "c4647f89",
   "metadata": {},
   "source": [
    "## Default run"
   ]
  },
  {
   "cell_type": "code",
   "execution_count": null,
   "id": "4b572718",
   "metadata": {},
   "outputs": [],
   "source": [
    "# Defaults settings\n",
    "conf_file_sps = \"conf_IDRIS_cosmos2020_allFilts_noPrior.json\" # \"conf_IDRIS_PZ_TemplSel.json\" # \n",
    "conf_file_legacy = \"conf_IDRIS_LEGACY-cosmos2020_allFilts_noPrior.json\" # \"conf_IDRIS_LEGACY-PZ_TemplSel.json\" # \n",
    "\n",
    "input_settings_sps = json_to_inputs(conf_file_sps)\n",
    "inputs_pz_sps = input_settings_sps[\"photoZ\"]\n",
    "\n",
    "input_settings_legacy = json_to_inputs(conf_file_legacy)\n",
    "inputs_pz_legacy = input_settings_legacy[\"photoZ\"]\n",
    "\n",
    "inputs_pz_sps"
   ]
  },
  {
   "cell_type": "markdown",
   "id": "eac5caa5",
   "metadata": {},
   "source": [
    "Here we have loaded the defaults settings that come within the package for a minimal (and not optimized at all) run.\n",
    "It is structured as a dictionary so it is easy to change one of the settings before the run. For example :"
   ]
  },
  {
   "cell_type": "code",
   "execution_count": null,
   "id": "c9d615ea-4f9a-45eb-8f04-a87355b6612d",
   "metadata": {},
   "outputs": [],
   "source": [
    "if False:\n",
    "    inputs_pz_legacy[\"Templates\"] = {\n",
    "        'input': \"templ_NEWscoredOnTraining_SPS.h5\",\n",
    "        'output': \"SEDtempl_NEWscoredOnTraining_SPS.h5\",\n",
    "        'overwrite': True\n",
    "    }\n",
    "    inputs_pz_legacy[\"run name\"] = \"PZ_SPSbutLEGACY_COSMOS2020vis_NEWscored_noprior\"\n",
    "    #inputs_pz_legacy['save results'] = True\n",
    "    #inputs_pz_legacy['Mode'] = 'Legacy'"
   ]
  },
  {
   "cell_type": "markdown",
   "id": "f268b40f",
   "metadata": {},
   "source": [
    "Note that as of now, the setting we have modified is actually not used in the code, so it won't affect our run and only serves as an example."
   ]
  },
  {
   "cell_type": "markdown",
   "id": "33abf23c",
   "metadata": {},
   "source": [
    "## Photometric redshifts\n",
    "Now we will run the code from the notebook. It may take some time, up to a couple of hours on larger datasets, and jax implementation does not make it easy to incorporate progress bars so please just be patient..."
   ]
  },
  {
   "cell_type": "code",
   "execution_count": null,
   "id": "cabacb6e",
   "metadata": {},
   "outputs": [],
   "source": [
    "%%time\n",
    "if False:\n",
    "    pz_res_tree = run_from_inputs(input_settings_sps)  # It is necessary here to use the overall dictionary and not the 'photoZ' subset"
   ]
  },
  {
   "cell_type": "markdown",
   "id": "2d983508",
   "metadata": {},
   "source": [
    "Now, we may want to save the results to the disk, so let us write them into an `HDF5` file with the included utilitary `photoZtoHDF5`:"
   ]
  },
  {
   "cell_type": "code",
   "execution_count": null,
   "id": "ec539b92",
   "metadata": {},
   "outputs": [],
   "source": [
    "if False:\n",
    "    if input_settings_sps[\"photoZ\"][\"save results\"]:\n",
    "        from process_fors2.fetchData import photoZtoHDF5\n",
    "        resfile = photoZtoHDF5(f\"{input_settings_sps['photoZ']['run name']}_posteriors_dict.h5\", pz_res_tree)\n",
    "    else:\n",
    "        resfile = \"Run terminated correctly but results were not saved, please check your input configuration.\"\n",
    "    print(resfile)"
   ]
  },
  {
   "cell_type": "markdown",
   "id": "9ce7202c",
   "metadata": {},
   "source": [
    "Alternatively, the steps above can be performed from a terminal by running the command :\n",
    "`python -m process_fors2.photoZ $HOME/process_fors2/src/data/defaults.json` (or using any other appropriate `JSON` configuration file)."
   ]
  },
  {
   "cell_type": "markdown",
   "id": "e12c964c",
   "metadata": {},
   "source": [
    "## Let's look at the results\n",
    "Here we can either read the file we have created using the provided function `readPhotoZHDF5`, or directly use our `pz_res_tree` object.\n",
    "\n",
    "**Note :**\n",
    "_If the results were saved in the step above, it is highly recommended to reload them, otherwise the PDFs might be missing from the `pz_res_tree` object due to the presence of `dict.pop()` methods in `photoZtoHDF5`._\n"
   ]
  },
  {
   "cell_type": "code",
   "execution_count": null,
   "id": "b93f147b-519a-44ed-a918-2d894d44d5f6",
   "metadata": {},
   "outputs": [],
   "source": [
    "load_from_file = input_settings_sps[\"photoZ\"][\"save results\"]\n",
    "resfile_sps = f\"{input_settings_sps['photoZ']['run name']}_posteriors_dict.h5\"\n",
    "resfile_legacy = f\"{input_settings_legacy['photoZ']['run name']}_posteriors_dict.h5\"\n",
    "if load_from_file:\n",
    "    pz_res_tree_sps = readPhotoZHDF5(resfile_sps)"
   ]
  },
  {
   "cell_type": "code",
   "execution_count": null,
   "id": "3f08092d-8406-4e2a-ad8d-22915c401f27",
   "metadata": {},
   "outputs": [],
   "source": [
    "z_grid = pz_res_tree_sps['z_grid']\n",
    "#z_grid = jnp.arange(inputs_pz[\"Z_GRID\"][\"z_min\"], inputs_pz[\"Z_GRID\"][\"z_max\"] + inputs_pz[\"Z_GRID\"][\"z_step\"], inputs_pz[\"Z_GRID\"][\"z_step\"])"
   ]
  },
  {
   "cell_type": "code",
   "execution_count": null,
   "id": "301deeac-4b5e-477c-a434-2e1f5ae6dc1c",
   "metadata": {},
   "outputs": [],
   "source": [
    "import matplotlib\n",
    "import matplotlib.pyplot as plt\n",
    "from matplotlib import colors\n",
    "import matplotlib.cm as cmx\n",
    "\n",
    "%matplotlib widget\n",
    "\n",
    "from matplotlib.colors import LinearSegmentedColormap\n",
    "\n",
    "# \"Viridis-like\" colormap with white background\n",
    "white_viridis = LinearSegmentedColormap.from_list('white_viridis', [\n",
    "    (0, '#ffffff'),\n",
    "    (1e-20, '#440053'),\n",
    "    (0.2, '#404388'),\n",
    "    (0.4, '#2a788e'),\n",
    "    (0.6, '#21a784'),\n",
    "    (0.8, '#78d151'),\n",
    "    (1, '#fde624'),\n",
    "], N=256)\n",
    "\n",
    "def _plot_pdz(res_dict, numobj):\n",
    "    f, a = plt.subplots(1, 1, figsize=(6, 6))\n",
    "    zs = res_dict[\"redshift\"][numobj]\n",
    "    mean = res_dict[\"z_mean\"][numobj]\n",
    "    medz = res_dict[\"z_med\"][numobj]\n",
    "    mode = res_dict[\"z_ML\"][numobj]\n",
    "    a.semilogy(res_dict[\"z_grid\"], res_dict[\"PDZ\"][:, numobj])\n",
    "    if zs is not None:\n",
    "        a.axvline(zs, c=\"k\", label=\"z_spec\")\n",
    "    a.axvline(mean, c=\"r\", label=\"Mean\")\n",
    "    a.axvline(medz, c=\"orange\", label=\"Median\")\n",
    "    a.axvline(mode, c=\"g\", label=\"Mode\")\n",
    "    a.legend()\n",
    "    a.set_xlabel(r\"$z_{phot}$\")\n",
    "\n",
    "def plot_zp_zs(res_dict, z_bounds=None, ax=None, label=\"\"):\n",
    "    if ax is None:\n",
    "        f, ax = plt.subplots(1, 1, figsize=(7, 6))\n",
    "    if z_bounds is None:\n",
    "        z_grid = res_dict[\"z_grid\"]\n",
    "        zp = res_dict['z_ML']\n",
    "        zs = res_dict['redshift']\n",
    "    else:\n",
    "        zmin, zmax = z_bounds\n",
    "        sel_grid = jnp.logical_and(res_dict[\"z_grid\"]>=zmin-0.1, res_dict[\"z_grid\"]<=zmax+0.1)\n",
    "        sel_zs = jnp.logical_and(res_dict[\"redshift\"]>=zmin, res_dict[\"redshift\"]<=zmax)\n",
    "        z_grid = res_dict[\"z_grid\"][sel_grid]\n",
    "        zp = res_dict['z_ML'][sel_zs]\n",
    "        zs = res_dict['redshift'][sel_zs]\n",
    "    \n",
    "    bias = zp - zs\n",
    "    errz = bias/(1+zs)\n",
    "    meanscat, sigscat, medscat = jnp.mean(errz), jnp.std(errz), jnp.median(errz)\n",
    "    mad = jnp.median(jnp.abs(errz)) #- medscat))\n",
    "    sig_mad = 1.4826 * mad\n",
    "    outliers = jnp.nonzero(jnp.abs(errz)*100.0 > 15) #3*sigscat) #\n",
    "    outl_rate = len(zs[outliers]) / len(zs)\n",
    "\n",
    "    cmap = plt.get_cmap('viridis_r')\n",
    "    cNorm = colors.Normalize(vmin=100*jnp.abs(errz).min(), vmax=20)\n",
    "    scalarMap = cmx.ScalarMappable(norm=cNorm, cmap=cmap)\n",
    "    all_colors_refs = scalarMap.to_rgba(100*jnp.abs(errz), alpha=1)\n",
    "    \n",
    "    density = ax.scatter(zs, zp, s=4, alpha=0.2, c=all_colors_refs)\n",
    "    ax.plot(z_grid, z_grid, c=\"k\", ls=\":\", lw=1)\n",
    "    outl, = ax.plot(z_grid, z_grid + 0.15 * (1 + z_grid), c=\"k\", lw=2)\n",
    "    ax.plot(z_grid, z_grid - 0.15 * (1 + z_grid), c=\"k\", lw=2)\n",
    "\n",
    "    med, = ax.plot(z_grid, z_grid + medscat*(1 + z_grid), c=\"orange\", lw=2, ls='-.') #, label=r\"$\\mathrm{median}\\left(\\zeta_z \\right)$\")\n",
    "    scat = ax.fill_between(z_grid, z_grid + (medscat+sigscat)*(1 + z_grid), z_grid + (medscat-sigscat)*(1 + z_grid), color=\"pink\", alpha=0.4)\n",
    "    \n",
    "    ax.set_xlabel(r\"$z_{spec}$\")\n",
    "    ax.set_ylabel(r\"$z_{phot}$\")\n",
    "    ax.set_xlim(z_grid.min()-0.05, z_grid.max()+0.05)\n",
    "    ax.set_ylim(z_grid.min()-0.05, z_grid.max()+0.05)\n",
    "    f.legend(\n",
    "        [density, outl, (med, scat)],\n",
    "        [\n",
    "            label,\n",
    "            \"Outliers:\\n\"+r\"$\\left| \\frac{z_p-z_s}{1+z_s} \\right| > 0.15$\",\n",
    "            r\"$\\mathrm{median} \\left( \\zeta_z \\right) \\pm \\sigma_{\\zeta_z}=$\"+f\"\\n\\t{medscat:.3f}\"+r\"$\\pm$\"+f\"{sigscat:.3f}\"\n",
    "        ],\n",
    "        loc='lower right',\n",
    "        bbox_to_anchor=(1., 0.)\n",
    "    )\n",
    "    ax.grid()\n",
    "    ax.set_title(f\"{100.0*outl_rate:.3f}% outliers ;\\n\"+r\"$\\sigma_{MAD}=$\"+f\"{sig_mad:.3f}\")\n",
    "    plt.colorbar(scalarMap, ax=ax, location='right', label=r\"$\\frac{\\left| \\Delta z \\right|}{1+z}$ [%]\")\n",
    "    print(f\"{label}: {100*outl_rate:.3f}% outliers out of {len(zp)} successful fits.\\nsigma_mad: {sig_mad:.3f}.\")\n",
    "    \n",
    "    return ax\n",
    "\n",
    "def plot_zp_zs_photzHDF5(pz_hdf5, res_key='pz_outputs', zgrid_key='z_grid', zp_key='z_ML', zs_key='redshift', label='', bins=100):\n",
    "    f, ax = plt.subplots(1, 1, figsize=(7, 6))\n",
    "\n",
    "    with h5py.File(pz_hdf5, 'r') as h5res:\n",
    "        pzouts = h5res.get(res_key)\n",
    "        zp = jnp.array(pzouts.get(zp_key), dtype=jnp.float64)\n",
    "        zs = jnp.array(pzouts.get(zs_key), dtype=jnp.float64)\n",
    "        z_grid = jnp.array(pzouts.get(zgrid_key), dtype=jnp.float64)\n",
    "\n",
    "    bias = zp - zs\n",
    "    errz = bias/(1+zs)\n",
    "    meanscat, sigscat, medscat = jnp.mean(errz), jnp.std(errz), jnp.median(errz)\n",
    "    mad = jnp.median(jnp.abs(errz)) # - medscat))\n",
    "    sig_mad = 1.4826 * mad\n",
    "    outliers = jnp.nonzero(jnp.abs(errz)*100.0 > 15) #3*sigscat) #\n",
    "    outl_rate = len(zs[outliers]) / len(zs)\n",
    "    \n",
    "    #ax.scatter(zs, zp, s=4, alpha=0.2, label=label, c=all_colors_refs)\n",
    "    density = ax.hexbin(zs, zp, bins='log', gridsize=bins)\n",
    "    ax.plot(z_grid, z_grid, c=\"k\", ls=\":\", lw=1)\n",
    "    outl, = ax.plot(z_grid, z_grid + 0.15 * (1 + z_grid), c=\"k\", lw=2)\n",
    "    ax.plot(z_grid, z_grid - 0.15 * (1 + z_grid), c=\"k\", lw=2)\n",
    "\n",
    "    med, = ax.plot(z_grid, z_grid + medscat*(1 + z_grid), c=\"orange\", lw=2, ls='-.') #, label=r\"$\\mathrm{median}\\left(\\zeta_z \\right)$\")\n",
    "    scat = ax.fill_between(z_grid, z_grid + (medscat+sigscat)*(1 + z_grid), z_grid + (medscat-sigscat)*(1 + z_grid), color=\"pink\", alpha=0.4)\n",
    "    \n",
    "    ax.set_xlabel(r\"$z_{spec}$\")\n",
    "    ax.set_ylabel(r\"$z_{phot}$\")\n",
    "    ax.set_xlim(z_grid.min()-0.05, z_grid.max()+0.05)\n",
    "    ax.set_ylim(z_grid.min()-0.05, z_grid.max()+0.05)\n",
    "    f.legend(\n",
    "        [density, outl, (med, scat)],\n",
    "        [\n",
    "            label,\n",
    "            \"Outliers:\\n\"+r\"$\\left| \\frac{z_p-z_s}{1+z_s} \\right| > 0.15$\",\n",
    "            r\"$\\mathrm{median} \\left( \\zeta_z \\right) \\pm \\sigma_{\\zeta_z}=$\"+f\"\\n\\t{medscat:.3f}\"+r\"$\\pm$\"+f\"{sigscat:.3f}\"\n",
    "        ],\n",
    "        loc='lower right',\n",
    "        bbox_to_anchor=(1., 0.)\n",
    "    )\n",
    "    ax.grid()\n",
    "    ax.set_title(f\"{100.0*outl_rate:.3f}% outliers ;\\n\"+r\"$\\sigma_{MAD}=$\"+f\"{sig_mad:.3f}\")\n",
    "    #plt.colorbar(scalarMap, ax=ax, location='right', label=\"Delta z / (1+z) [%]\")\n",
    "    cbar = f.colorbar(density, label='Density', location='right')\n",
    "    ax.set_aspect(\"equal\", \"box\")\n",
    "    print(f\"{label}: {100*outl_rate:.3f}% outliers out of {len(zp)} successful fits.\\nsigma_mad: {sig_mad:.3f}.\")\n",
    "    \n",
    "    return ax\n",
    "\n",
    "def hist_outliers(pz1_hdf5, pz2_hdf5=None, label1='', label2='', res_key='pz_outputs', zp_key='z_ML', zs_key='redshift'):\n",
    "    f, ax = plt.subplots(1, 1, figsize=(7, 6))\n",
    "\n",
    "    with h5py.File(pz1_hdf5, 'r') as h5res:\n",
    "        pzouts = h5res.get(res_key)\n",
    "        zp1 = jnp.array(pzouts.get(zp_key), dtype=jnp.float64)\n",
    "        zs1 = jnp.array(pzouts.get(zs_key), dtype=jnp.float64)\n",
    "\n",
    "    bias1 = zp1 - zs1\n",
    "    errz1 = bias1/(1+zs1)\n",
    "    meanscat1, sigscat1, medscat1 = jnp.mean(errz1), jnp.std(errz1), jnp.median(errz1)\n",
    "    mad1 = jnp.median(jnp.abs(errz1)) #- medscat1))\n",
    "    sig_mad1 = 1.4826 * mad1\n",
    "    outliers1 = jnp.nonzero(jnp.abs(errz1)*100.0 > 15) #3*sigscat) #\n",
    "    _n, _bins, _ = ax.hist(zs1[outliers1], bins='auto', density=False, label=label1, alpha=0.7)\n",
    "\n",
    "    if pz2_hdf5 is not None and pz2_hdf5!=\"\":\n",
    "        with h5py.File(pz2_hdf5, 'r') as h5res:\n",
    "            pzouts = h5res.get(res_key)\n",
    "            zp2 = jnp.array(pzouts.get(zp_key), dtype=jnp.float64)\n",
    "            zs2 = jnp.array(pzouts.get(zs_key), dtype=jnp.float64)\n",
    "    \n",
    "        bias2 = zp2 - zs2\n",
    "        errz2 = bias2/(1+zs2)\n",
    "        meanscat2, sigscat2, medscat2 = jnp.mean(errz2), jnp.std(errz2), jnp.median(errz2)\n",
    "        mad2 = jnp.median(jnp.abs(errz2)) #- medscat1))\n",
    "        sig_mad2 = 1.4826 * mad2\n",
    "        outliers2 = jnp.nonzero(jnp.abs(errz2)*100.0 > 15) #3*sigscat) #\n",
    "        ax.hist(zs2[outliers2], bins=_bins, density=False, label=label2, alpha=0.7)\n",
    "    #ax.set_aspect(\"equal\", \"box\")\n",
    "    ax.set_xlabel(r\"$z_{spec}$\")\n",
    "    ax.set_ylabel(\"Outliers count\")\n",
    "    ax.legend()\n",
    "    return ax"
   ]
  },
  {
   "cell_type": "code",
   "execution_count": null,
   "id": "53f6dc5d-1d21-4846-ba1f-81bf8a89eb67",
   "metadata": {},
   "outputs": [],
   "source": [
    "randomid = np.random.choice(pz_res_tree_sps['PDZ'].shape[1])"
   ]
  },
  {
   "cell_type": "code",
   "execution_count": null,
   "id": "3a7769bc-1e71-4ff5-abe9-01d9d1bd413b",
   "metadata": {},
   "outputs": [],
   "source": [
    "_plot_pdz(pz_res_tree_sps, randomid)\n",
    "plt.show()"
   ]
  },
  {
   "cell_type": "code",
   "execution_count": null,
   "id": "8fed3978-d9ea-40e1-a9a7-8955ef1c12ef",
   "metadata": {},
   "outputs": [],
   "source": [
    "ax_zpzs = plot_zp_zs(pz_res_tree_sps, z_bounds=None, label='_'.join(inputs_pz_sps[\"run name\"].split('_')[1:3]))\n",
    "plt.show()"
   ]
  },
  {
   "cell_type": "code",
   "execution_count": null,
   "id": "9d779c10-88ad-4887-b4ef-e0e27baa190f",
   "metadata": {},
   "outputs": [],
   "source": [
    "plot_zp_zs_photzHDF5(resfile_sps, label='_'.join(inputs_pz_sps[\"run name\"].split('_')[1:3]), bins=100)\n",
    "plt.show()"
   ]
  },
  {
   "cell_type": "code",
   "execution_count": null,
   "id": "5424a86c-77ce-4904-8a23-9397a5fe3f01",
   "metadata": {},
   "outputs": [],
   "source": [
    "plot_zp_zs_photzHDF5(resfile_legacy, label='_'.join(inputs_pz_legacy[\"run name\"].split('_')[1:3]), bins=100)\n",
    "plt.show()"
   ]
  },
  {
   "cell_type": "code",
   "execution_count": null,
   "id": "6f8c3c3b-dc42-4145-93a9-ec70cf3c5c75",
   "metadata": {},
   "outputs": [],
   "source": [
    "hist_outliers(resfile_sps, resfile_legacy, label1='_'.join(inputs_pz_sps[\"run name\"].split('_')[1:3]), label2='_'.join(inputs_pz_legacy[\"run name\"].split('_')[1:3]))\n",
    "plt.show()"
   ]
  },
  {
   "cell_type": "code",
   "execution_count": null,
   "id": "4c8cef83-ff14-48c4-86fd-266e600cfccc",
   "metadata": {},
   "outputs": [],
   "source": []
  }
 ],
 "metadata": {
  "kernelspec": {
   "display_name": "jax-0.4.24_py3.11.7_cuda-12.2",
   "language": "python",
   "name": "module-conda-env-jax-0.4.24_py3.11.7_cuda-12.2"
  },
  "language_info": {
   "codemirror_mode": {
    "name": "ipython",
    "version": 3
   },
   "file_extension": ".py",
   "mimetype": "text/x-python",
   "name": "python",
   "nbconvert_exporter": "python",
   "pygments_lexer": "ipython3",
   "version": "3.11.8"
  }
 },
 "nbformat": 4,
 "nbformat_minor": 5
}
