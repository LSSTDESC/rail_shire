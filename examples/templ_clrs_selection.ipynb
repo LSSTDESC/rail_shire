{
 "cells": [
  {
   "cell_type": "code",
   "execution_count": null,
   "id": "f5753318-db93-4b5e-8e67-f7530efad4fd",
   "metadata": {},
   "outputs": [],
   "source": [
    "%matplotlib inline\n",
    "\n",
    "import os\n",
    "import pandas as pd\n",
    "import numpy as np\n",
    "from jax import numpy as jnp\n",
    "from jax import vmap, jit\n",
    "from jax.tree_util import tree_map\n",
    "from jax import random as jrn\n",
    "import seaborn as sns\n",
    "import matplotlib.pyplot as plt\n",
    "from process_fors2.photoZ import read_h5_table, read_params, DATALOC, sedpyFilter, load_filt, get_2lists\n",
    "from process_fors2.fetchData import json_to_inputs\n",
    "from process_fors2.stellarPopSynthesis import SSPParametersFit, load_ssp\n",
    "from interpax import interp1d\n",
    "from tqdm import tqdm"
   ]
  },
  {
   "cell_type": "code",
   "execution_count": null,
   "id": "67612149-0977-422d-9d69-d5a528535e0a",
   "metadata": {},
   "outputs": [],
   "source": [
    "_DUMMY_PARS = SSPParametersFit()\n",
    "dumpars_df = pd.DataFrame(\n",
    "    index=_DUMMY_PARS.PARAM_NAMES_FLAT,\n",
    "    columns=[\"INIT\", \"MIN\", \"MAX\"],\n",
    "    data=jnp.column_stack(\n",
    "        (\n",
    "            _DUMMY_PARS.INIT_PARAMS,\n",
    "            _DUMMY_PARS.PARAMS_MIN,\n",
    "            _DUMMY_PARS.PARAMS_MAX\n",
    "        )\n",
    "    )\n",
    ")\n",
    "fixed_pars_names = _DUMMY_PARS.PARAM_NAMES_FLAT[:13]+_DUMMY_PARS.PARAM_NAMES_FLAT[14:]"
   ]
  },
  {
   "cell_type": "code",
   "execution_count": null,
   "id": "ade4b18c-0a6e-457a-b1f2-600c996aa17d",
   "metadata": {},
   "outputs": [],
   "source": [
    "dsps_out_h5 = 'dsps_valid_fits_F2_GG_DESI_SM3.h5' #'dsps_40best_fits_F2_GG_DESI_SM3.h5'\n",
    "obs_inp_h5 = 'COSMOS2020_emu_hscOnly_CC_zinf3_noNaN.h5' # 'COSMOS2020_emu_CC.h5'\n",
    "inputs_json = 'conf_IDRIS_PZ_TemplSel.json' # 'conf_FORS2_SM3.json' #'conf_IDRIS_cosmos2020_allFilts_noPrior.json' #"
   ]
  },
  {
   "cell_type": "code",
   "execution_count": null,
   "id": "8a1cc24f-dc88-4190-a129-577f0bb90ac0",
   "metadata": {},
   "outputs": [],
   "source": [
    "inputs_glob = json_to_inputs(inputs_json)\n",
    "inputs_pz = inputs_glob['photoZ']"
   ]
  },
  {
   "cell_type": "code",
   "execution_count": null,
   "id": "6aa06929-dba3-4084-9a3e-7173c003299a",
   "metadata": {},
   "outputs": [],
   "source": [
    "clrh5file = f\"pz_inputs_iclrs_{os.path.basename(obs_inp_h5)}\" if inputs_pz[\"i_colors\"] else f\"pz_inputs_{os.path.basename(obs_inp_h5)}\""
   ]
  },
  {
   "cell_type": "code",
   "execution_count": null,
   "id": "93684253-5324-43f7-8481-d480cabcea26",
   "metadata": {},
   "outputs": [],
   "source": [
    "inputs_pz['Dataset']"
   ]
  },
  {
   "cell_type": "code",
   "execution_count": null,
   "id": "16996c62-8f5c-437f-9fe2-eff6a2154f48",
   "metadata": {},
   "outputs": [],
   "source": [
    "inputs_pz['Filters']"
   ]
  },
  {
   "cell_type": "code",
   "execution_count": null,
   "id": "e6a5fe6f-e22a-420d-81ce-a407ee3e0d20",
   "metadata": {},
   "outputs": [],
   "source": [
    "filters_dict = inputs_pz[\"Filters\"]\n",
    "filters_names = [_f[\"name\"] for _, _f in filters_dict.items()]"
   ]
  },
  {
   "cell_type": "code",
   "execution_count": null,
   "id": "9693f6cf-0651-4321-829e-612ce3bd92d8",
   "metadata": {},
   "outputs": [],
   "source": [
    "from sedpy import observate\n",
    "observate.list_available_filters()"
   ]
  },
  {
   "cell_type": "code",
   "execution_count": null,
   "id": "53555970-4b4b-4b8f-bb4a-3268a65f2dd5",
   "metadata": {},
   "outputs": [],
   "source": [
    "from process_fors2.photoZ import load_data_for_run\n",
    "\n",
    "z_grid, wl_grid, transm_arr, pars_arr, zref_arr, templ_classif, i_mag_ab, ab_colors, ab_cols_errs, z_specs, ssp_data = load_data_for_run(inputs_glob)"
   ]
  },
  {
   "cell_type": "code",
   "execution_count": null,
   "id": "62ddd535-b1ae-4093-b645-dd15de8f0faf",
   "metadata": {},
   "outputs": [],
   "source": [
    "print(ab_colors.shape, ab_cols_errs.shape, len(filters_names))"
   ]
  },
  {
   "cell_type": "code",
   "execution_count": null,
   "id": "8502a005-e15b-44c5-b9b8-1b563e694769",
   "metadata": {},
   "outputs": [],
   "source": [
    "color_names = [f\"{n1}-{n2}\" for n1,n2 in zip(filters_names[:-1], filters_names[1:])]\n",
    "color_err_names = [f\"{n1}-{n2}_err\" for n1,n2 in zip(filters_names[:-1], filters_names[1:])]\n",
    "obs_df = pd.read_hdf(clrh5file, key='pz_inputs')"
   ]
  },
  {
   "cell_type": "markdown",
   "id": "bd46cef2-5948-4a81-847c-c0f972169de2",
   "metadata": {},
   "source": [
    "## Select a training set and a test set"
   ]
  },
  {
   "cell_type": "code",
   "execution_count": null,
   "id": "a2836956-e100-4426-b0ba-3134c189cf36",
   "metadata": {},
   "outputs": [],
   "source": [
    "key = jrn.key(717)\n",
    "key, subkey = jrn.split(key)\n",
    "train_sel = jrn.choice(subkey, obs_df.shape[0], shape=(min(20*obs_df.shape[0]//100, 20000),), replace=False) # 20% of data is selected\n",
    "del subkey"
   ]
  },
  {
   "cell_type": "code",
   "execution_count": null,
   "id": "d9462973-ecf7-49e3-bdd8-5376987624d6",
   "metadata": {},
   "outputs": [],
   "source": [
    "train_sel = jnp.sort(train_sel, axis=0)"
   ]
  },
  {
   "cell_type": "code",
   "execution_count": null,
   "id": "427abc3e-e5e7-443f-a14b-e6222a24d0d7",
   "metadata": {},
   "outputs": [],
   "source": [
    "train_df = obs_df.iloc[train_sel]\n",
    "train_df.shape"
   ]
  },
  {
   "cell_type": "code",
   "execution_count": null,
   "id": "44832a7e-bb5b-4ebb-ad09-de871ecf4ef5",
   "metadata": {},
   "outputs": [],
   "source": [
    "obs_df.shape[0]"
   ]
  },
  {
   "cell_type": "code",
   "execution_count": null,
   "id": "65378b0e-e8cc-42a4-8dd5-27a0ac676315",
   "metadata": {},
   "outputs": [],
   "source": [
    "ind_array = np.arange(obs_df.shape[0])\n",
    "test_sel = np.isin(\n",
    "    ind_array,\n",
    "    train_sel,\n",
    "    invert=True,\n",
    ")\n",
    "test_df = obs_df.iloc[test_sel]\n",
    "test_df.shape"
   ]
  },
  {
   "cell_type": "code",
   "execution_count": null,
   "id": "98f7a37b-8494-43db-ad83-33531ff2e019",
   "metadata": {},
   "outputs": [],
   "source": [
    "train_sel"
   ]
  },
  {
   "cell_type": "code",
   "execution_count": null,
   "id": "cd50388a-94c9-43ed-bc99-d757f88a2004",
   "metadata": {},
   "outputs": [],
   "source": [
    "test_sel"
   ]
  },
  {
   "cell_type": "code",
   "execution_count": null,
   "id": "addbf58c-21d5-4100-af58-5f3ed6b73acb",
   "metadata": {},
   "outputs": [],
   "source": [
    "obs_df.shape[0]-(test_df.shape[0]+train_df.shape[0])"
   ]
  },
  {
   "cell_type": "code",
   "execution_count": null,
   "id": "d61a2938-bce4-44fc-87a6-2ee840ad9e37",
   "metadata": {},
   "outputs": [],
   "source": [
    "f,a = plt.subplots(1,1)\n",
    "sns.histplot(data=obs_df, x='redshift', label='Full sample', stat='density')\n",
    "sns.histplot(data=train_df, x='redshift', label='Training sample', stat='density')\n",
    "#sns.histplot(data=test_df, x='z_spec', label='Test sample')\n",
    "a.legend(loc='best')\n",
    "#plt.show()"
   ]
  },
  {
   "cell_type": "markdown",
   "id": "2fc3ef40-fadd-4566-880e-494601f1cae6",
   "metadata": {},
   "source": [
    "## Binning observations in redshift"
   ]
  },
  {
   "cell_type": "code",
   "execution_count": null,
   "id": "5981cc69-ec72-47c0-ae07-372076b4db3d",
   "metadata": {},
   "outputs": [],
   "source": [
    "z_grid = np.histogram_bin_edges(train_df['redshift'], bins='auto')\n",
    "z_mids = 0.5*jnp.array(z_grid[:-1]+z_grid[1:])"
   ]
  },
  {
   "cell_type": "markdown",
   "id": "2eb54973-10ef-43e3-b975-7e8b33a3fc2a",
   "metadata": {},
   "source": [
    "## Loading templates"
   ]
  },
  {
   "cell_type": "code",
   "execution_count": null,
   "id": "c17c1eb7-e662-4804-8448-91c5d2161932",
   "metadata": {},
   "outputs": [],
   "source": [
    "from process_fors2.photoZ import make_sps_templates, make_legacy_templates, read_h5_table\n",
    "from process_fors2.stellarPopSynthesis import istuple, ssp_spectrum_fromparam, vmap_calc_obs_mag\n",
    "\n",
    "#z_grid = jnp.linspace(z_specs.min(), z_specs.max(), num=10, endpoint=True)\n",
    "av_arr = jnp.linspace(dumpars_df.loc['AV', 'MIN'], dumpars_df.loc['AV', 'MAX'], num=4, endpoint=True)\n",
    "pars_arr, zref_arr, templ_classif = read_h5_table(dsps_out_h5)"
   ]
  },
  {
   "cell_type": "code",
   "execution_count": null,
   "id": "fab27a65-85b4-4b34-922e-0907c0b53afc",
   "metadata": {},
   "outputs": [],
   "source": [
    "templs_ref_df = pd.read_hdf(dsps_out_h5, key='fit_dsps')\n",
    "templs_ref_df"
   ]
  },
  {
   "cell_type": "code",
   "execution_count": null,
   "id": "6db852e6-7704-4d89-9f54-ae6e47dce953",
   "metadata": {},
   "outputs": [],
   "source": [
    "def get_colors_templates_av(params, av, wls, z_obs, transm_arr, ssp_data):\n",
    "    _pars = params.at[13].set(av)\n",
    "    ssp_wave, _, sed_attenuated = ssp_spectrum_fromparam(_pars, z_obs, ssp_data)\n",
    "    _mags = vmap_calc_obs_mag(ssp_wave, sed_attenuated, wls, transm_arr, z_obs)\n",
    "    return _mags[:-1]-_mags[1:]\n",
    "\n",
    "vmap_cols_av = vmap(get_colors_templates_av, in_axes=(None, 0, None, None, None, None))\n",
    "vmap_cols_av_zo = vmap(vmap_cols_av, in_axes=(None, None, None, 0, None, None))\n",
    "vmap_cols_av_templ = vmap(vmap_cols_av_zo, in_axes=(0, None, None, None, None, None))"
   ]
  },
  {
   "cell_type": "code",
   "execution_count": null,
   "id": "f7385633-7ce7-4874-91b7-95ebbc2b85eb",
   "metadata": {},
   "outputs": [],
   "source": [
    "def get_colors_templates(params, wls, z_obs, transm_arr, ssp_data):\n",
    "    #_pars = params.at[13].set(0.)\n",
    "    ssp_wave, _, sed_attenuated = ssp_spectrum_fromparam(params, z_obs, ssp_data)\n",
    "    _mags = vmap_calc_obs_mag(ssp_wave, sed_attenuated, wls, transm_arr, z_obs)\n",
    "    return _mags[:-1]-_mags[1:]\n",
    "\n",
    "vmap_cols_zo = vmap(get_colors_templates, in_axes=(None, None, 0, None, None))\n",
    "vmap_cols_templ = vmap(vmap_cols_zo, in_axes=(0, None, None, None, None))"
   ]
  },
  {
   "cell_type": "code",
   "execution_count": null,
   "id": "5f4dc251-2ba7-4b47-a60c-993f5bdeac84",
   "metadata": {},
   "outputs": [],
   "source": [
    "%%time\n",
    "templ_tupl = [tuple(_pars) for _pars in pars_arr]\n",
    "templ_tupl_sps = tree_map(lambda partup: vmap_cols_zo(jnp.array(partup), wl_grid, z_grid, transm_arr[:-2], ssp_data), templ_tupl, is_leaf=istuple)"
   ]
  },
  {
   "cell_type": "code",
   "execution_count": null,
   "id": "6b51e2b1-ddc6-4bf9-b3ad-c8ea2e77fd78",
   "metadata": {},
   "outputs": [],
   "source": [
    "templ_tupl_sps[0].shape"
   ]
  },
  {
   "cell_type": "code",
   "execution_count": null,
   "id": "85471fdc-edfb-402c-9d66-d9b2af2cab3b",
   "metadata": {},
   "outputs": [],
   "source": [
    "templs_as_dict = {}\n",
    "for it, (tname, row) in enumerate(templs_ref_df.iterrows()):\n",
    "    _colrs = templ_tupl_sps[it]\n",
    "    _df = pd.DataFrame(columns=color_names, data=_colrs)\n",
    "    _df['z_p'] = z_grid\n",
    "    _df['Dataset'] = np.full(z_grid.shape, row['Dataset'])\n",
    "    _df['name'] = np.full(z_grid.shape, tname)\n",
    "    templs_as_dict.update({f\"{tname}\": _df})"
   ]
  },
  {
   "cell_type": "code",
   "execution_count": null,
   "id": "a523ec9d-9a69-422b-aa68-d24528cc7b6f",
   "metadata": {},
   "outputs": [],
   "source": [
    "all_templs_df = pd.concat([_df for _, _df in templs_as_dict.items()], ignore_index=True)\n",
    "all_templs_df.shape"
   ]
  },
  {
   "cell_type": "code",
   "execution_count": null,
   "id": "28d2f697-2b34-4081-b1ed-4b2d841bf379",
   "metadata": {},
   "outputs": [],
   "source": [
    "import plotly.express as px\n",
    "\n",
    "for ix, (c1, c2) in enumerate(zip(color_names[:-1], color_names[1:])):\n",
    "    fig = px.scatter(\n",
    "        train_df,\n",
    "        x=c1,\n",
    "        y=c2,\n",
    "        color='redshift',\n",
    "    )\n",
    "    fig.show()"
   ]
  },
  {
   "cell_type": "code",
   "execution_count": null,
   "id": "820fa4b0-a8b6-4135-b95f-bf2e6c1fa2cf",
   "metadata": {},
   "outputs": [],
   "source": [
    "fig = px.scatter(\n",
    "    train_df,\n",
    "    x='i_mag',\n",
    "    y='redshift',\n",
    ")\n",
    "fig.show()"
   ]
  },
  {
   "cell_type": "code",
   "execution_count": null,
   "id": "f2474f3e-98ea-478f-ab3b-b3eac5d25f95",
   "metadata": {},
   "outputs": [],
   "source": [
    "#sel = np.isfinite(obs_df[color_names[0]]) * np.isfinite(obs_df[color_names[1]])* np.isfinite(obs_df['z_spec'])\n",
    "\n",
    "for ix, (c1, c2) in enumerate(zip(color_names[:-1], color_names[1:])):\n",
    "    f, a = plt.subplots(1, np.unique(all_templs_df['Dataset']).shape[0], sharey=True, constrained_layout=True)\n",
    "    for _iax, (_ds, _m) in enumerate(zip(np.unique(all_templs_df['Dataset']), ['+', 'x', '*'])):\n",
    "        sns.scatterplot(\n",
    "            data=train_df,\n",
    "            x=c1,\n",
    "            y=c2,\n",
    "            edgecolor='k',\n",
    "            facecolor='none',\n",
    "            size='redshift',\n",
    "            marker='.',\n",
    "            sizes=(10, 100),\n",
    "            ax=a[_iax],\n",
    "            legend=False,\n",
    "            alpha=0.2\n",
    "        )\n",
    "        sns.scatterplot(\n",
    "            data=all_templs_df[all_templs_df['Dataset']==_ds],\n",
    "            x=c1,\n",
    "            y=c2,\n",
    "            ax=a[_iax],\n",
    "            size='z_p',\n",
    "            sizes=(10, 100),\n",
    "            legend='brief' if _iax==0 else False,\n",
    "            marker=_m\n",
    "        )\n",
    "        #a.legend(loc='lower right', bbox_to_anchor=(1.0, 0.0))\n",
    "        a[_iax].legend(loc='best')\n",
    "        a[_iax].set_title(_ds)\n",
    "    #plt.show()"
   ]
  },
  {
   "cell_type": "markdown",
   "id": "3d2ba309-27ff-4f1b-ba91-1eee65894cf7",
   "metadata": {},
   "source": [
    "## Bin training data and templates data in same color bins"
   ]
  },
  {
   "cell_type": "code",
   "execution_count": null,
   "id": "d0da09e2-b357-4491-9675-e2c96df6fd38",
   "metadata": {},
   "outputs": [],
   "source": [
    "import matplotlib.patches as mpatches\n",
    "\n",
    "train_patch = mpatches.Patch(edgecolor='k', facecolor='grey', label='COSMOS2020', alpha=0.7)\n",
    "\n",
    "list_edges = []\n",
    "for idc, c in enumerate(color_names):\n",
    "    _arr = np.array(train_df[c])\n",
    "    H_data_1D, _edges1d = np.histogram(_arr[np.isfinite(_arr)], bins=60) #, bins='auto') #\n",
    "    H_templ_1d, _edges1d = np.histogram(np.array(all_templs_df[c]), bins=_edges1d) \n",
    "    #H_data_1D, _edges1d = np.histogram(_arr[np.isfinite(_arr)], bins='auto')\n",
    "    #H_templ_1d, _edges1d = np.histogram(np.array(all_templs_df[c]), bins=_edges1d)\n",
    "    list_edges.append(_edges1d)\n",
    "    \n",
    "    f,a = plt.subplots(1,1)\n",
    "\n",
    "    sns.histplot(\n",
    "        data=train_df,\n",
    "        x=c,\n",
    "        bins=_edges1d,\n",
    "        stat='density',\n",
    "        label='COSMOS2020',\n",
    "        color='grey',\n",
    "        ax=a,\n",
    "        legend=False\n",
    "    )\n",
    "\n",
    "    sns.histplot(\n",
    "        data=all_templs_df,\n",
    "        x=c,\n",
    "        bins=_edges1d,\n",
    "        stat='density',\n",
    "        multiple='stack',\n",
    "        hue='Dataset',\n",
    "        alpha=0.7,\n",
    "        ax=a,\n",
    "        legend=True\n",
    "    )\n",
    "\n",
    "    old_legend = a.get_legend()\n",
    "    handles = old_legend.legend_handles\n",
    "    labels = [t.get_text() for t in old_legend.get_texts()]\n",
    "    title = old_legend.get_title().get_text()\n",
    "    \n",
    "    a.legend(handles=[train_patch]+handles, labels=['COSMOS2020 (Training)']+labels, title=title, loc='best')\n",
    "    \n",
    "    plt.show()"
   ]
  },
  {
   "cell_type": "code",
   "execution_count": null,
   "id": "aeff7bda-c6c5-4d51-ad20-ddae627b9981",
   "metadata": {},
   "outputs": [],
   "source": [
    "coords = []\n",
    "for c, b in zip(color_names, list_edges):\n",
    "    c_idxs = np.digitize(train_df[c], b)\n",
    "    coords.append(c_idxs)\n",
    "coords = np.column_stack(coords)\n",
    "coords.shape"
   ]
  },
  {
   "cell_type": "code",
   "execution_count": null,
   "id": "a65f862a-6856-416f-ad30-bede4c802c42",
   "metadata": {},
   "outputs": [],
   "source": [
    "templ_coords = []\n",
    "for c, b in zip(color_names, list_edges):\n",
    "    c_idxs = np.digitize(all_templs_df[c], b)\n",
    "    templ_coords.append(c_idxs)\n",
    "templ_coords = np.column_stack(templ_coords)\n",
    "templ_coords.shape"
   ]
  },
  {
   "cell_type": "code",
   "execution_count": null,
   "id": "b63554d5-2c00-4b73-80db-9e3deb5bf173",
   "metadata": {},
   "outputs": [],
   "source": [
    "train_df[[f'{c}_bin' for c in color_names]] = coords"
   ]
  },
  {
   "cell_type": "code",
   "execution_count": null,
   "id": "3df64bd2-4c04-4a9b-8abd-f8b62e196b33",
   "metadata": {},
   "outputs": [],
   "source": [
    "all_templs_df[[f'{c}_bin' for c in color_names]] = templ_coords"
   ]
  },
  {
   "cell_type": "code",
   "execution_count": null,
   "id": "6b216eb5-2033-4ce9-a61e-c7408fed6dd4",
   "metadata": {},
   "outputs": [],
   "source": [
    "all_templs_df[[f'{c}_bin' for c in color_names]]"
   ]
  },
  {
   "cell_type": "markdown",
   "id": "4a075b35-4fef-45ff-a5cb-f5ee541c1ac7",
   "metadata": {},
   "source": [
    "### Compute a score for each template in each bin\n",
    "$\\displaystyle \\frac{1}{N_{obs}} \\sum_\\text{obs. i} \\left( \\frac{z_p-z_s^i}{1+z_s^i} \\right)^2$\n",
    "\n",
    "Then sum over bins for each template... The smallest score wins."
   ]
  },
  {
   "cell_type": "code",
   "execution_count": null,
   "id": "0680d522-55e7-4ceb-aa6d-f97d3cd186a9",
   "metadata": {},
   "outputs": [],
   "source": [
    "if False:\n",
    "    for itempl, row in tqdm(all_templs_df.iterrows(), total=all_templs_df.shape[0]):\n",
    "        scores = []\n",
    "        for c in color_names:\n",
    "            cbin = row[f'{c}_bin']\n",
    "            sel = train_df[f'{c}_bin']==cbin\n",
    "            _sel_df = train_df[sel]\n",
    "            zs = jnp.array(_sel_df['redshift'].values)\n",
    "            scores.append(\n",
    "                jnp.sum(jnp.power((zs-row['z_p'])/(1+zs), 2)) / zs.shape[0] if zs.shape[0]>0 else jnp.nan\n",
    "            )\n",
    "        score = jnp.nansum(jnp.array(scores))\n",
    "        all_templs_df.loc[itempl, 'score'] = score\n",
    "        if not jnp.isfinite(score):\n",
    "            all_templs_df.loc[itempl, 'name'] = None\n",
    "\n",
    "    score_df = all_templs_df[['name', 'score']]\n",
    "    grp_mean_score = score_df.groupby(by='name', dropna=True, axis=0).mean()\n",
    "    \n",
    "    templs_score_df = templs_ref_df.join(grp_mean_score, how='inner')\n",
    "    templs_score_df.sort_values('score', ascending=True, inplace=True)\n",
    "    templs_score_df"
   ]
  },
  {
   "cell_type": "markdown",
   "id": "59febf9f-ef2a-49f2-a7f5-ebaeab036f52",
   "metadata": {},
   "source": [
    "$ \\displaystyle \\frac{1}{N_{obs}} \\frac{\\left|z_p-z_s^i \\right|}{1+z_s^i} \\lt 0.15 $ on each color bin, select the template with the smallest score and keep the unique list at the end."
   ]
  },
  {
   "cell_type": "code",
   "execution_count": null,
   "id": "c578d176-f70e-4c12-909a-523be4f30156",
   "metadata": {},
   "outputs": [],
   "source": [
    "%%time\n",
    "\n",
    "best_templs_names = []\n",
    "allbestscores = []\n",
    "for c in color_names:\n",
    "    for cbin in tqdm(jnp.unique(train_df[f'{c}_bin'].values)):\n",
    "    #cbin = row[f'{c}_bin']\n",
    "        sel = train_df[f'{c}_bin']==cbin\n",
    "        _sel_df = train_df[sel]\n",
    "        zs = jnp.array(_sel_df['redshift'].values)\n",
    "        sel_templ = all_templs_df[f'{c}_bin']==cbin\n",
    "        _templ_df = all_templs_df[sel_templ]\n",
    "        scores = jnp.array(\n",
    "            [\n",
    "                jnp.sum(jnp.abs(zs-zp)/(1+zs)) / zs.shape[0] if zs.shape[0]>0 else jnp.nan for zp in _templ_df['z_p']\n",
    "            ]\n",
    "        )\n",
    "        if scores.shape[0]>0 and not jnp.all(jnp.isnan(scores)):\n",
    "            ix_best = int(jnp.nanargmin(scores))\n",
    "            bestscore = scores[ix_best]\n",
    "            if bestscore < 0.15:\n",
    "                best_templs_names.append(_templ_df['name'].iloc[ix_best])\n",
    "                allbestscores.append(scores[ix_best])\n",
    "            \n",
    "best_templ_sels = np.unique(best_templs_names)\n",
    "allbestscores = jnp.array(allbestscores)\n",
    "\n",
    "print(len(best_templ_sels), allbestscores.shape)"
   ]
  },
  {
   "cell_type": "code",
   "execution_count": null,
   "id": "41de2868-3486-46f3-9d50-ff1a94f43042",
   "metadata": {},
   "outputs": [],
   "source": [
    "meanscores = []\n",
    "for it, nt in tqdm(enumerate(best_templ_sels), total=len(best_templ_sels)):\n",
    "    _sel = jnp.array([_t==nt for _t in best_templs_names])\n",
    "    _sc = allbestscores[_sel]\n",
    "    meanscores.append(jnp.nanmean(_sc))\n",
    "meanscores = jnp.array(meanscores)"
   ]
  },
  {
   "cell_type": "code",
   "execution_count": null,
   "id": "05083812-6c67-473c-8ae1-4b32034a3786",
   "metadata": {},
   "outputs": [],
   "source": [
    "#_templsel = [_n in best_templ_sels for _n in templs_ref_df['name']]\n",
    "templs_score_df = templs_ref_df.loc[best_templ_sels] #templs_ref_df[_templsel]\n",
    "for msc, tn in zip(meanscores, best_templ_sels):\n",
    "    templs_score_df.loc[tn, 'score'] = msc\n",
    "    templs_score_df.loc[tn, 'name'] = tn\n",
    "templs_score_df.sort_values('score', ascending=True, inplace=True)\n",
    "templs_score_df"
   ]
  },
  {
   "cell_type": "code",
   "execution_count": null,
   "id": "2901ce91-c6c7-42b1-9d87-0f79f156f8d8",
   "metadata": {},
   "outputs": [],
   "source": [
    "if False: templs_score_df.to_hdf('templ_NEWscoredOnTraining_SPS.h5', key='fit_dsps')"
   ]
  },
  {
   "cell_type": "code",
   "execution_count": null,
   "id": "51f6bb1c-7cca-4d39-b359-154ed98cc4cf",
   "metadata": {},
   "outputs": [],
   "source": [
    "templ_select_df = templs_score_df #.iloc[:40]"
   ]
  },
  {
   "cell_type": "code",
   "execution_count": null,
   "id": "43c8b5fa-a236-49bd-b7ce-d3f377f9a0be",
   "metadata": {},
   "outputs": [],
   "source": [
    "#if True: templ_select_df.to_hdf('templSPS_best40scored_F2_GG_DESI_SM3.h5', key='fit_dsps')"
   ]
  },
  {
   "cell_type": "code",
   "execution_count": null,
   "id": "fd0eb4bc-45eb-4354-b9e6-fe9f07780bde",
   "metadata": {},
   "outputs": [],
   "source": [
    "%%time\n",
    "infile = 'templ_NEWscoredOnTraining_SPS.h5'\n",
    "\n",
    "pars_arr, zref_arr, templ_classif = read_h5_table(infile)\n",
    "\n",
    "templ_select_df = pd.read_hdf(infile, key='fit_dsps')\n",
    "\n",
    "templ_tupl = [tuple(_pars) for _pars in pars_arr]\n",
    "templ_tupl_sps = tree_map(lambda partup: vmap_cols_zo(jnp.array(partup), wl_grid, z_grid, transm_arr[:-2], ssp_data), templ_tupl, is_leaf=istuple)\n",
    "\n",
    "templs_as_dict = {}\n",
    "for it, (tname, row) in enumerate(templ_select_df.iterrows()):\n",
    "    _colrs = templ_tupl_sps[it]\n",
    "    _df = pd.DataFrame(columns=color_names, data=_colrs)\n",
    "    _df['z_p'] = z_grid\n",
    "    _df['Dataset'] = np.full(z_grid.shape, row['Dataset'])\n",
    "    _df['name'] = np.full(z_grid.shape, tname)\n",
    "    templs_as_dict.update({f\"{tname}\": _df})\n",
    "\n",
    "all_tsels_df = pd.concat([_df for _, _df in templs_as_dict.items()], ignore_index=True)\n",
    "all_tsels_df.shape"
   ]
  },
  {
   "cell_type": "code",
   "execution_count": null,
   "id": "77f177a6-cbce-44c8-98d1-b64cc39fa1f6",
   "metadata": {},
   "outputs": [],
   "source": [
    "f,a = plt.subplots(1,3, sharey=True)\n",
    "sns.histplot(templ_select_df, x='fun_val', hue='Dataset', multiple='stack', ax=a[0])\n",
    "sns.histplot(templ_select_df, x='redshift', hue='Dataset', multiple='stack', ax=a[1])\n",
    "sns.histplot(templ_select_df, x='score', hue='Dataset', multiple='stack', ax=a[2])\n",
    "plt.show()"
   ]
  },
  {
   "cell_type": "code",
   "execution_count": null,
   "id": "32396cfb-a109-488b-9650-dc006f50c8b2",
   "metadata": {},
   "outputs": [],
   "source": [
    "import matplotlib.lines as mlines\n",
    "\n",
    "leg1 = mlines.Line2D([], [], color='gray', label='COSMOS2020', marker='o', markersize=6, alpha=0.7, ls='')\n",
    "\n",
    "#sel = np.isfinite(obs_df[color_names[0]]) * np.isfinite(obs_df[color_names[1]])* np.isfinite(obs_df['z_spec'])\n",
    "for ix, (c1, c2) in enumerate(zip(color_names[:-1], color_names[1:])):\n",
    "    f,a = plt.subplots(1,1, constrained_layout=True)\n",
    "    # Create a legend for the first line.\n",
    "    #first_legend = a.legend(handles=[leg1], loc='upper left')\n",
    "    \n",
    "    sns.scatterplot(\n",
    "        data=train_df,\n",
    "        x=c1,\n",
    "        y=c2,\n",
    "        c='gray',\n",
    "        size='redshift',\n",
    "        sizes=(10, 100),\n",
    "        ax=a,\n",
    "        legend=False,\n",
    "        alpha=0.2\n",
    "    )\n",
    "    \n",
    "    sns.scatterplot(\n",
    "        data=all_tsels_df,\n",
    "        x=c1,\n",
    "        y=c2,\n",
    "        ax=a,\n",
    "        size='z_p',\n",
    "        sizes=(10, 100),\n",
    "        alpha=0.5,\n",
    "        hue='Dataset',\n",
    "        style='Dataset',\n",
    "        legend='brief'\n",
    "    )\n",
    "\n",
    "    handles, labels = a.get_legend_handles_labels()\n",
    "    a.legend(handles=[handles[0]]+[leg1]+handles, labels=['Training set']+['COSMOS2020']+labels)\n",
    "    \n",
    "    # Add the legend manually to the Axes.\n",
    "    #a.add_artist(first_legend)\n",
    "    \n",
    "    #a.legend(loc='lower right', bbox_to_anchor=(1.0, 0.0))\n",
    "    #a.legend(loc='lower right')\n",
    "    plt.show()"
   ]
  },
  {
   "cell_type": "code",
   "execution_count": null,
   "id": "5a0373f6-6ebe-4e7a-b189-684f3ffc84ea",
   "metadata": {},
   "outputs": [],
   "source": [
    "from process_fors2.stellarPopSynthesis import mean_sfr, vmap_mean_sfr\n",
    "from dsps.cosmology import DEFAULT_COSMOLOGY, age_at_z0\n",
    "TODAY_GYR = age_at_z0(*DEFAULT_COSMOLOGY)\n",
    "T_ARR = jnp.linspace(0.1, TODAY_GYR, 100)"
   ]
  },
  {
   "cell_type": "code",
   "execution_count": null,
   "id": "791d795a-2b1c-4255-bbcb-4999e99503a6",
   "metadata": {},
   "outputs": [],
   "source": [
    "all_sfh = vmap_mean_sfr(pars_arr)\n",
    "all_sfh.shape"
   ]
  },
  {
   "cell_type": "code",
   "execution_count": null,
   "id": "3a8ec3cc-dfa7-4063-b90e-ffab8b749c24",
   "metadata": {},
   "outputs": [],
   "source": [
    "srcs = np.unique(templ_select_df['Dataset'].values)\n",
    "srcs"
   ]
  },
  {
   "cell_type": "code",
   "execution_count": null,
   "id": "3168b591-adb5-48a5-9671-b1f3c40ac6bb",
   "metadata": {},
   "outputs": [],
   "source": [
    "cdict = {srcs[0]: 'tab:blue', srcs[1]: 'tab:orange', srcs[2]: 'tab:green'}"
   ]
  },
  {
   "cell_type": "code",
   "execution_count": null,
   "id": "eae2d711-3145-449c-9800-f1cc1a59fdf2",
   "metadata": {},
   "outputs": [],
   "source": [
    "import matplotlib.lines as mlines\n",
    "\n",
    "f, a = plt.subplots(1,1)\n",
    "for sfh, src in zip(all_sfh, templ_select_df['Dataset'], strict=True):\n",
    "    a.plot(T_ARR, sfh, lw=1, ls='-', c=cdict[src])\n",
    "    a.set_xlabel('Age of the Universe [Gyr]')\n",
    "    a.set_ylabel('SFR '+r\"$\\mathrm{M_\\odot.yr}^{-1}$\")\n",
    "    a.set_title('SFH of photo-z templates')\n",
    "\n",
    "legs = []\n",
    "for src, colr in cdict.items():\n",
    "    _line = mlines.Line2D([], [], color=colr, label=src, lw=1)\n",
    "    legs.append(_line)\n",
    "a.legend(handles=legs)\n",
    "plt.show()"
   ]
  },
  {
   "cell_type": "code",
   "execution_count": null,
   "id": "58cf3aed-f99b-4e50-9acf-7689a43bd13a",
   "metadata": {},
   "outputs": [],
   "source": [
    "f, a = plt.subplots(1,1)\n",
    "for sfh, src in zip(all_sfh, templ_select_df['Dataset'], strict=True):\n",
    "    a.semilogy(T_ARR, sfh, lw=1, ls='-', c=cdict[src])\n",
    "    a.set_xlabel('Age of the Universe [Gyr]')\n",
    "    a.set_ylabel('Specific SFR [-]')\n",
    "    a.set_title('SFH of photo-z templates')\n",
    "a.set_ylim(1e-3, 5e2)\n",
    "\n",
    "legs = []\n",
    "for src, colr in cdict.items():\n",
    "    _line = mlines.Line2D([], [], color=colr, label=src, lw=1)\n",
    "    legs.append(_line)\n",
    "a.legend(handles=legs)\n",
    "plt.show()"
   ]
  },
  {
   "cell_type": "code",
   "execution_count": null,
   "id": "a4545e5b-ba43-4a53-b1b4-bec137cf9119",
   "metadata": {},
   "outputs": [],
   "source": [
    "import matplotlib.patches as mpatches\n",
    "\n",
    "train_patch = mpatches.Patch(edgecolor='k', facecolor='grey', label='COSMOS2020', alpha=0.7)\n",
    "\n",
    "list_edges = []\n",
    "for idc, c in enumerate(color_names):\n",
    "    _arr = np.array(train_df[c])\n",
    "    H_data_1D, _edges1d = np.histogram(_arr[np.isfinite(_arr)], bins=60) #, bins='auto') #\n",
    "    H_templ_1d, _edges1d = np.histogram(np.array(all_tsels_df[c]), bins=_edges1d) \n",
    "    #H_data_1D, _edges1d = np.histogram(_arr[np.isfinite(_arr)], bins='auto')\n",
    "    #H_templ_1d, _edges1d = np.histogram(np.array(all_templs_df[c]), bins=_edges1d)\n",
    "    list_edges.append(_edges1d)\n",
    "    \n",
    "    f,a = plt.subplots(1,1)\n",
    "\n",
    "    sns.histplot(\n",
    "        data=train_df,\n",
    "        x=c,\n",
    "        bins=_edges1d,\n",
    "        stat='density',\n",
    "        label='COSMOS2020',\n",
    "        color='grey',\n",
    "        ax=a,\n",
    "        legend=False\n",
    "    )\n",
    "\n",
    "    sns.histplot(\n",
    "        data=all_tsels_df,\n",
    "        x=c,\n",
    "        bins=_edges1d,\n",
    "        stat='density',\n",
    "        multiple='stack',\n",
    "        hue='Dataset',\n",
    "        alpha=0.7,\n",
    "        ax=a,\n",
    "        legend=True\n",
    "    )\n",
    "\n",
    "    old_legend = a.get_legend()\n",
    "    handles = old_legend.legend_handles\n",
    "    labels = [t.get_text() for t in old_legend.get_texts()]\n",
    "    title = old_legend.get_title().get_text()\n",
    "    \n",
    "    a.legend(handles=[train_patch]+handles, labels=['COSMOS2020 (Training)']+labels, title=title, loc='best')\n",
    "    \n",
    "    plt.show()"
   ]
  },
  {
   "cell_type": "code",
   "execution_count": null,
   "id": "eba77ed1-d26b-4eaa-8893-67bfcc29172f",
   "metadata": {},
   "outputs": [],
   "source": []
  }
 ],
 "metadata": {
  "kernelspec": {
   "display_name": "jax-0.4.24_py3.11.7_cuda-12.2",
   "language": "python",
   "name": "module-conda-env-jax-0.4.24_py3.11.7_cuda-12.2"
  },
  "language_info": {
   "codemirror_mode": {
    "name": "ipython",
    "version": 3
   },
   "file_extension": ".py",
   "mimetype": "text/x-python",
   "name": "python",
   "nbconvert_exporter": "python",
   "pygments_lexer": "ipython3",
   "version": "3.11.8"
  }
 },
 "nbformat": 4,
 "nbformat_minor": 5
}
