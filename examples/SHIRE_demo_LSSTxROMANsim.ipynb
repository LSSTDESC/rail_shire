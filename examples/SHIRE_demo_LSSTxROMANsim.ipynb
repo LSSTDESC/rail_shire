{
 "cells": [
  {
   "cell_type": "code",
   "execution_count": null,
   "id": "c1145136",
   "metadata": {},
   "outputs": [],
   "source": [
    "import os\n",
    "import qp\n",
    "import pickle\n",
    "import jax\n",
    "import matplotlib.pyplot as plt\n",
    "import seaborn as sns\n",
    "import pandas as pd\n",
    "import numpy as np\n",
    "import tables_io\n",
    "from jax import numpy as jnp\n",
    "\n",
    "from rail.core.data import TableHandle\n",
    "from rail.core.stage import RailStage\n",
    "from rail.utils.path_utils import RAILDIR\n",
    "from rail.core.common_params import SHARED_PARAMS\n",
    "\n",
    "from rail.shire import ShireInformer, ShireEstimator, hist_outliers, plot_zp_zs_ensemble\n",
    "\n",
    "jax.config.update(\"jax_enable_x64\", True)"
   ]
  },
  {
   "cell_type": "markdown",
   "id": "1a76a826",
   "metadata": {},
   "source": [
    "## Select and load data into the datastore"
   ]
  },
  {
   "cell_type": "code",
   "execution_count": null,
   "id": "dc1a6c51",
   "metadata": {},
   "outputs": [],
   "source": [
    "DS = RailStage.data_store\n",
    "DS.__class__.allow_overwrite = True"
   ]
  },
  {
   "cell_type": "code",
   "execution_count": null,
   "id": "e975265a",
   "metadata": {},
   "outputs": [],
   "source": [
    "trainFile = os.path.abspath(os.path.join('.', 'data', 'train_magszgalaxies_lsstroman_gold_hp10552_10k.h5')) #os.path.abspath(os.path.join('./data', 'test_magszgalaxies_lsstroman_gold_hp10552_50k.h5')) #os.path.join(RAILDIR, 'rail/examples_data/testdata/test_dc2_training_9816.hdf5')\n",
    "testFile = os.path.abspath(os.path.join('.', 'data', 'test_magszgalaxies_lsstroman_gold_hp10552_50k.h5')) #os.path.abspath(os.path.join('../..', 'magszgalaxies_lsstroman_gold_hp10552.h5')) #os.path.join(RAILDIR, 'rail/examples_data/testdata/test_dc2_validation_9816.hdf5')\n",
    "\n",
    "training_data = DS.read_file(\"training_data\", TableHandle, trainFile)\n",
    "test_data = DS.read_file(\"test_data\", TableHandle, testFile)"
   ]
  },
  {
   "cell_type": "code",
   "execution_count": null,
   "id": "e691cb2f",
   "metadata": {},
   "outputs": [],
   "source": [
    "lsst_filts_dict = {f\"{_n}_lsst\": \"filt_lsst\" for _n in \"ugrizy\"}\n",
    "roman_filts_dict = {\n",
    "    \"roman_wfi_f106\": \"\",\n",
    "    \"roman_wfi_f129\": \"\",\n",
    "    \"roman_wfi_f158\": \"\",\n",
    "    \"roman_wfi_f184\": \"\"\n",
    "}\n",
    "\n",
    "_bands = [ f\"mag_{_k}\" for _k in {**lsst_filts_dict, **roman_filts_dict} ]\n",
    "_errbands = [ f\"mag_err_{_k}\" for _k in {**lsst_filts_dict, **roman_filts_dict} ]\n",
    "_maglims = {**SHARED_PARAMS['mag_limits'], **{_band: 28 for _band in _bands if 'roman' in _band}}\n",
    "print(_maglims)"
   ]
  },
  {
   "cell_type": "markdown",
   "id": "cf8b277f",
   "metadata": {},
   "source": [
    "## Inform the estimator, i.e. select a subset of galaxies as templates"
   ]
  },
  {
   "cell_type": "code",
   "execution_count": null,
   "id": "120fc0be",
   "metadata": {},
   "outputs": [],
   "source": [
    "default_dict_inform = dict(\n",
    "    hdf5_groupname=\"photometry\",\n",
    "    data_path=\"./data\",\n",
    "    bands=_bands,\n",
    "    err_bands=_errbands,\n",
    "    mag_limits=_maglims,\n",
    "    spectra_file=\"dsps_valid_fits_F2SM3_GG_DESI.h5\",\n",
    "    ssp_file=\"ssp_data_fsps_v3.2_lgmet_age.h5\",\n",
    "    filter_dict={**lsst_filts_dict, **roman_filts_dict},\n",
    "    wlmin=500.,\n",
    "    wlmax=25000.,\n",
    "    dwl=5.,\n",
    "    colrsbins=40\n",
    ")"
   ]
  },
  {
   "cell_type": "markdown",
   "id": "757d5ee1",
   "metadata": {},
   "source": [
    "### Prepare two informers: one for each method 'SPS' or 'Legacy'\n",
    "- 'SPS' recomputes an SED at every redshift based on the star-formation history of the template galaxy before synthesizing the colours for every value of $z$ along the grid\n",
    "- 'Legacy' computes the SED once at the template galaxy's redshift and uses it to synthesize colours at all $z$ values with the usual transformation $\\lambda_\\mathrm{obs} = (1+z)\\lambda_\\mathrm{em}$"
   ]
  },
  {
   "cell_type": "code",
   "execution_count": null,
   "id": "803f2707",
   "metadata": {},
   "outputs": [],
   "source": [
    "run_shire_inform_sps = ShireInformer.make_stage(\n",
    "    name=\"shireSPS_inform_romanlsstSimhp10552_demo\",\n",
    "    output=\"shireSPS_templates_romanlsstSimhp10552_demo.hf5\",\n",
    "    **default_dict_inform,\n",
    "    templ_type=\"SPS\"\n",
    ")\n",
    "\n",
    "run_shire_inform_legacy = ShireInformer.make_stage(\n",
    "    name=\"shireLEG_inform_romanlsstSimhp10552_demo\",\n",
    "    output=\"shireLEG_templates_romanlsstSimhp10552_demo.hf5\",\n",
    "    **default_dict_inform,\n",
    "    templ_type=\"Legacy\"\n",
    ")"
   ]
  },
  {
   "cell_type": "markdown",
   "id": "81238add",
   "metadata": {},
   "source": [
    "### Inform the 'SPS' templates"
   ]
  },
  {
   "cell_type": "code",
   "execution_count": null,
   "id": "df5094ac",
   "metadata": {},
   "outputs": [],
   "source": [
    "%%time\n",
    "run_shire_inform_sps.inform(training_data)"
   ]
  },
  {
   "cell_type": "code",
   "execution_count": null,
   "id": "c1dbdfa1",
   "metadata": {},
   "outputs": [],
   "source": [
    "templ = run_shire_inform_sps.get_handle(\"templates\")\n",
    "templ.read()"
   ]
  },
  {
   "cell_type": "code",
   "execution_count": null,
   "id": "4a7629b7",
   "metadata": {},
   "outputs": [],
   "source": [
    "run_shire_inform_sps.plot_colrs_templates()"
   ]
  },
  {
   "cell_type": "code",
   "execution_count": null,
   "id": "af16e0e1",
   "metadata": {},
   "outputs": [],
   "source": [
    "run_shire_inform_sps.plot_sfh_templates()"
   ]
  },
  {
   "cell_type": "code",
   "execution_count": null,
   "id": "55ec4af3",
   "metadata": {},
   "outputs": [],
   "source": [
    "run_shire_inform_sps.hist_colrs_templates()"
   ]
  },
  {
   "cell_type": "code",
   "execution_count": null,
   "id": "b14379e0",
   "metadata": {},
   "outputs": [],
   "source": [
    "run_shire_inform_sps.plot_bpt_templates()"
   ]
  },
  {
   "cell_type": "code",
   "execution_count": null,
   "id": "ab4fd8c2",
   "metadata": {},
   "outputs": [],
   "source": [
    "all_templs_df_sps = run_shire_inform_sps._nuvk_classif()\n",
    "f, a = plt.subplots(1,1)\n",
    "sns.scatterplot(\n",
    "    data=all_templs_df_sps, x=\"g_lsst-r_lsst\", y=\"r_lsst-i_lsst\",\n",
    "    hue=\"CAT_NUVK\", hue_order=['E_S0', 'Sbc/Scd', 'Irr'], palette='tab10', alpha=0.5,\n",
    "    size='z_p', sizes=(10, 100),\n",
    "    ax=a\n",
    ")\n",
    "a.grid()"
   ]
  },
  {
   "cell_type": "code",
   "execution_count": null,
   "id": "61a77bc7",
   "metadata": {},
   "outputs": [],
   "source": [
    "run_shire_inform_sps.plot_templ_seds()"
   ]
  },
  {
   "cell_type": "code",
   "execution_count": null,
   "id": "3935067b",
   "metadata": {},
   "outputs": [],
   "source": [
    "run_shire_inform_sps.plot_line_sed(7, redshift=0.46)"
   ]
  },
  {
   "cell_type": "markdown",
   "id": "8bfb6e8e",
   "metadata": {},
   "source": [
    "### Inform the 'Legacy' templates"
   ]
  },
  {
   "cell_type": "code",
   "execution_count": null,
   "id": "1523acb4",
   "metadata": {},
   "outputs": [],
   "source": [
    "%%time\n",
    "run_shire_inform_legacy.inform(training_data)"
   ]
  },
  {
   "cell_type": "code",
   "execution_count": null,
   "id": "d69fc3f8",
   "metadata": {},
   "outputs": [],
   "source": [
    "run_shire_inform_legacy.plot_templ_seds()"
   ]
  },
  {
   "cell_type": "code",
   "execution_count": null,
   "id": "52e9285d",
   "metadata": {},
   "outputs": [],
   "source": [
    "run_shire_inform_legacy.plot_colrs_templates()"
   ]
  },
  {
   "cell_type": "code",
   "execution_count": null,
   "id": "501baa04",
   "metadata": {},
   "outputs": [],
   "source": [
    "all_templs_df_leg = run_shire_inform_legacy._nuvk_classif()\n",
    "f, a = plt.subplots(1,1)\n",
    "sns.scatterplot(\n",
    "    data=all_templs_df_leg, x=\"g_lsst-r_lsst\", y=\"r_lsst-i_lsst\",\n",
    "    hue=\"CAT_NUVK\", hue_order=['E_S0', 'Sbc/Scd', 'Irr'], palette='tab10', alpha=0.5,\n",
    "    size='z_p', sizes=(10, 100),\n",
    "    ax=a\n",
    ")\n",
    "a.grid()"
   ]
  },
  {
   "cell_type": "markdown",
   "id": "aa2bbcdc",
   "metadata": {},
   "source": [
    "### Plot the prior"
   ]
  },
  {
   "cell_type": "code",
   "execution_count": null,
   "id": "1d01395a",
   "metadata": {},
   "outputs": [],
   "source": [
    "trainref_df = pd.DataFrame()\n",
    "trainref_df['ref_mag'] = np.array(run_shire_inform_legacy.refmags)\n",
    "trainref_df['redshift'] = np.array(run_shire_inform_legacy.szs)\n",
    "trainref_df['type_num'] = np.array(run_shire_inform_legacy.besttypes)\n",
    "trainref_df['type'] = np.array([run_shire_inform_legacy.refcategs[_n] for _n in run_shire_inform_legacy.besttypes])"
   ]
  },
  {
   "cell_type": "code",
   "execution_count": null,
   "id": "b18d9eeb-6c20-4e4e-8d11-fc60f8278795",
   "metadata": {},
   "outputs": [],
   "source": [
    "run_shire_inform_legacy.mags.shape"
   ]
  },
  {
   "cell_type": "code",
   "execution_count": null,
   "id": "2904005e",
   "metadata": {},
   "outputs": [],
   "source": [
    "trainref_df[['u-g', 'g-r', 'r-i', 'i-z', 'z-y']] = np.array(run_shire_inform_legacy.mags[:, :5] - run_shire_inform_legacy.mags[:, 1:6])"
   ]
  },
  {
   "cell_type": "code",
   "execution_count": null,
   "id": "510884fa",
   "metadata": {},
   "outputs": [],
   "source": [
    "f,a = plt.subplots(1,1)\n",
    "sns.histplot(data=trainref_df, x='ref_mag', hue='type', hue_order=['E_S0', 'Sbc/Scd', 'Irr'], palette='tab10', stat='probability', multiple='layer', ax=a)"
   ]
  },
  {
   "cell_type": "code",
   "execution_count": null,
   "id": "8156237a",
   "metadata": {},
   "outputs": [],
   "source": [
    "sns.scatterplot(trainref_df, x='u-g', y='i-z', hue='type', hue_order=['E_S0', 'Sbc/Scd', 'Irr'], palette='tab10', alpha=0.5)"
   ]
  },
  {
   "cell_type": "code",
   "execution_count": null,
   "id": "0309ccf9",
   "metadata": {},
   "outputs": [],
   "source": [
    "f,a = plt.subplots(1,1)\n",
    "\n",
    "def frac_func(X, m0, m):\n",
    "    fo, kt = X\n",
    "    return fo * jnp.exp(-kt * (m - m0))\n",
    "\n",
    "def kt3(fo_arr, kt_arr, m0, m):\n",
    "    kt_val = -jnp.log((1 - fo_arr[0] * jnp.exp(-kt_arr[0] * (m - m0)) - fo_arr[1] * jnp.exp(-kt_arr[1] * (m - m0))) / fo_arr[-1]) / (m - m0)\n",
    "    return kt_val\n",
    "\n",
    "_order = np.argsort(run_shire_inform_legacy.refmags)\n",
    "refmags = run_shire_inform_legacy.refmags[_order]\n",
    "\n",
    "for ityp, (typ, _c) in enumerate(zip(run_shire_inform_legacy.refcategs, ['tab:blue', 'tab:orange', 'tab:green'])):\n",
    "    fo, kt, nt, m0 = run_shire_inform_legacy.model['fo_arr'][ityp],\\\n",
    "        run_shire_inform_legacy.model['kt_arr'][ityp],\\\n",
    "        run_shire_inform_legacy.model['nt_array'][ityp],\\\n",
    "        run_shire_inform_legacy.model['mo'][ityp]\n",
    "    frac = frac_func((fo, kt), m0, refmags)\n",
    "    a.plot(refmags, frac, label=typ, c=_c)\n",
    "\n",
    "default = frac_func((0.3, run_shire_inform_legacy.config.init_kt), 20., refmags)\n",
    "a.plot(refmags, default, label='default', c='k')\n",
    "a.legend()"
   ]
  },
  {
   "cell_type": "code",
   "execution_count": null,
   "id": "b3730fcd",
   "metadata": {},
   "outputs": [],
   "source": [
    "f,a = plt.subplots(1,1)\n",
    "sns.histplot(data=trainref_df, x='redshift', hue='type', hue_order=['E_S0', 'Sbc/Scd', 'Irr'], palette='tab10', stat='density', multiple='layer', ax=a) "
   ]
  },
  {
   "cell_type": "code",
   "execution_count": null,
   "id": "b1dd45ca",
   "metadata": {},
   "outputs": [],
   "source": [
    "f,a = plt.subplots(1,1)\n",
    "sns.kdeplot(data=trainref_df, x='ref_mag', y='redshift', hue='type', hue_order=['E_S0', 'Sbc/Scd', 'Irr'], palette='tab10', ax=a)"
   ]
  },
  {
   "cell_type": "code",
   "execution_count": null,
   "id": "47295bfa",
   "metadata": {},
   "outputs": [],
   "source": [
    "from jax import vmap\n",
    "from jax.scipy.special import gamma as jgamma\n",
    "import pickle\n",
    "\n",
    "def nz_func(m, z, z0, alpha, km, m0):  # pragma: no cover\n",
    "    zm = z0 + (km * (m - m0))\n",
    "    vals = jnp.power(z, alpha) * jnp.exp(- jnp.power((z / zm), alpha))\n",
    "    Inorm = jnp.power(zm, alpha+1) * jgamma(1 + 1 / alpha) / alpha\n",
    "    return vals / Inorm\n",
    "\n",
    "vmap_dndz_z = vmap(\n",
    "    nz_func,\n",
    "    in_axes=(None, 0, None, None, None, None)\n",
    ")\n",
    "\n",
    "bpz_model = {\n",
    "    'fo_arr': jnp.array([0.35, 0.5, 0.15]),\n",
    "    'kt_arr': jnp.array([0.147, 0.450]),\n",
    "    'zo_arr': jnp.array([0.431, 0.39, 0.063]),\n",
    "    'a_arr': jnp.array([2.46, 1.81, 0.91]),\n",
    "    'km_arr': jnp.array([0.091, 0.0636, 0.123]),\n",
    "    'mo': 20.0,\n",
    "    'nt_array': jnp.array([1, 2, 3])\n",
    "}\n",
    "\n",
    "DATDIR = \"/global/u2/j/jcheval/rail_base/src\"\n",
    "cosmospriorfile = os.path.join(DATDIR, \"rail/examples_data/estimation_data/data/COSMOS31_HDFN_prior.pkl\")\n",
    "with open(cosmospriorfile, 'rb') as _f:\n",
    "    cosmos_prior_dict = pickle.load(_f)\n",
    "cosmos_prior_dict['nt_array'] = jnp.array([10, 5, 16])\n",
    "cosmos_prior_dict['mo'] = 20.0\n",
    "\n",
    "for m in np.arange(20, 26, 0.5):\n",
    "    sumprior = np.zeros_like(run_shire_inform_legacy.pzs)\n",
    "    sumbpz = np.zeros_like(run_shire_inform_legacy.pzs)\n",
    "    sumcos = np.zeros_like(run_shire_inform_legacy.pzs)\n",
    "    f,a = plt.subplots(1,2, figsize=(12, 5))\n",
    "    pzs = jnp.array(run_shire_inform_legacy.pzs)\n",
    "    for ityp, (typ, _c) in enumerate(zip(run_shire_inform_legacy.refcategs, ['tab:blue', 'tab:orange', 'tab:green'])):\n",
    "        fo, kt, z0, alpha, km, nt, m0 = run_shire_inform_legacy.model['fo_arr'][ityp],\\\n",
    "            run_shire_inform_legacy.model['kt_arr'][ityp],\\\n",
    "            run_shire_inform_legacy.model['zo_arr'][ityp],\\\n",
    "            run_shire_inform_legacy.model['a_arr'][ityp],\\\n",
    "            run_shire_inform_legacy.model['km_arr'][ityp],\\\n",
    "            run_shire_inform_legacy.model['nt_array'][ityp]/pzs.shape[0],\\\n",
    "            run_shire_inform_legacy.model['mo'][ityp]\n",
    "        frac = frac_func((fo, kt), m0, m)/nt #*np.sum(run_shire_inform_legacy.model['nt_array'])\n",
    "        vals = vmap_dndz_z(m, pzs, z0, alpha, km, m0) # * frac\n",
    "        norm = jnp.trapezoid(vals, x=pzs)\n",
    "        #print(norm)\n",
    "        a[0].plot(pzs, vals*frac, label=\"SHIRE-\"+typ, c=_c, lw=2)\n",
    "        sumprior+=vals*frac\n",
    "\n",
    "        z0bpz, albpz, kmbpz, m0bpz, ntbpz = bpz_model['zo_arr'][ityp],\\\n",
    "            bpz_model['a_arr'][ityp],\\\n",
    "            bpz_model['km_arr'][ityp],\\\n",
    "            bpz_model['mo'],\\\n",
    "            bpz_model['nt_array'][ityp]\n",
    "        fobpz = bpz_model['fo_arr'][ityp] if ityp<2 \\\n",
    "            else 1-np.sum(bpz_model['fo_arr'])\n",
    "        ktbpz = bpz_model['kt_arr'][ityp] if ityp<2 \\\n",
    "            else kt3(bpz_model['fo_arr'], bpz_model['kt_arr'], m0bpz, m)\n",
    "        fracbpz = frac_func((fobpz, ktbpz), m0bpz, m)/ntbpz #*np.sum(bpz_model['nt_array'])\n",
    "        valsbpz = vmap_dndz_z(m, pzs, z0bpz, albpz, kmbpz, m0bpz) # * frac\n",
    "        a[0].plot(pzs, valsbpz*fracbpz, label=\"BPZ-\"+typ, c=_c, ls=':')\n",
    "        sumbpz+=valsbpz*fracbpz\n",
    "        \n",
    "        z0cos, alcos, kmcos, m0cos, ntcos = cosmos_prior_dict['zo_arr'][ityp],\\\n",
    "            cosmos_prior_dict['a_arr'][ityp],\\\n",
    "            cosmos_prior_dict['km_arr'][ityp],\\\n",
    "            cosmos_prior_dict['mo'],\\\n",
    "            cosmos_prior_dict['nt_array'][ityp]\n",
    "        focos = cosmos_prior_dict['fo_arr'][ityp] if ityp<2 \\\n",
    "            else 1-np.sum(cosmos_prior_dict['fo_arr'])\n",
    "        ktcos = cosmos_prior_dict['kt_arr'][ityp] if ityp<2 \\\n",
    "            else kt3(cosmos_prior_dict['fo_arr'], cosmos_prior_dict['kt_arr'], m0bpz, m)\n",
    "        fraccos = frac_func((focos, ktcos), m0cos, m)/ntcos #*np.sum(cosmos_prior_dict['nt_array'])\n",
    "        valscos = vmap_dndz_z(m, pzs, z0cos, alcos, kmcos, m0cos) # * frac\n",
    "        a[0].plot(pzs, valscos*fraccos, label=\"COSMOS-\"+typ, c=_c, ls=(0, (3, 5, 1, 5)))\n",
    "        sumcos+=valscos*fraccos\n",
    "        \n",
    "    valdefault = vmap_dndz_z(\n",
    "        m, pzs,\n",
    "        run_shire_inform_legacy.config.init_z0,\n",
    "        run_shire_inform_legacy.config.init_alpha,\n",
    "        run_shire_inform_legacy.config.init_km,\n",
    "        20.0\n",
    "    )\n",
    "    fracdef = frac_func((1/3, run_shire_inform_legacy.config.init_kt), 20.0, m) #/1*3\n",
    "    a[0].plot(pzs, valdefault*fracdef, c='k', label='Default')\n",
    "    a[0].legend()\n",
    "\n",
    "    normprior = jnp.trapezoid(sumprior, x=pzs)\n",
    "    normbpz = jnp.trapezoid(sumbpz, x=pzs)\n",
    "    normcos = jnp.trapezoid(sumcos, x=pzs)\n",
    "    normdef = jnp.trapezoid(valdefault*fracdef, x=pzs)\n",
    "    a[1].plot(pzs, valdefault*fracdef/normdef, c='k', label='Default')\n",
    "    a[1].plot(pzs, sumprior/normprior, label=\"SHIRE\")\n",
    "    a[1].plot(pzs, sumbpz/normbpz, label=\"BPZ\", ls=':')\n",
    "    a[1].plot(pzs, sumcos/normcos, label=\"COSMOS\", ls=(0, (3, 5, 1, 5)))\n",
    "    a[1].legend()\n",
    "    a[0].set_title('Priors for 3 categories of galaxies')\n",
    "    a[1].set_title('Marginalised prior distributions (sum on galaxy types)')\n",
    "    a[0].set_xlabel('Redshift z')\n",
    "    a[1].set_xlabel('Redshift z')\n",
    "    a[0].set_ylabel('PDF')\n",
    "    a[1].set_ylabel('PDF')\n",
    "    f.suptitle(f'Comparison of prior distributions at m={m:.2f}')"
   ]
  },
  {
   "cell_type": "markdown",
   "id": "2d4bec01",
   "metadata": {},
   "source": [
    "## Run the photometric redshifts estimation"
   ]
  },
  {
   "cell_type": "markdown",
   "id": "146469ca",
   "metadata": {},
   "source": [
    "### Build two estimators\n",
    "Again, one is for the \"SPS\" method and the other is for the \"Legacy\" method. Though both `estimate` stages could work with templates from either `inform` stage, it makes more sense to keep things consistent and load the appropriate `handles` from the corresponding `inform` stage."
   ]
  },
  {
   "cell_type": "code",
   "execution_count": null,
   "id": "c81a7245-326e-4c31-b83d-f48519a166ff",
   "metadata": {},
   "outputs": [],
   "source": [
    "use_prior = True\n",
    "_suffix = \"\" if use_prior else \"_noprior\""
   ]
  },
  {
   "cell_type": "code",
   "execution_count": null,
   "id": "e8a943e8",
   "metadata": {},
   "outputs": [],
   "source": [
    "default_dict_estimate = dict(\n",
    "    hdf5_groupname=\"photometry\",\n",
    "    data_path=\"./data\",\n",
    "    bands=_bands,\n",
    "    err_bands=_errbands,\n",
    "    zmin=0.01,\n",
    "    zmax=3.1,\n",
    "    nzbins=310,\n",
    "    mag_limits=_maglims,\n",
    "    ssp_file=\"ssp_data_fsps_v3.2_lgmet_age.h5\",\n",
    "    filter_dict={**lsst_filts_dict, **roman_filts_dict},\n",
    "    wlmin=500.,\n",
    "    wlmax=25000.,\n",
    "    dwl=5.,\n",
    "    no_prior=not(use_prior),\n",
    "    chunk_size=5000\n",
    ")\n",
    "\n",
    "run_shire_estimate_sps = ShireEstimator.make_stage(\n",
    "    name=\"shireSPS_estimate_romanlsstSimhp10552_demo\"+_suffix,\n",
    "    output=f\"shireSPS_results_romanlsstSimhp10552_demo{_suffix}.hdf5\",\n",
    "    **default_dict_estimate,\n",
    "    templ_type=\"SPS\",\n",
    "    templates=run_shire_inform_sps.get_handle(\"templates\"),\n",
    "    model=run_shire_inform_sps.get_handle(\"model\")\n",
    ")\n",
    "\n",
    "run_shire_estimate_legacy = ShireEstimator.make_stage(\n",
    "    name=\"shireLEG_estimate_romanlsstSimhp10552_demo\"+_suffix,\n",
    "    output=f\"shireLEG_results_romanlsstSimhp10552_demo{_suffix}.hdf5\",\n",
    "    **default_dict_estimate,\n",
    "    templ_type=\"Legacy\",\n",
    "    templates=run_shire_inform_legacy.get_handle(\"templates\"),\n",
    "    model=run_shire_inform_legacy.get_handle(\"model\")\n",
    ")"
   ]
  },
  {
   "cell_type": "markdown",
   "id": "c1aab99d-3e4e-40ae-ae78-dc53789153c7",
   "metadata": {},
   "source": [
    "### Run a reference estimator"
   ]
  },
  {
   "cell_type": "code",
   "execution_count": null,
   "id": "847132c8-f4db-4a69-bbdf-83c203bf7ee3",
   "metadata": {},
   "outputs": [],
   "source": [
    "typefile = 'training_types_lsstroman_legacy.hdf5'\n",
    "typ_df = pd.DataFrame()\n",
    "traintypes = np.array(run_shire_inform_legacy.besttypes)\n",
    "typ_df['types'] = traintypes #np.where(traintypes > 1, traintypes-1, traintypes)\n",
    "tables_io.write(typ_df, typefile)\n",
    "typ_df['types']"
   ]
  },
  {
   "cell_type": "code",
   "execution_count": null,
   "id": "ee160595-8458-474e-873c-728d179098d6",
   "metadata": {},
   "outputs": [],
   "source": [
    "from rail.estimation.algos.bpz_lite import BPZliteInformer, BPZliteEstimator\n",
    "\n",
    "from rail.core.data import ModelHandle\n",
    "\n",
    "RAILDIR = \"/global/u2/j/jcheval/rail_base/src\"\n",
    "\n",
    "cosmospriorfile = os.path.join(RAILDIR, \"rail/examples_data/estimation_data/data/COSMOS31_HDFN_prior.pkl\")\n",
    "cosmosprior = DS.read_file(\"cosmos_prior\", ModelHandle, cosmospriorfile)\n",
    "sedfile = \"COSMOS_seds.list\" #os.path.join(RAILDIR, \"rail/examples_data/estimation_data/data/SED/COSMOS_seds.list\")\n",
    "\n",
    "bands = [\"u\", \"g\", \"r\", \"i\", \"z\", \"y\"]\n",
    "lsst_bands = []\n",
    "lsst_errs = []\n",
    "lsst_filts = []\n",
    "for band in bands:\n",
    "    lsst_bands.append(f\"mag_{band}_lsst\")\n",
    "    lsst_errs.append(f\"mag_err_{band}_lsst\")\n",
    "    lsst_filts.append(f\"DC2LSST_{band}\")\n",
    "\n",
    "robands = [\"wfi_f106\", \"wfi_f129\", \"wfi_f158\", \"wfi_f184\"]\n",
    "roman_bands = [f\"mag_{band}_roman\" for band in robands]\n",
    "roman_errs = [f\"mag_err_{band}_roman\" for band in robands]\n",
    "roman_filts = [f\"roman_{band}\" for band in robands]\n",
    "\n",
    "cosmos_dict = dict(\n",
    "    hdf5_groupname=\"photometry\",\n",
    "    output=f\"BPZ_results_romanlsstSimhp10552_demo{_suffix}.hdf5\",\n",
    "    spectra_file=sedfile,\n",
    "    bands=_bands,\n",
    "    err_bands=_errbands,\n",
    "    filter_list=lsst_filts+roman_filts,\n",
    "    mag_limits=_maglims,\n",
    "    zp_errors=np.full(len(lsst_bands+roman_bands), 0.01),\n",
    "    wlmin=500.,\n",
    "    wlmax=25000.,\n",
    "    dwl=5.,\n",
    "    zmin=0.01,\n",
    "    zmax=3.1,\n",
    "    nzbins=310,\n",
    "    prior_band=\"mag_i_lsst\",\n",
    "    data_path=\"/global/u2/j/jcheval/rail_base/src/rail/examples_data/estimation_data/data\",\n",
    "    no_prior=not(use_prior),\n",
    "    chunk_size=5000\n",
    ")\n",
    "\n",
    "inform_bpz = BPZliteInformer.make_stage(\n",
    "    name=\"BPZ_inform_romanlsstSimhp10552_demo\",\n",
    "    hdf5_groupname=\"photometry\",\n",
    "    nondetect_val=jnp.nan,\n",
    "    bands=_bands,\n",
    "    err_bands=_errbands,\n",
    "    filter_list=lsst_filts+roman_filts,\n",
    "    mag_limits=_maglims,\n",
    "    zp_errors=np.full(len(lsst_bands+roman_bands), 0.01),\n",
    "    prior_band=\"mag_i_lsst\",\n",
    "    wlmin=500.,\n",
    "    wlmax=25000.,\n",
    "    dwl=5.,\n",
    "    data_path=\"/global/u2/j/jcheval/rail_base/src/rail/examples_data/estimation_data/data\",\n",
    "    nt_array=[10, 5, 16],\n",
    "    type_file=typefile\n",
    ")"
   ]
  },
  {
   "cell_type": "code",
   "execution_count": null,
   "id": "abcd2f6d-9a79-464f-9115-cf384781b814",
   "metadata": {},
   "outputs": [],
   "source": [
    "%%time\n",
    "inform_bpz.inform(training_data)"
   ]
  },
  {
   "cell_type": "code",
   "execution_count": null,
   "id": "3ff03b26-e5b0-4bba-9b2c-643965aef9e4",
   "metadata": {},
   "outputs": [],
   "source": [
    "estimate_bpz = BPZliteEstimator.make_stage(\n",
    "    name=\"BPZ_estimate_romanlsstSimhp10552_demo\"+_suffix,\n",
    "    model= cosmosprior, # inform_bpz.get_handle(\"model\"), #\n",
    "    **cosmos_dict\n",
    ")"
   ]
  },
  {
   "cell_type": "code",
   "execution_count": null,
   "id": "7d41adee-8e80-4309-8810-b4b0940ae1c3",
   "metadata": {},
   "outputs": [],
   "source": [
    "%%time\n",
    "estimate_bpz.estimate(test_data)"
   ]
  },
  {
   "cell_type": "code",
   "execution_count": null,
   "id": "9228f1d4-ef3a-4cda-8b6d-d831cd3bab2e",
   "metadata": {},
   "outputs": [],
   "source": [
    "pdfs_file_bpz = f\"BPZ_results_romanlsstSimhp10552_demo{_suffix}.hdf5\"\n",
    "custom_res_bpz = qp.read(pdfs_file_bpz)\n",
    "sz = jnp.array(test_data()['photometry']['redshift'])"
   ]
  },
  {
   "cell_type": "code",
   "execution_count": null,
   "id": "00047224-a2ed-476b-a3c9-94737b4a4247",
   "metadata": {},
   "outputs": [],
   "source": [
    "a = plot_zp_zs_ensemble(\n",
    "    custom_res_bpz, sz,\n",
    "    z_grid=None, key_estim=\"zmode\",\n",
    "    label='_'.join(['BPZ']+(os.path.splitext(pdfs_file_bpz)[0]).split('_')[2:]))\n",
    "plt.show()"
   ]
  },
  {
   "cell_type": "markdown",
   "id": "9c2246b7",
   "metadata": {},
   "source": [
    "### Run the \"SPS\" estimation"
   ]
  },
  {
   "cell_type": "code",
   "execution_count": null,
   "id": "f0027e11",
   "metadata": {},
   "outputs": [],
   "source": [
    "%%time\n",
    "run_shire_estimate_sps.estimate(test_data)"
   ]
  },
  {
   "cell_type": "code",
   "execution_count": null,
   "id": "e3b64c93",
   "metadata": {},
   "outputs": [],
   "source": [
    "pdfs_file_sps = f\"shireSPS_results_romanlsstSimhp10552_demo{_suffix}.hdf5\"\n",
    "custom_res_sps = qp.read(pdfs_file_sps)\n",
    "sz = jnp.array(test_data()['photometry']['redshift'])"
   ]
  },
  {
   "cell_type": "code",
   "execution_count": null,
   "id": "c389fec0",
   "metadata": {},
   "outputs": [],
   "source": [
    "a = plot_zp_zs_ensemble(\n",
    "    custom_res_sps, sz,\n",
    "    z_grid=None, key_estim=\"zmode\",\n",
    "    label='_'.join(['SHIRE_SPS']+(os.path.splitext(pdfs_file_sps)[0]).split('_')[2:]))\n",
    "plt.show()"
   ]
  },
  {
   "cell_type": "markdown",
   "id": "a150989d",
   "metadata": {},
   "source": [
    "### Run the \"Legacy\" estimation"
   ]
  },
  {
   "cell_type": "code",
   "execution_count": null,
   "id": "4d477994",
   "metadata": {},
   "outputs": [],
   "source": [
    "%%time\n",
    "run_shire_estimate_legacy.estimate(test_data)"
   ]
  },
  {
   "cell_type": "code",
   "execution_count": null,
   "id": "8223c82e",
   "metadata": {},
   "outputs": [],
   "source": [
    "pdfs_file_legacy = f\"shireLEG_results_romanlsstSimhp10552_demo{_suffix}.hdf5\"\n",
    "custom_res_legacy = qp.read(pdfs_file_legacy)\n",
    "# sz = jnp.array(test_data()['photometry']['redshift']) -- Unnecessary"
   ]
  },
  {
   "cell_type": "code",
   "execution_count": null,
   "id": "7a72b171",
   "metadata": {},
   "outputs": [],
   "source": [
    "a = plot_zp_zs_ensemble(\n",
    "    custom_res_legacy, sz,\n",
    "    z_grid=None, key_estim=\"zmode\",\n",
    "    label='_'.join(['SHIRE_Legacy']+(os.path.splitext(pdfs_file_legacy)[0]).split('_')[2:]))\n",
    "plt.show()"
   ]
  },
  {
   "cell_type": "markdown",
   "id": "22a70e33",
   "metadata": {},
   "source": [
    "### Compare outliers distribution between both methods"
   ]
  },
  {
   "cell_type": "code",
   "execution_count": null,
   "id": "da5d366d",
   "metadata": {},
   "outputs": [],
   "source": [
    "hist_outliers(\n",
    "    custom_res_sps, sz, label1='_'.join(['SHIRE_SPS']+(os.path.splitext(pdfs_file_sps)[0]).split('_')[2:]),\n",
    "    qp_ens_2=custom_res_legacy, label2='_'.join(['SHIRE_Legacy']+(os.path.splitext(pdfs_file_legacy)[0]).split('_')[2:]),\n",
    "    qp_ens_3=custom_res_bpz, label3='_'.join(['BPZ']+(os.path.splitext(pdfs_file_bpz)[0]).split('_')[2:])\n",
    ")\n",
    "plt.show()"
   ]
  },
  {
   "cell_type": "markdown",
   "id": "403322d1",
   "metadata": {},
   "source": [
    "## Evaluate posteriors using `RAIL` "
   ]
  },
  {
   "cell_type": "markdown",
   "id": "6daec706",
   "metadata": {},
   "source": [
    "Check out [Evaluation_demo_LSSTsim.ipynb](Evaluation_demo_LSSTsim.ipynb) !"
   ]
  },
  {
   "cell_type": "markdown",
   "id": "6410eb96",
   "metadata": {},
   "source": [
    "## Build a pipeline with `ceci`"
   ]
  },
  {
   "cell_type": "code",
   "execution_count": null,
   "id": "acb5935e",
   "metadata": {},
   "outputs": [],
   "source": [
    "import ceci\n",
    "pipe = ceci.Pipeline.interactive()\n",
    "stages = [run_shire_inform_sps, run_shire_estimate_sps]\n",
    "for stage in stages:\n",
    "    pipe.add_stage(stage)\n",
    "pipe.stage_execution_config['shireSPS_estimate_romanlsstSimhp10552_demo'+_suffix].nprocess=1"
   ]
  },
  {
   "cell_type": "code",
   "execution_count": null,
   "id": "39ce1411",
   "metadata": {},
   "outputs": [],
   "source": [
    "pipe.initialize(\n",
    "    dict(\n",
    "        training_data=trainFile,\n",
    "        test_data=testFile\n",
    "    ),\n",
    "    dict(\n",
    "        output_dir='.',\n",
    "        log_dir='.',\n",
    "        resume=False\n",
    "    ),\n",
    "    None\n",
    ")"
   ]
  },
  {
   "cell_type": "code",
   "execution_count": null,
   "id": "b54b0b5d",
   "metadata": {},
   "outputs": [],
   "source": [
    "pipe.save(f'rail_shireSPS_romanlsstsim_pz_demo{_suffix}.yml')"
   ]
  },
  {
   "cell_type": "code",
   "execution_count": null,
   "id": "4e589666",
   "metadata": {},
   "outputs": [],
   "source": [
    "pr = ceci.Pipeline.read(f'rail_shireSPS_romanlsstsim_pz_demo{_suffix}.yml')"
   ]
  },
  {
   "cell_type": "code",
   "execution_count": null,
   "id": "9927b847",
   "metadata": {},
   "outputs": [],
   "source": [
    "#pr.run()"
   ]
  }
 ],
 "metadata": {
  "kernelspec": {
   "display_name": "rail",
   "language": "python",
   "name": "python3"
  },
  "language_info": {
   "codemirror_mode": {
    "name": "ipython",
    "version": 3
   },
   "file_extension": ".py",
   "mimetype": "text/x-python",
   "name": "python",
   "nbconvert_exporter": "python",
   "pygments_lexer": "ipython3",
   "version": "3.12.7"
  }
 },
 "nbformat": 4,
 "nbformat_minor": 5
}
