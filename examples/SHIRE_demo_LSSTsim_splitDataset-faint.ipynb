{
 "cells": [
  {
   "cell_type": "code",
   "execution_count": null,
   "id": "c1145136",
   "metadata": {},
   "outputs": [],
   "source": [
    "import os\n",
    "import qp\n",
    "import jax\n",
    "import matplotlib.pyplot as plt\n",
    "import seaborn as sns\n",
    "from jax import numpy as jnp\n",
    "\n",
    "import pandas as pd\n",
    "import tables_io\n",
    "import numpy as np\n",
    "\n",
    "from rail.core.data import TableHandle\n",
    "from rail.core.stage import RailStage\n",
    "from rail.utils.path_utils import RAILDIR\n",
    "from rail.core.common_params import SHARED_PARAMS\n",
    "\n",
    "from rail.shire import ShireInformer, ShireEstimator, hist_outliers, plot_zp_zs_ensemble\n",
    "\n",
    "jax.config.update(\"jax_enable_x64\", True)"
   ]
  },
  {
   "cell_type": "markdown",
   "id": "1a76a826",
   "metadata": {},
   "source": [
    "## Select and load data into the datastore"
   ]
  },
  {
   "cell_type": "code",
   "execution_count": null,
   "id": "dc1a6c51",
   "metadata": {},
   "outputs": [],
   "source": [
    "DS = RailStage.data_store\n",
    "DS.__class__.allow_overwrite = True"
   ]
  },
  {
   "cell_type": "code",
   "execution_count": null,
   "id": "ef48cb0c-1ca1-4ee1-bdf9-91243992d5fc",
   "metadata": {},
   "outputs": [],
   "source": [
    "trainFile = os.path.abspath(os.path.join('.', 'data', 'train_magszgalaxies_lsstroman_gold_hp10552_10k.h5')) #os.path.abspath(os.path.join('./data', 'test_magszgalaxies_lsstroman_gold_hp10552_50k.h5')) #os.path.join(RAILDIR, 'rail/examples_data/testdata/test_dc2_training_9816.hdf5')\n",
    "testFile = os.path.abspath(os.path.join('.', 'data', 'test_magszgalaxies_lsstroman_gold_hp10552_50k.h5')) #os.path.abspath(os.path.join('../..', 'magszgalaxies_lsstroman_gold_hp10552.h5')) #os.path.join(RAILDIR, 'rail/examples_data/testdata/test_dc2_validation_9816.hdf5')"
   ]
  },
  {
   "cell_type": "code",
   "execution_count": null,
   "id": "28bcfb36-96e2-444b-86cd-3db1b3d236d6",
   "metadata": {},
   "outputs": [],
   "source": [
    "mag_lim = 24\n",
    "mag_col = \"mag_i_lsst\"\n",
    "\n",
    "traindf = pd.read_hdf(trainFile)\n",
    "traindf.sort_values(mag_col, axis=0, inplace=True)\n",
    "train_bright = traindf[traindf[mag_col]<=mag_lim]\n",
    "train_faint = traindf[traindf[mag_col]>mag_lim]\n",
    "\n",
    "testdf = pd.read_hdf(testFile)\n",
    "testdf.sort_values(mag_col, axis=0, inplace=True)\n",
    "test_bright = testdf[testdf[mag_col]<=mag_lim]\n",
    "test_faint = testdf[testdf[mag_col]>mag_lim]"
   ]
  },
  {
   "cell_type": "code",
   "execution_count": null,
   "id": "30da7899-4662-4c79-b383-0ca49ab597cd",
   "metadata": {},
   "outputs": [],
   "source": [
    "trainFile_bright = os.path.abspath(os.path.join('.', 'data', 'train_lsstroman_gold_hp10552_bright.h5'))\n",
    "testFile_bright = os.path.abspath(os.path.join('.', 'data', 'test_lsstroman_gold_hp10552_bright.h5'))\n",
    "train_bright.to_hdf(trainFile_bright, key=\"photometry\", mode=\"w\")\n",
    "test_bright.to_hdf(testFile_bright, key=\"photometry\", mode=\"w\")\n",
    "\n",
    "trainFile_faint = os.path.abspath(os.path.join('.', 'data', 'train_lsstroman_gold_hp10552_faint.h5'))\n",
    "testFile_faint = os.path.abspath(os.path.join('.', 'data', 'test_lsstroman_gold_hp10552_faint.h5'))\n",
    "train_faint.to_hdf(trainFile_faint, key=\"photometry\", mode=\"w\")\n",
    "test_faint.to_hdf(testFile_faint, key=\"photometry\", mode=\"w\")"
   ]
  },
  {
   "cell_type": "code",
   "execution_count": null,
   "id": "40d770e2-edc1-44f0-a170-aad667e3a882",
   "metadata": {},
   "outputs": [],
   "source": [
    "train_lowz = DS.read_file(\"training_data_bright\", TableHandle, trainFile_bright)\n",
    "test_lowz = DS.read_file(\"test_data_bright\", TableHandle, testFile_bright)\n",
    "\n",
    "train_hiz = DS.read_file(\"training_data_faint\", TableHandle, trainFile_faint)\n",
    "test_hiz = DS.read_file(\"test_data_faint\", TableHandle, testFile_faint)"
   ]
  },
  {
   "cell_type": "code",
   "execution_count": null,
   "id": "3f396927-f09d-4b0b-bfee-6cbea9360905",
   "metadata": {},
   "outputs": [],
   "source": [
    "from rail.creation.degraders.quantityCut import QuantityCut\n",
    "\n",
    "if False:\n",
    "    train_cut = QuantityCut.make_stage(name=\"train_cuts\", cuts={mag_col: mag_lim})\n",
    "    test_cut = QuantityCut.make_stage(name=\"test_cuts\", cuts={mag_col: mag_lim})\n",
    "    train_lowz = train_cut(train_data)\n",
    "    test_lowz = test_cut(test_data)"
   ]
  },
  {
   "cell_type": "code",
   "execution_count": null,
   "id": "e691cb2f",
   "metadata": {},
   "outputs": [],
   "source": [
    "lsst_filts_dict = {f\"{_n}_lsst\": \"filt_lsst\" for _n in \"ugrizy\"}\n",
    "\n",
    "_bands = [ f\"mag_{_k}\" for _k in lsst_filts_dict ]\n",
    "_errbands = [ f\"mag_err_{_k}\" for _k in lsst_filts_dict ]"
   ]
  },
  {
   "cell_type": "markdown",
   "id": "cf8b277f",
   "metadata": {},
   "source": [
    "## Inform the estimator, i.e. select a subset of galaxies as templates"
   ]
  },
  {
   "cell_type": "code",
   "execution_count": null,
   "id": "120fc0be",
   "metadata": {},
   "outputs": [],
   "source": [
    "default_dict_inform = dict(\n",
    "    hdf5_groupname=\"photometry\", #\"\", #\n",
    "    data_path=\"./data\",\n",
    "    bands=_bands,\n",
    "    err_bands=_errbands,\n",
    "    spectra_file=\"dsps_valid_fits_F2SM3_GG_DESI.h5\",\n",
    "    ssp_file=\"ssp_data_fsps_v3.2_lgmet_age.h5\",\n",
    "    filter_dict=lsst_filts_dict,\n",
    "    wlmin=500.,\n",
    "    wlmax=12000.,\n",
    "    dwl=5.,\n",
    "    colrsbins=60,\n",
    "    init_m0=mag_lim\n",
    ")"
   ]
  },
  {
   "cell_type": "markdown",
   "id": "757d5ee1",
   "metadata": {},
   "source": [
    "### Prepare two informers: one for each method 'SPS' or 'Legacy'\n",
    "- 'SPS' recomputes an SED at every redshift based on the star-formation history of the template galaxy before synthesizing the colours for every value of $z$ along the grid\n",
    "- 'Legacy' computes the SED once at the template galaxy's redshift and uses it to synthesize colours at all $z$ values with the usual transformation $\\lambda_\\mathrm{obs} = (1+z)\\lambda_\\mathrm{em}$"
   ]
  },
  {
   "cell_type": "code",
   "execution_count": null,
   "id": "803f2707",
   "metadata": {},
   "outputs": [],
   "source": [
    "run_shire_inform_sps = ShireInformer.make_stage(\n",
    "    name=\"shireSPS_inform_lsstSimhp10552_demo_splithi\",\n",
    "    output=\"shireSPS_templates_lsstSimhp10552_demo_splithi.hf5\",\n",
    "    **default_dict_inform,\n",
    "    templ_type=\"SPS\"\n",
    ")\n",
    "\n",
    "run_shire_inform_legacy = ShireInformer.make_stage(\n",
    "    name=\"shireLEG_inform_lsstSimhp10552_demo_splithi\",\n",
    "    output=\"shireLEG_templates_lsstSimhp10552_demo_splithi.hf5\",\n",
    "    **default_dict_inform,\n",
    "    templ_type=\"Legacy\"\n",
    ")"
   ]
  },
  {
   "cell_type": "markdown",
   "id": "81238add",
   "metadata": {},
   "source": [
    "### Inform the 'SPS' templates"
   ]
  },
  {
   "cell_type": "code",
   "execution_count": null,
   "id": "df5094ac",
   "metadata": {},
   "outputs": [],
   "source": [
    "%%time\n",
    "run_shire_inform_sps.inform(train_hiz)"
   ]
  },
  {
   "cell_type": "code",
   "execution_count": null,
   "id": "ab4fd8c2",
   "metadata": {},
   "outputs": [],
   "source": [
    "all_templs_df_sps = run_shire_inform_sps._nuvk_classif()\n",
    "f, a = plt.subplots(1,1)\n",
    "sns.scatterplot(\n",
    "    data=all_templs_df_sps, x=\"g_lsst-r_lsst\", y=\"r_lsst-i_lsst\",\n",
    "    hue=\"CAT_NUVK\", hue_order=['E_S0', 'Sbc/Scd', 'Irr'], palette='tab10', alpha=0.5,\n",
    "    size='z_p', sizes=(10, 100),\n",
    "    ax=a\n",
    ")\n",
    "a.grid()"
   ]
  },
  {
   "cell_type": "code",
   "execution_count": null,
   "id": "61a77bc7",
   "metadata": {},
   "outputs": [],
   "source": [
    "run_shire_inform_sps.plot_templ_seds()"
   ]
  },
  {
   "cell_type": "markdown",
   "id": "8bfb6e8e",
   "metadata": {},
   "source": [
    "### Inform the 'Legacy' templates"
   ]
  },
  {
   "cell_type": "code",
   "execution_count": null,
   "id": "1523acb4",
   "metadata": {},
   "outputs": [],
   "source": [
    "%%time\n",
    "run_shire_inform_legacy.inform(train_hiz)"
   ]
  },
  {
   "cell_type": "code",
   "execution_count": null,
   "id": "d69fc3f8",
   "metadata": {},
   "outputs": [],
   "source": [
    "run_shire_inform_legacy.plot_templ_seds()"
   ]
  },
  {
   "cell_type": "code",
   "execution_count": null,
   "id": "501baa04",
   "metadata": {},
   "outputs": [],
   "source": [
    "all_templs_df_leg = run_shire_inform_legacy._nuvk_classif()\n",
    "f, a = plt.subplots(1,1)\n",
    "sns.scatterplot(\n",
    "    data=all_templs_df_leg, x=\"g_lsst-r_lsst\", y=\"r_lsst-i_lsst\",\n",
    "    hue=\"CAT_NUVK\", hue_order=['E_S0', 'Sbc/Scd', 'Irr'], palette='tab10', alpha=0.5,\n",
    "    size='z_p', sizes=(10, 100),\n",
    "    ax=a\n",
    ")\n",
    "a.grid()"
   ]
  },
  {
   "cell_type": "markdown",
   "id": "e6a22bbc",
   "metadata": {},
   "source": [
    "### Plot the prior"
   ]
  },
  {
   "cell_type": "code",
   "execution_count": null,
   "id": "79092004",
   "metadata": {},
   "outputs": [],
   "source": [
    "trainref_df = pd.DataFrame()\n",
    "trainref_df['ref_mag'] = np.array(run_shire_inform_legacy.refmags)\n",
    "trainref_df['redshift'] = np.array(run_shire_inform_legacy.szs)\n",
    "trainref_df['type_num'] = np.array(run_shire_inform_legacy.besttypes)\n",
    "trainref_df['type'] = np.array([run_shire_inform_legacy.refcategs[_n] for _n in run_shire_inform_legacy.besttypes])"
   ]
  },
  {
   "cell_type": "code",
   "execution_count": null,
   "id": "8d13d36f",
   "metadata": {},
   "outputs": [],
   "source": [
    "trainref_df[['u-g', 'g-r', 'r-i', 'i-z', 'z-y']] = np.array(run_shire_inform_legacy.mags[:, :-1] - run_shire_inform_legacy.mags[:, 1:])"
   ]
  },
  {
   "cell_type": "code",
   "execution_count": null,
   "id": "99dc1c4a",
   "metadata": {},
   "outputs": [],
   "source": [
    "f,a = plt.subplots(1,1)\n",
    "sns.histplot(data=trainref_df, x='ref_mag', hue='type', hue_order=['E_S0', 'Sbc/Scd', 'Irr'], palette='tab10', stat='probability', multiple='layer', ax=a)"
   ]
  },
  {
   "cell_type": "code",
   "execution_count": null,
   "id": "cdcb3a6c",
   "metadata": {},
   "outputs": [],
   "source": [
    "sns.scatterplot(trainref_df, x='u-g', y='i-z', hue='type', hue_order=['E_S0', 'Sbc/Scd', 'Irr'], palette='tab10', alpha=0.5)"
   ]
  },
  {
   "cell_type": "code",
   "execution_count": null,
   "id": "0e9dae65",
   "metadata": {},
   "outputs": [],
   "source": [
    "f,a = plt.subplots(1,1)\n",
    "\n",
    "def frac_func(X, m0, m):\n",
    "    fo, kt = X\n",
    "    return fo * jnp.exp(-kt * (m - m0))\n",
    "\n",
    "def kt3(fo_arr, kt_arr, m0, m):\n",
    "    kt_val = -jnp.log((1 - fo_arr[0] * jnp.exp(-kt_arr[0] * (m - m0)) - fo_arr[1] * jnp.exp(-kt_arr[1] * (m - m0))) / fo_arr[-1]) / (m - m0)\n",
    "    return kt_val\n",
    "\n",
    "_order = np.argsort(run_shire_inform_legacy.refmags)\n",
    "refmags = run_shire_inform_legacy.refmags[_order]\n",
    "\n",
    "for ityp, (typ, _c) in enumerate(zip(run_shire_inform_legacy.refcategs, ['tab:blue', 'tab:orange', 'tab:green'])):\n",
    "    fo, kt, nt, m0 = run_shire_inform_legacy.model['fo_arr'][ityp],\\\n",
    "        run_shire_inform_legacy.model['kt_arr'][ityp],\\\n",
    "        run_shire_inform_legacy.model['nt_array'][ityp],\\\n",
    "        run_shire_inform_legacy.model['mo'][ityp]\n",
    "    frac = frac_func((fo, kt), m0, refmags)\n",
    "    a.plot(refmags, frac, label=typ, c=_c)\n",
    "\n",
    "default = frac_func((0.3, run_shire_inform_legacy.config.init_kt), 20., refmags)\n",
    "a.plot(refmags, default, label='default', c='k')\n",
    "a.legend()"
   ]
  },
  {
   "cell_type": "code",
   "execution_count": null,
   "id": "a5d29369",
   "metadata": {},
   "outputs": [],
   "source": [
    "f,a = plt.subplots(1,1)\n",
    "sns.histplot(data=trainref_df, x='redshift', hue='type', hue_order=['E_S0', 'Sbc/Scd', 'Irr'], palette='tab10', stat='density', multiple='layer', ax=a) "
   ]
  },
  {
   "cell_type": "code",
   "execution_count": null,
   "id": "d62926cc",
   "metadata": {},
   "outputs": [],
   "source": [
    "f,a = plt.subplots(1,1)\n",
    "sns.kdeplot(data=trainref_df, x='ref_mag', y='redshift', hue='type', hue_order=['E_S0', 'Sbc/Scd', 'Irr'], palette='tab10', ax=a)"
   ]
  },
  {
   "cell_type": "code",
   "execution_count": null,
   "id": "6e899bd1",
   "metadata": {},
   "outputs": [],
   "source": [
    "from jax import vmap\n",
    "from jax.scipy.special import gamma as jgamma\n",
    "import pickle\n",
    "\n",
    "def nz_func(m, z, z0, alpha, km, m0):  # pragma: no cover\n",
    "    zm = z0 + (km * (m - m0))\n",
    "    vals = jnp.power(z, alpha) * jnp.exp(- jnp.power((z / zm), alpha))\n",
    "    Inorm = jnp.power(zm, alpha+1) * jgamma(1 + 1 / alpha) / alpha\n",
    "    return vals / Inorm\n",
    "\n",
    "vmap_dndz_z = vmap(\n",
    "    nz_func,\n",
    "    in_axes=(None, 0, None, None, None, None)\n",
    ")\n",
    "\n",
    "bpz_model = {\n",
    "    'fo_arr': jnp.array([0.35, 0.5, 0.15]),\n",
    "    'kt_arr': jnp.array([0.147, 0.450]),\n",
    "    'zo_arr': jnp.array([0.431, 0.39, 0.063]),\n",
    "    'a_arr': jnp.array([2.46, 1.81, 0.91]),\n",
    "    'km_arr': jnp.array([0.091, 0.0636, 0.123]),\n",
    "    'mo': 20.0,\n",
    "    'nt_array': jnp.array([1, 2, 3])\n",
    "}\n",
    "\n",
    "DATDIR = \"/global/u2/j/jcheval/rail_base/src\"\n",
    "cosmospriorfile = os.path.join(DATDIR, \"rail/examples_data/estimation_data/data/COSMOS31_HDFN_prior.pkl\")\n",
    "with open(cosmospriorfile, 'rb') as _f:\n",
    "    cosmos_prior_dict = pickle.load(_f)\n",
    "cosmos_prior_dict['nt_array'] = jnp.array([10, 5, 16])\n",
    "cosmos_prior_dict['mo'] = 20.0\n",
    "\n",
    "for m in np.linspace(mag_lim, 26, 4):\n",
    "    sumprior = np.zeros_like(run_shire_inform_legacy.pzs)\n",
    "    sumbpz = np.zeros_like(run_shire_inform_legacy.pzs)\n",
    "    sumcos = np.zeros_like(run_shire_inform_legacy.pzs)\n",
    "    f,a = plt.subplots(1,2, figsize=(12, 5))\n",
    "    pzs = jnp.array(run_shire_inform_legacy.pzs)\n",
    "    for ityp, (typ, _c) in enumerate(zip(run_shire_inform_legacy.refcategs, ['tab:blue', 'tab:orange', 'tab:green'])):\n",
    "        fo, kt, z0, alpha, km, nt, m0 = run_shire_inform_legacy.model['fo_arr'][ityp],\\\n",
    "            run_shire_inform_legacy.model['kt_arr'][ityp],\\\n",
    "            run_shire_inform_legacy.model['zo_arr'][ityp],\\\n",
    "            run_shire_inform_legacy.model['a_arr'][ityp],\\\n",
    "            run_shire_inform_legacy.model['km_arr'][ityp],\\\n",
    "            run_shire_inform_legacy.model['nt_array'][ityp]/pzs.shape[0],\\\n",
    "            run_shire_inform_legacy.model['mo'][ityp]\n",
    "        frac = frac_func((fo, kt), m0, m)/nt #*np.sum(run_shire_inform_legacy.model['nt_array'])\n",
    "        vals = vmap_dndz_z(m, pzs, z0, alpha, km, m0) # * frac\n",
    "        norm = jnp.trapezoid(vals, x=pzs)\n",
    "        #print(norm)\n",
    "        a[0].plot(pzs, vals*frac, label=\"SHIRE-\"+typ, c=_c, lw=2)\n",
    "        sumprior+=vals*frac\n",
    "\n",
    "        z0bpz, albpz, kmbpz, m0bpz, ntbpz = bpz_model['zo_arr'][ityp],\\\n",
    "            bpz_model['a_arr'][ityp],\\\n",
    "            bpz_model['km_arr'][ityp],\\\n",
    "            bpz_model['mo'],\\\n",
    "            bpz_model['nt_array'][ityp]\n",
    "        fobpz = bpz_model['fo_arr'][ityp] if ityp<2 \\\n",
    "            else 1-np.sum(bpz_model['fo_arr'])\n",
    "        ktbpz = bpz_model['kt_arr'][ityp] if ityp<2 \\\n",
    "            else kt3(bpz_model['fo_arr'], bpz_model['kt_arr'], m0bpz, m)\n",
    "        fracbpz = frac_func((fobpz, ktbpz), m0bpz, m)/ntbpz #*np.sum(bpz_model['nt_array'])\n",
    "        valsbpz = vmap_dndz_z(m, pzs, z0bpz, albpz, kmbpz, m0bpz) # * frac\n",
    "        a[0].plot(pzs, valsbpz*fracbpz, label=\"BPZ-\"+typ, c=_c, ls=':')\n",
    "        sumbpz+=valsbpz*fracbpz\n",
    "        \n",
    "        z0cos, alcos, kmcos, m0cos, ntcos = cosmos_prior_dict['zo_arr'][ityp],\\\n",
    "            cosmos_prior_dict['a_arr'][ityp],\\\n",
    "            cosmos_prior_dict['km_arr'][ityp],\\\n",
    "            cosmos_prior_dict['mo'],\\\n",
    "            cosmos_prior_dict['nt_array'][ityp]\n",
    "        focos = cosmos_prior_dict['fo_arr'][ityp] if ityp<2 \\\n",
    "            else 1-np.sum(cosmos_prior_dict['fo_arr'])\n",
    "        ktcos = cosmos_prior_dict['kt_arr'][ityp] if ityp<2 \\\n",
    "            else kt3(cosmos_prior_dict['fo_arr'], cosmos_prior_dict['kt_arr'], m0bpz, m)\n",
    "        fraccos = frac_func((focos, ktcos), m0cos, m)/ntcos #*np.sum(cosmos_prior_dict['nt_array'])\n",
    "        valscos = vmap_dndz_z(m, pzs, z0cos, alcos, kmcos, m0cos) # * frac\n",
    "        a[0].plot(pzs, valscos*fraccos, label=\"COSMOS-\"+typ, c=_c, ls=(0, (3, 5, 1, 5)))\n",
    "        sumcos+=valscos*fraccos\n",
    "        \n",
    "    valdefault = vmap_dndz_z(\n",
    "        m, pzs,\n",
    "        run_shire_inform_legacy.config.init_z0,\n",
    "        run_shire_inform_legacy.config.init_alpha,\n",
    "        run_shire_inform_legacy.config.init_km,\n",
    "        20.0\n",
    "    )\n",
    "    fracdef = frac_func((1/3, run_shire_inform_legacy.config.init_kt), 20.0, m) #/1*3\n",
    "    a[0].plot(pzs, valdefault*fracdef, c='k', label='Default')\n",
    "    a[0].legend()\n",
    "\n",
    "    normprior = jnp.trapezoid(sumprior, x=pzs)\n",
    "    normbpz = jnp.trapezoid(sumbpz, x=pzs)\n",
    "    normcos = jnp.trapezoid(sumcos, x=pzs)\n",
    "    normdef = jnp.trapezoid(valdefault*fracdef, x=pzs)\n",
    "    a[1].plot(pzs, valdefault*fracdef/normdef, c='k', label='Default')\n",
    "    a[1].plot(pzs, sumprior/normprior, label=\"SHIRE\")\n",
    "    a[1].plot(pzs, sumbpz/normbpz, label=\"BPZ\", ls=':')\n",
    "    a[1].plot(pzs, sumcos/normcos, label=\"COSMOS\", ls=(0, (3, 5, 1, 5)))\n",
    "    a[1].legend()\n",
    "    a[0].set_title('Priors for 3 categories of galaxies')\n",
    "    a[1].set_title('Marginalised prior distributions (sum on galaxy types)')\n",
    "    a[0].set_xlabel('Redshift z')\n",
    "    a[1].set_xlabel('Redshift z')\n",
    "    a[0].set_ylabel('PDF')\n",
    "    a[1].set_ylabel('PDF')\n",
    "    f.suptitle(f'Comparison of prior distributions at m={m:.2f}')"
   ]
  },
  {
   "cell_type": "code",
   "execution_count": null,
   "id": "3f19b424",
   "metadata": {},
   "outputs": [],
   "source": [
    "run_shire_inform_sps.model"
   ]
  },
  {
   "cell_type": "code",
   "execution_count": null,
   "id": "ce8ced39",
   "metadata": {},
   "outputs": [],
   "source": [
    "run_shire_inform_legacy.model"
   ]
  },
  {
   "cell_type": "markdown",
   "id": "2d4bec01",
   "metadata": {},
   "source": [
    "## Run the photometric redshifts estimation"
   ]
  },
  {
   "cell_type": "markdown",
   "id": "146469ca",
   "metadata": {},
   "source": [
    "### Build two estimators\n",
    "Again, one is for the \"SPS\" method and the other is for the \"Legacy\" method. Though both `estimate` stages could work with templates from either `inform` stage, it makes more sense to keep things consistent and load the appropriate `handles` from the corresponding `inform` stage."
   ]
  },
  {
   "cell_type": "code",
   "execution_count": null,
   "id": "d9b9e27a-1a81-490e-912b-20bcc8f2f1be",
   "metadata": {},
   "outputs": [],
   "source": [
    "use_prior = False\n",
    "_suffix = \"\" if use_prior else \"_noprior\""
   ]
  },
  {
   "cell_type": "code",
   "execution_count": null,
   "id": "e8a943e8",
   "metadata": {},
   "outputs": [],
   "source": [
    "default_dict_estimate = dict(\n",
    "    hdf5_groupname=\"photometry\", #\"\", #\n",
    "    data_path=\"./data\",\n",
    "    bands=_bands,\n",
    "    err_bands=_errbands,\n",
    "    zmin=0.01,\n",
    "    zmax=3.1,\n",
    "    nzbins=310,\n",
    "    ssp_file=\"ssp_data_fsps_v3.2_lgmet_age.h5\",\n",
    "    filter_dict=lsst_filts_dict,\n",
    "    wlmin=500.,\n",
    "    wlmax=12000.,\n",
    "    dwl=5.,\n",
    "    no_prior=not(use_prior),\n",
    "    chunk_size=5000\n",
    ")\n",
    "\n",
    "run_shire_estimate_sps = ShireEstimator.make_stage(\n",
    "    name=\"shireSPS_estimate_lsstSimhp10552_demo\"+_suffix+\"_splithi\",\n",
    "    output=f\"shireSPS_results_lsstSimhp10552_demo{_suffix}_splithi.hdf5\",\n",
    "    **default_dict_estimate,\n",
    "    templ_type=\"SPS\",\n",
    "    templates=run_shire_inform_sps.get_handle(\"templates\"),\n",
    "    model=run_shire_inform_sps.get_handle(\"model\")\n",
    ")\n",
    "\n",
    "run_shire_estimate_legacy = ShireEstimator.make_stage(\n",
    "    name=\"shireLEG_estimate_lsstSimhp10552_demo\"+_suffix+\"_splithi\",\n",
    "    output=f\"shireLEG_results_lsstSimhp10552_demo{_suffix}_splithi.hdf5\",\n",
    "    **default_dict_estimate,\n",
    "    templ_type=\"Legacy\",\n",
    "    templates=run_shire_inform_legacy.get_handle(\"templates\"),\n",
    "    model=run_shire_inform_legacy.get_handle(\"model\")\n",
    ")"
   ]
  },
  {
   "cell_type": "markdown",
   "id": "2af71400-12ef-4dec-85dc-6ba3e015f4dd",
   "metadata": {},
   "source": [
    "### Run a reference Estimator (BPZ)"
   ]
  },
  {
   "cell_type": "code",
   "execution_count": null,
   "id": "cae2842a-6199-40bc-b4a9-f27d89bd797c",
   "metadata": {},
   "outputs": [],
   "source": [
    "typefile = 'training_types_legacy.hdf5'\n",
    "typ_df = pd.DataFrame()\n",
    "traintypes = np.array(run_shire_inform_legacy.besttypes)\n",
    "typ_df['types'] = traintypes #np.where(traintypes > 1, traintypes-1, traintypes)\n",
    "tables_io.write(typ_df, typefile)\n",
    "typ_df['types']"
   ]
  },
  {
   "cell_type": "code",
   "execution_count": null,
   "id": "76189253-08d9-4d80-acdb-76504937c76c",
   "metadata": {},
   "outputs": [],
   "source": [
    "from rail.estimation.algos.bpz_lite import BPZliteInformer, BPZliteEstimator\n",
    "\n",
    "from rail.core.data import ModelHandle\n",
    "\n",
    "RAILDIR = \"/global/u2/j/jcheval/rail_base/src\"\n",
    "\n",
    "cosmospriorfile = os.path.join(RAILDIR, \"rail/examples_data/estimation_data/data/COSMOS31_HDFN_prior.pkl\")\n",
    "cosmosprior = DS.read_file(\"cosmos_prior\", ModelHandle, cosmospriorfile)\n",
    "sedfile = \"COSMOS_seds.list\" #os.path.join(RAILDIR, \"rail/examples_data/estimation_data/data/SED/COSMOS_seds.list\")\n",
    "\n",
    "filter_list = [f\"DC2LSST_{b.split('_')[0]}\" for b in lsst_filts_dict.keys()]\n",
    "\n",
    "cosmos_dict = dict(\n",
    "    hdf5_groupname=\"photometry\", #\"\", #\n",
    "    output=f\"BPZ_results_lsstSimhp10552_demo{_suffix}_splithi.hdf5\",\n",
    "    spectra_file=sedfile,\n",
    "    bands=_bands,\n",
    "    err_bands=_errbands,\n",
    "    filter_list=filter_list,\n",
    "    wlmin=500.,\n",
    "    wlmax=12000.,\n",
    "    dwl=5.,\n",
    "    zmin=0.01,\n",
    "    zmax=3.1,\n",
    "    nzbins=310,\n",
    "    prior_band=\"mag_i_lsst\",\n",
    "    data_path=\"/global/u2/j/jcheval/rail_base/src/rail/examples_data/estimation_data/data\",\n",
    "    no_prior=not(use_prior),\n",
    "    chunk_size=5000\n",
    ")\n",
    "\n",
    "inform_bpz = BPZliteInformer.make_stage(\n",
    "    name=\"BPZ_inform_lsstSimhp10552_demo_splithi\",\n",
    "    hdf5_groupname=\"photometry\", #\"\", #\n",
    "    nondetect_val=jnp.nan,\n",
    "    bands=_bands,\n",
    "    err_bands=_errbands,\n",
    "    filter_list=filter_list,\n",
    "    prior_band=\"mag_i_lsst\",\n",
    "    wlmin=500.,\n",
    "    wlmax=12000.,\n",
    "    dwl=5.,\n",
    "    data_path=\"/global/u2/j/jcheval/rail_base/src/rail/examples_data/estimation_data/data\",\n",
    "    nt_array=[10, 5, 16],\n",
    "    type_file=typefile\n",
    ")"
   ]
  },
  {
   "cell_type": "code",
   "execution_count": null,
   "id": "2ddd4933-3a17-49c9-a365-672c9f567fb0",
   "metadata": {},
   "outputs": [],
   "source": [
    "%%time\n",
    "inform_bpz.inform(train_hiz)"
   ]
  },
  {
   "cell_type": "code",
   "execution_count": null,
   "id": "2c05c763-b9fa-455f-b7dd-66ba1857c2aa",
   "metadata": {},
   "outputs": [],
   "source": [
    "estimate_bpz = BPZliteEstimator.make_stage(\n",
    "    name=\"BPZ_estimate_lsstSimhp10552_demo\"+_suffix+\"_splithi\",\n",
    "    model= cosmosprior, # inform_bpz.get_handle(\"model\"), #\n",
    "    **cosmos_dict\n",
    ")"
   ]
  },
  {
   "cell_type": "code",
   "execution_count": null,
   "id": "ff8a2e4b-df36-4308-9105-4cf2cf36391d",
   "metadata": {},
   "outputs": [],
   "source": [
    "%%time\n",
    "estimate_bpz.estimate(test_hiz)"
   ]
  },
  {
   "cell_type": "code",
   "execution_count": null,
   "id": "e422a621-5df3-44aa-820c-7aac1c327e54",
   "metadata": {},
   "outputs": [],
   "source": [
    "estimate_bpz.modeldict"
   ]
  },
  {
   "cell_type": "code",
   "execution_count": null,
   "id": "c5ffafea-e15a-4e4d-a262-52e832ea359e",
   "metadata": {},
   "outputs": [],
   "source": [
    "pdfs_file_bpz = f\"BPZ_results_lsstSimhp10552_demo{_suffix}_splithi.hdf5\"\n",
    "custom_res_bpz = qp.read(pdfs_file_bpz)\n",
    "sz = jnp.array(test_hiz()['photometry']['redshift'])"
   ]
  },
  {
   "cell_type": "code",
   "execution_count": null,
   "id": "7b9eb50b-38c5-43e7-bc98-de757eef6ae7",
   "metadata": {},
   "outputs": [],
   "source": [
    "a = plot_zp_zs_ensemble(\n",
    "    custom_res_bpz, sz,\n",
    "    z_grid=None, key_estim=\"zmode\",\n",
    "    label='_'.join(['BPZ']+(os.path.splitext(pdfs_file_bpz)[0]).split('_')[2:]))\n",
    "plt.show()"
   ]
  },
  {
   "cell_type": "markdown",
   "id": "9c2246b7",
   "metadata": {},
   "source": [
    "### Run the \"SPS\" estimation"
   ]
  },
  {
   "cell_type": "code",
   "execution_count": null,
   "id": "f0027e11",
   "metadata": {},
   "outputs": [],
   "source": [
    "%%time\n",
    "run_shire_estimate_sps.estimate(test_hiz)"
   ]
  },
  {
   "cell_type": "code",
   "execution_count": null,
   "id": "e3b64c93",
   "metadata": {},
   "outputs": [],
   "source": [
    "pdfs_file_sps = f\"shireSPS_results_lsstSimhp10552_demo{_suffix}_splithi.hdf5\"\n",
    "custom_res_sps = qp.read(pdfs_file_sps)\n",
    "sz = jnp.array(test_hiz()['photometry']['redshift'])"
   ]
  },
  {
   "cell_type": "code",
   "execution_count": null,
   "id": "c389fec0",
   "metadata": {},
   "outputs": [],
   "source": [
    "a = plot_zp_zs_ensemble(\n",
    "    custom_res_sps, sz,\n",
    "    z_grid=None, key_estim=\"zmode\",\n",
    "    label='_'.join(['SHIRE_SPS']+(os.path.splitext(pdfs_file_sps)[0]).split('_')[2:]))\n",
    "plt.show()"
   ]
  },
  {
   "cell_type": "markdown",
   "id": "a150989d",
   "metadata": {},
   "source": [
    "### Run the \"Legacy\" estimation"
   ]
  },
  {
   "cell_type": "code",
   "execution_count": null,
   "id": "9f67fbb3-09dd-4860-a28e-c43f6d72ab4d",
   "metadata": {},
   "outputs": [],
   "source": [
    "run_shire_estimate_legacy.modeldict"
   ]
  },
  {
   "cell_type": "code",
   "execution_count": null,
   "id": "4d477994",
   "metadata": {},
   "outputs": [],
   "source": [
    "%%time\n",
    "run_shire_estimate_legacy.estimate(test_hiz)"
   ]
  },
  {
   "cell_type": "code",
   "execution_count": null,
   "id": "8223c82e",
   "metadata": {},
   "outputs": [],
   "source": [
    "pdfs_file_legacy = f\"shireLEG_results_lsstSimhp10552_demo{_suffix}_splithi.hdf5\"\n",
    "custom_res_legacy = qp.read(pdfs_file_legacy)\n",
    "# sz = jnp.array(test_data()['photometry']['redshift']) -- Unnecessary"
   ]
  },
  {
   "cell_type": "code",
   "execution_count": null,
   "id": "7a72b171",
   "metadata": {},
   "outputs": [],
   "source": [
    "a = plot_zp_zs_ensemble(\n",
    "    custom_res_legacy, sz,\n",
    "    z_grid=None, key_estim=\"zmode\",\n",
    "    label='_'.join(['SHIRE_Legacy']+(os.path.splitext(pdfs_file_legacy)[0]).split('_')[2:]))\n",
    "plt.show()"
   ]
  },
  {
   "cell_type": "markdown",
   "id": "22a70e33",
   "metadata": {},
   "source": [
    "### Compare outliers distribution between both methods"
   ]
  },
  {
   "cell_type": "code",
   "execution_count": null,
   "id": "da5d366d",
   "metadata": {},
   "outputs": [],
   "source": [
    "hist_outliers(\n",
    "    custom_res_sps, sz, label1='_'.join(['SHIRE_SPS']+(os.path.splitext(pdfs_file_sps)[0]).split('_')[2:]),\n",
    "    qp_ens_2=custom_res_legacy, label2='_'.join(['SHIRE_Legacy']+(os.path.splitext(pdfs_file_legacy)[0]).split('_')[2:]),\n",
    "    qp_ens_3=custom_res_bpz, label3='_'.join(['BPZ']+(os.path.splitext(pdfs_file_bpz)[0]).split('_')[2:])\n",
    ")\n",
    "plt.show()"
   ]
  },
  {
   "cell_type": "markdown",
   "id": "403322d1",
   "metadata": {},
   "source": [
    "## Evaluate posteriors using `RAIL` "
   ]
  },
  {
   "cell_type": "markdown",
   "id": "bd7114be",
   "metadata": {},
   "source": [
    "Check out [Evaluation_demo_LSSTsim.ipynb](Evaluation_demo_LSSTsim.ipynb) !"
   ]
  },
  {
   "cell_type": "markdown",
   "id": "6410eb96",
   "metadata": {},
   "source": [
    "## Build a pipeline with `ceci`"
   ]
  },
  {
   "cell_type": "code",
   "execution_count": null,
   "id": "acb5935e",
   "metadata": {},
   "outputs": [],
   "source": [
    "import ceci\n",
    "pipe = ceci.Pipeline.interactive()\n",
    "stages = [run_shire_inform_sps, run_shire_estimate_sps]\n",
    "for stage in stages:\n",
    "    pipe.add_stage(stage)\n",
    "pipe.stage_execution_config[f'shireSPS_estimate_lsstSimhp10552_demo{_suffix}_splithi'].nprocess=1"
   ]
  },
  {
   "cell_type": "code",
   "execution_count": null,
   "id": "39ce1411",
   "metadata": {},
   "outputs": [],
   "source": [
    "pipe.initialize(\n",
    "    dict(\n",
    "        training_data_faint=trainFile_faint,\n",
    "        test_data_faint=testFile_faint\n",
    "    ),\n",
    "    dict(\n",
    "        output_dir='.',\n",
    "        log_dir='.',\n",
    "        resume=False\n",
    "    ),\n",
    "    None\n",
    ")"
   ]
  },
  {
   "cell_type": "code",
   "execution_count": null,
   "id": "b54b0b5d",
   "metadata": {},
   "outputs": [],
   "source": [
    "pipe.save(f'rail_shireSPS_lsstsim_pz_demo{_suffix}_splithi.yml')"
   ]
  },
  {
   "cell_type": "code",
   "execution_count": null,
   "id": "4e589666",
   "metadata": {},
   "outputs": [],
   "source": [
    "pr = ceci.Pipeline.read(f'rail_shireSPS_lsstsim_pz_demo{_suffix}_splithi.yml')"
   ]
  },
  {
   "cell_type": "code",
   "execution_count": null,
   "id": "9927b847",
   "metadata": {},
   "outputs": [],
   "source": [
    "#pr.run()"
   ]
  }
 ],
 "metadata": {
  "kernelspec": {
   "display_name": "PhotoZ_GPU",
   "language": "python",
   "name": "condapzf2"
  },
  "language_info": {
   "codemirror_mode": {
    "name": "ipython",
    "version": 3
   },
   "file_extension": ".py",
   "mimetype": "text/x-python",
   "name": "python",
   "nbconvert_exporter": "python",
   "pygments_lexer": "ipython3",
   "version": "3.11.12"
  }
 },
 "nbformat": 4,
 "nbformat_minor": 5
}
